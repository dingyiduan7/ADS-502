{
 "cells": [
  {
   "cell_type": "markdown",
   "id": "54255f74",
   "metadata": {},
   "source": [
    "# Assignment 3.1 [Python & R]\n",
    "\n",
    "## University of San Diego\n",
    "\n",
    "## ADS 502\n",
    "\n",
    "## Dingyi Duan"
   ]
  },
  {
   "cell_type": "markdown",
   "id": "89785296",
   "metadata": {},
   "source": [
    "#### For Exercises 28–34, work with the churn data set.\n"
   ]
  },
  {
   "cell_type": "markdown",
   "id": "7a7d82ee",
   "metadata": {},
   "source": [
    "#### 28. Partition the data set, so that 67% of the records are included in the training data set and 33% are included in the test data set. Use a bar graph to confirm your proportions."
   ]
  },
  {
   "cell_type": "code",
   "execution_count": 1,
   "id": "72adb5cd",
   "metadata": {},
   "outputs": [],
   "source": [
    "import warnings\n",
    "warnings.filterwarnings('ignore')"
   ]
  },
  {
   "cell_type": "code",
   "execution_count": 2,
   "id": "dba260ed",
   "metadata": {},
   "outputs": [],
   "source": [
    "%load_ext rpy2.ipython"
   ]
  },
  {
   "cell_type": "markdown",
   "id": "34fe36af",
   "metadata": {},
   "source": [
    "#### Python Packages"
   ]
  },
  {
   "cell_type": "code",
   "execution_count": 3,
   "id": "f245d7ac",
   "metadata": {},
   "outputs": [],
   "source": [
    "import random\n",
    "import numpy as np\n",
    "import pandas as pd\n",
    "import scipy.stats as stats\n",
    "import matplotlib.pyplot as plt\n",
    "\n",
    "\n",
    "\n",
    "from sklearn.tree import DecisionTreeClassifier, export_graphviz\n",
    "from statsmodels.stats.proportion import proportions_ztest\n",
    "from sklearn.model_selection import train_test_split\n",
    "from sklearn.naive_bayes import MultinomialNB\n",
    "from sklearn.metrics import confusion_matrix"
   ]
  },
  {
   "cell_type": "markdown",
   "id": "b71bba77",
   "metadata": {},
   "source": [
    "#### R Package"
   ]
  },
  {
   "cell_type": "code",
   "execution_count": 4,
   "id": "30567ed9",
   "metadata": {},
   "outputs": [],
   "source": [
    "%%R\n",
    "library(readr)\n",
    "library(ggplot2)\n",
    "library(C50)\n",
    "library(e1071)"
   ]
  },
  {
   "cell_type": "markdown",
   "id": "b001a95e",
   "metadata": {},
   "source": [
    "### Python"
   ]
  },
  {
   "cell_type": "code",
   "execution_count": 5,
   "id": "035bb1b3",
   "metadata": {},
   "outputs": [],
   "source": [
    "churn_py = pd.read_csv(\"D:/2021-Spring-textbooks/ADS-502/Website Data Sets/churn\")"
   ]
  },
  {
   "cell_type": "code",
   "execution_count": 6,
   "id": "bef0da45",
   "metadata": {},
   "outputs": [
    {
     "data": {
      "text/html": [
       "<div>\n",
       "<style scoped>\n",
       "    .dataframe tbody tr th:only-of-type {\n",
       "        vertical-align: middle;\n",
       "    }\n",
       "\n",
       "    .dataframe tbody tr th {\n",
       "        vertical-align: top;\n",
       "    }\n",
       "\n",
       "    .dataframe thead th {\n",
       "        text-align: right;\n",
       "    }\n",
       "</style>\n",
       "<table border=\"1\" class=\"dataframe\">\n",
       "  <thead>\n",
       "    <tr style=\"text-align: right;\">\n",
       "      <th></th>\n",
       "      <th>State</th>\n",
       "      <th>Account Length</th>\n",
       "      <th>Area Code</th>\n",
       "      <th>Phone</th>\n",
       "      <th>Intl Plan</th>\n",
       "      <th>VMail Plan</th>\n",
       "      <th>VMail Message</th>\n",
       "      <th>Day Mins</th>\n",
       "      <th>Day Calls</th>\n",
       "      <th>Day Charge</th>\n",
       "      <th>...</th>\n",
       "      <th>Eve Charge</th>\n",
       "      <th>Night Mins</th>\n",
       "      <th>Night Calls</th>\n",
       "      <th>Night Charge</th>\n",
       "      <th>Intl Mins</th>\n",
       "      <th>Intl Calls</th>\n",
       "      <th>Intl Charge</th>\n",
       "      <th>CustServ Calls</th>\n",
       "      <th>Old Churn</th>\n",
       "      <th>Churn</th>\n",
       "    </tr>\n",
       "  </thead>\n",
       "  <tbody>\n",
       "    <tr>\n",
       "      <th>0</th>\n",
       "      <td>KS</td>\n",
       "      <td>128</td>\n",
       "      <td>415</td>\n",
       "      <td>382-4657</td>\n",
       "      <td>no</td>\n",
       "      <td>yes</td>\n",
       "      <td>25</td>\n",
       "      <td>265.1</td>\n",
       "      <td>110</td>\n",
       "      <td>45.07</td>\n",
       "      <td>...</td>\n",
       "      <td>16.78</td>\n",
       "      <td>244.7</td>\n",
       "      <td>91</td>\n",
       "      <td>11.01</td>\n",
       "      <td>10.0</td>\n",
       "      <td>3</td>\n",
       "      <td>2.70</td>\n",
       "      <td>1</td>\n",
       "      <td>False.</td>\n",
       "      <td>False</td>\n",
       "    </tr>\n",
       "    <tr>\n",
       "      <th>1</th>\n",
       "      <td>OH</td>\n",
       "      <td>107</td>\n",
       "      <td>415</td>\n",
       "      <td>371-7191</td>\n",
       "      <td>no</td>\n",
       "      <td>yes</td>\n",
       "      <td>26</td>\n",
       "      <td>161.6</td>\n",
       "      <td>123</td>\n",
       "      <td>27.47</td>\n",
       "      <td>...</td>\n",
       "      <td>16.62</td>\n",
       "      <td>254.4</td>\n",
       "      <td>103</td>\n",
       "      <td>11.45</td>\n",
       "      <td>13.7</td>\n",
       "      <td>3</td>\n",
       "      <td>3.70</td>\n",
       "      <td>1</td>\n",
       "      <td>False.</td>\n",
       "      <td>False</td>\n",
       "    </tr>\n",
       "    <tr>\n",
       "      <th>2</th>\n",
       "      <td>NJ</td>\n",
       "      <td>137</td>\n",
       "      <td>415</td>\n",
       "      <td>358-1921</td>\n",
       "      <td>no</td>\n",
       "      <td>no</td>\n",
       "      <td>0</td>\n",
       "      <td>243.4</td>\n",
       "      <td>114</td>\n",
       "      <td>41.38</td>\n",
       "      <td>...</td>\n",
       "      <td>10.30</td>\n",
       "      <td>162.6</td>\n",
       "      <td>104</td>\n",
       "      <td>7.32</td>\n",
       "      <td>12.2</td>\n",
       "      <td>5</td>\n",
       "      <td>3.29</td>\n",
       "      <td>0</td>\n",
       "      <td>False.</td>\n",
       "      <td>False</td>\n",
       "    </tr>\n",
       "    <tr>\n",
       "      <th>3</th>\n",
       "      <td>OH</td>\n",
       "      <td>84</td>\n",
       "      <td>408</td>\n",
       "      <td>375-9999</td>\n",
       "      <td>yes</td>\n",
       "      <td>no</td>\n",
       "      <td>0</td>\n",
       "      <td>299.4</td>\n",
       "      <td>71</td>\n",
       "      <td>50.90</td>\n",
       "      <td>...</td>\n",
       "      <td>5.26</td>\n",
       "      <td>196.9</td>\n",
       "      <td>89</td>\n",
       "      <td>8.86</td>\n",
       "      <td>6.6</td>\n",
       "      <td>7</td>\n",
       "      <td>1.78</td>\n",
       "      <td>2</td>\n",
       "      <td>False.</td>\n",
       "      <td>False</td>\n",
       "    </tr>\n",
       "    <tr>\n",
       "      <th>4</th>\n",
       "      <td>OK</td>\n",
       "      <td>75</td>\n",
       "      <td>415</td>\n",
       "      <td>330-6626</td>\n",
       "      <td>yes</td>\n",
       "      <td>no</td>\n",
       "      <td>0</td>\n",
       "      <td>166.7</td>\n",
       "      <td>113</td>\n",
       "      <td>28.34</td>\n",
       "      <td>...</td>\n",
       "      <td>12.61</td>\n",
       "      <td>186.9</td>\n",
       "      <td>121</td>\n",
       "      <td>8.41</td>\n",
       "      <td>10.1</td>\n",
       "      <td>3</td>\n",
       "      <td>2.73</td>\n",
       "      <td>3</td>\n",
       "      <td>False.</td>\n",
       "      <td>False</td>\n",
       "    </tr>\n",
       "  </tbody>\n",
       "</table>\n",
       "<p>5 rows × 22 columns</p>\n",
       "</div>"
      ],
      "text/plain": [
       "  State  Account Length  Area Code     Phone Intl Plan VMail Plan  \\\n",
       "0    KS             128        415  382-4657        no        yes   \n",
       "1    OH             107        415  371-7191        no        yes   \n",
       "2    NJ             137        415  358-1921        no         no   \n",
       "3    OH              84        408  375-9999       yes         no   \n",
       "4    OK              75        415  330-6626       yes         no   \n",
       "\n",
       "   VMail Message  Day Mins  Day Calls  Day Charge  ...  Eve Charge  \\\n",
       "0             25     265.1        110       45.07  ...       16.78   \n",
       "1             26     161.6        123       27.47  ...       16.62   \n",
       "2              0     243.4        114       41.38  ...       10.30   \n",
       "3              0     299.4         71       50.90  ...        5.26   \n",
       "4              0     166.7        113       28.34  ...       12.61   \n",
       "\n",
       "   Night Mins  Night Calls  Night Charge  Intl Mins  Intl Calls  Intl Charge  \\\n",
       "0       244.7           91         11.01       10.0           3         2.70   \n",
       "1       254.4          103         11.45       13.7           3         3.70   \n",
       "2       162.6          104          7.32       12.2           5         3.29   \n",
       "3       196.9           89          8.86        6.6           7         1.78   \n",
       "4       186.9          121          8.41       10.1           3         2.73   \n",
       "\n",
       "   CustServ Calls  Old Churn  Churn  \n",
       "0               1     False.  False  \n",
       "1               1     False.  False  \n",
       "2               0     False.  False  \n",
       "3               2     False.  False  \n",
       "4               3     False.  False  \n",
       "\n",
       "[5 rows x 22 columns]"
      ]
     },
     "execution_count": 6,
     "metadata": {},
     "output_type": "execute_result"
    }
   ],
   "source": [
    "churn_py.head()"
   ]
  },
  {
   "cell_type": "code",
   "execution_count": 7,
   "id": "50575dd6",
   "metadata": {},
   "outputs": [],
   "source": [
    "churn_train_py, churn_test_py = train_test_split(churn_py, test_size = 0.33, random_state = 7)"
   ]
  },
  {
   "cell_type": "code",
   "execution_count": 8,
   "id": "d07088ff",
   "metadata": {},
   "outputs": [
    {
     "name": "stdout",
     "output_type": "stream",
     "text": [
      "churn_train_py has 2233 records \n",
      "churn_test_py has 1100 records\n"
     ]
    }
   ],
   "source": [
    "print ('churn_train_py has %s records'% churn_train_py.shape[0],\n",
    "       '\\nchurn_test_py has %s records'% churn_test_py.shape[0])"
   ]
  },
  {
   "cell_type": "code",
   "execution_count": 9,
   "id": "f95c87b4",
   "metadata": {},
   "outputs": [
    {
     "name": "stdout",
     "output_type": "stream",
     "text": [
      "The proportion for churn_train_py is 67.0 \n",
      "The proportion for churn_test_py is 33.0\n"
     ]
    }
   ],
   "source": [
    "print ('The proportion for churn_train_py is %s'% round(churn_train_py.shape[0]*100/churn_py.shape[0],0),\n",
    "       '\\nThe proportion for churn_test_py is %s'% round(churn_test_py.shape[0]*100/churn_py.shape[0],0))"
   ]
  },
  {
   "cell_type": "code",
   "execution_count": 10,
   "id": "3039697a",
   "metadata": {},
   "outputs": [
    {
     "data": {
      "text/plain": [
       "<BarContainer object of 2 artists>"
      ]
     },
     "execution_count": 10,
     "metadata": {},
     "output_type": "execute_result"
    },
    {
     "data": {
      "image/png": "[encoded data removed]",
      "text/plain": [
       "<Figure size 432x288 with 1 Axes>"
      ]
     },
     "metadata": {
      "needs_background": "light"
     },
     "output_type": "display_data"
    }
   ],
   "source": [
    "names_py = ['churn_train_py', 'churn_test_py']\n",
    "values_pct_py = [round(churn_train_py.shape[0]*100/churn_py.shape[0],0),round(churn_test_py.shape[0]*100/churn_py.shape[0],0)]\n",
    "plt.bar(names_py, values_pct_py)"
   ]
  },
  {
   "cell_type": "markdown",
   "id": "7dcb6e0b",
   "metadata": {},
   "source": [
    "### R"
   ]
  },
  {
   "cell_type": "code",
   "execution_count": 11,
   "id": "7d244e70",
   "metadata": {},
   "outputs": [
    {
     "name": "stdout",
     "output_type": "stream",
     "text": [
      "  State Account.Length Area.Code    Phone Intl.Plan VMail.Plan VMail.Message\n",
      "1    KS            128       415 382-4657        no        yes            25\n",
      "2    OH            107       415 371-7191        no        yes            26\n",
      "3    NJ            137       415 358-1921        no         no             0\n",
      "4    OH             84       408 375-9999       yes         no             0\n",
      "5    OK             75       415 330-6626       yes         no             0\n",
      "6    AL            118       510 391-8027       yes         no             0\n",
      "  Day.Mins Day.Calls Day.Charge Eve.Mins Eve.Calls Eve.Charge Night.Mins\n",
      "1    265.1       110      45.07    197.4        99      16.78      244.7\n",
      "2    161.6       123      27.47    195.5       103      16.62      254.4\n",
      "3    243.4       114      41.38    121.2       110      10.30      162.6\n",
      "4    299.4        71      50.90     61.9        88       5.26      196.9\n",
      "5    166.7       113      28.34    148.3       122      12.61      186.9\n",
      "6    223.4        98      37.98    220.6       101      18.75      203.9\n",
      "  Night.Calls Night.Charge Intl.Mins Intl.Calls Intl.Charge CustServ.Calls\n",
      "1          91        11.01      10.0          3        2.70              1\n",
      "2         103        11.45      13.7          3        3.70              1\n",
      "3         104         7.32      12.2          5        3.29              0\n",
      "4          89         8.86       6.6          7        1.78              2\n",
      "5         121         8.41      10.1          3        2.73              3\n",
      "6         118         9.18       6.3          6        1.70              0\n",
      "  Old.Churn Churn\n",
      "1    False. False\n",
      "2    False. False\n",
      "3    False. False\n",
      "4    False. False\n",
      "5    False. False\n",
      "6    False. False\n"
     ]
    }
   ],
   "source": [
    "%%R\n",
    "churn_r <- read.csv(file = \"D:/2021-Spring-textbooks/ADS-502/Website Data Sets/churn\")\n",
    "set.seed(7)\n",
    "n <- dim(churn_r)[1]\n",
    "head(churn_r)"
   ]
  },
  {
   "cell_type": "code",
   "execution_count": 12,
   "id": "b08f5cd9",
   "metadata": {},
   "outputs": [],
   "source": [
    "%%R\n",
    "train_ind <- runif(dim(churn_r)[1]) <= 0.67 # Determin training data proportion"
   ]
  },
  {
   "cell_type": "code",
   "execution_count": 13,
   "id": "de11f742",
   "metadata": {},
   "outputs": [],
   "source": [
    "%%R\n",
    "# Split training and test datasets\n",
    "churn_train_r <- churn_r[ train_ind, ] \n",
    "churn_test_r <- churn_r[ !train_ind, ]"
   ]
  },
  {
   "cell_type": "code",
   "execution_count": 14,
   "id": "4396ca23",
   "metadata": {},
   "outputs": [
    {
     "name": "stdout",
     "output_type": "stream",
     "text": [
      "[1] 2227\n"
     ]
    }
   ],
   "source": [
    "%%R\n",
    "dim(churn_train_r)[1]"
   ]
  },
  {
   "cell_type": "code",
   "execution_count": 15,
   "id": "aa986ede",
   "metadata": {},
   "outputs": [
    {
     "name": "stdout",
     "output_type": "stream",
     "text": [
      "[1] 1106\n"
     ]
    }
   ],
   "source": [
    "%%R\n",
    "dim(churn_test_r)[1]"
   ]
  },
  {
   "cell_type": "code",
   "execution_count": 16,
   "id": "39a87812",
   "metadata": {},
   "outputs": [
    {
     "data": {
      "image/png": "[encoded data removed]"
     },
     "metadata": {},
     "output_type": "display_data"
    }
   ],
   "source": [
    "%%R\n",
    "values_pct_r <- c((dim(churn_train_r)[1])*100/dim(churn_r)[1],(dim(churn_test_r)[1])*100/dim(churn_r)[1])\n",
    "names_r <- c(\"churn_train_r\",\"churn_test_r\")\n",
    "barplot(values_pct_r,names.arg=names_r,col = rainbow(2))"
   ]
  },
  {
   "cell_type": "markdown",
   "id": "3976e0c6",
   "metadata": {},
   "source": [
    "#### 29. Identify the total number of records in the training data set and how many records in the training data set have a churn value of true."
   ]
  },
  {
   "cell_type": "markdown",
   "id": "85c43071",
   "metadata": {},
   "source": [
    "### Python"
   ]
  },
  {
   "cell_type": "code",
   "execution_count": 17,
   "id": "78b628f5",
   "metadata": {},
   "outputs": [
    {
     "name": "stdout",
     "output_type": "stream",
     "text": [
      "Total number of records in the training data set is  2233\n"
     ]
    }
   ],
   "source": [
    "print('Total number of records in the training data set is ',churn_train_py.shape[0])"
   ]
  },
  {
   "cell_type": "code",
   "execution_count": 18,
   "id": "400c1416",
   "metadata": {},
   "outputs": [
    {
     "name": "stdout",
     "output_type": "stream",
     "text": [
      "Number of records in the training data set have a churn value of true is  320\n"
     ]
    }
   ],
   "source": [
    "print('Number of records in the training data set have a churn value of true is ',churn_train_py['Churn'].sum())"
   ]
  },
  {
   "cell_type": "code",
   "execution_count": 19,
   "id": "8de98cdf",
   "metadata": {},
   "outputs": [
    {
     "data": {
      "text/plain": [
       "False    1913\n",
       "True      320\n",
       "Name: Churn, dtype: int64"
      ]
     },
     "execution_count": 19,
     "metadata": {},
     "output_type": "execute_result"
    }
   ],
   "source": [
    "# Or\n",
    "churn_train_py['Churn'].value_counts()"
   ]
  },
  {
   "cell_type": "markdown",
   "id": "3c82398e",
   "metadata": {},
   "source": [
    "### R"
   ]
  },
  {
   "cell_type": "code",
   "execution_count": 20,
   "id": "7c9e4410",
   "metadata": {},
   "outputs": [
    {
     "name": "stdout",
     "output_type": "stream",
     "text": [
      "[1] \"Total number of records in the training data set is  2227\"\n"
     ]
    }
   ],
   "source": [
    "%%R\n",
    "n_train_r <- dim(churn_train_r)[1]\n",
    "print(paste('Total number of records in the training data set is ',n_train_r))"
   ]
  },
  {
   "cell_type": "code",
   "execution_count": 21,
   "id": "12963b42",
   "metadata": {
    "scrolled": true
   },
   "outputs": [
    {
     "name": "stdout",
     "output_type": "stream",
     "text": [
      "[1] \"Number of records in the training data set have a churn value of true is  325\"\n"
     ]
    }
   ],
   "source": [
    "%%R\n",
    "a <- table(churn_train_r$Churn)[\"True\"]\n",
    "print(paste('Number of records in the training data set have a churn value of true is ',a))"
   ]
  },
  {
   "cell_type": "code",
   "execution_count": 22,
   "id": "61c93514",
   "metadata": {},
   "outputs": [
    {
     "name": "stdout",
     "output_type": "stream",
     "text": [
      "\n",
      "False  True \n",
      " 1902   325 \n"
     ]
    }
   ],
   "source": [
    "%%R\n",
    "# Or\n",
    "table(churn_train_r$Churn)"
   ]
  },
  {
   "cell_type": "markdown",
   "id": "a1f43cef",
   "metadata": {},
   "source": [
    "#### 30. Use your answers from the previous exercise to calculate how many true churn records you need to resample in order to have 20% of the rebalanced data set have true churn values."
   ]
  },
  {
   "cell_type": "markdown",
   "id": "8196df87",
   "metadata": {},
   "source": [
    "### Python"
   ]
  },
  {
   "cell_type": "code",
   "execution_count": 23,
   "id": "eba71033",
   "metadata": {},
   "outputs": [
    {
     "data": {
      "text/plain": [
       "14.33049708911778"
      ]
     },
     "execution_count": 23,
     "metadata": {},
     "output_type": "execute_result"
    }
   ],
   "source": [
    "# Ratio of \"True\" to all Churn in churn_train\n",
    "churn_train_py['Churn'].sum()*100 / churn_train_py.shape[0]"
   ]
  },
  {
   "cell_type": "markdown",
   "id": "666ba99c",
   "metadata": {},
   "source": [
    "Toal churn_train has 2233, Churn == 'True' has 320, which is 14.3% of all samles;\n",
    "We need 20%."
   ]
  },
  {
   "cell_type": "code",
   "execution_count": 24,
   "id": "dfd4468a",
   "metadata": {},
   "outputs": [
    {
     "name": "stdout",
     "output_type": "stream",
     "text": [
      "We need 158 records with Churn == True to add to our training set\n"
     ]
    }
   ],
   "source": [
    "print('We need %s records with Churn == True to add to our training set' % int((0.2*(2233)-320)/0.8))"
   ]
  },
  {
   "cell_type": "markdown",
   "id": "a2b91d52",
   "metadata": {},
   "source": [
    "### R"
   ]
  },
  {
   "cell_type": "code",
   "execution_count": 25,
   "id": "601dd8b0",
   "metadata": {
    "scrolled": true
   },
   "outputs": [
    {
     "name": "stdout",
     "output_type": "stream",
     "text": [
      "[1] \"Current ratio of \\\"Churn == True\\\" to all training set is  14.5936237090256\"\n"
     ]
    }
   ],
   "source": [
    "%%R\n",
    "\n",
    "print(paste('Current ratio of \"Churn == True\" to all training set is ', a*100/n_train_r))"
   ]
  },
  {
   "cell_type": "code",
   "execution_count": 26,
   "id": "6e2b837b",
   "metadata": {},
   "outputs": [
    {
     "name": "stdout",
     "output_type": "stream",
     "text": [
      "[1] \"The number of Churn == True we still need: 158\"\n"
     ]
    }
   ],
   "source": [
    "%%R\n",
    "\n",
    "# We need 20%\n",
    "print(paste('The number of Churn == True we still need:', floor((0.2*(2233)-320)/0.8)))"
   ]
  },
  {
   "cell_type": "markdown",
   "id": "8334e721",
   "metadata": {},
   "source": [
    "#### 31. Perform the rebalancing described in the previous exercise and confirm that 20% of the records in the rebalanced data set have true churn values."
   ]
  },
  {
   "cell_type": "markdown",
   "id": "09325d99",
   "metadata": {},
   "source": [
    "### Python"
   ]
  },
  {
   "cell_type": "code",
   "execution_count": 27,
   "id": "3c07d2b0",
   "metadata": {},
   "outputs": [],
   "source": [
    "to_resample_py = churn_train_py.loc[churn_train_py['Churn'] == True]"
   ]
  },
  {
   "cell_type": "code",
   "execution_count": 28,
   "id": "6046a084",
   "metadata": {},
   "outputs": [],
   "source": [
    "# Sample from our records of interest"
   ]
  },
  {
   "cell_type": "code",
   "execution_count": 29,
   "id": "760614fe",
   "metadata": {},
   "outputs": [],
   "source": [
    "our_resample_py = to_resample_py.sample(n = 158, replace = True) "
   ]
  },
  {
   "cell_type": "code",
   "execution_count": 30,
   "id": "f9c582f1",
   "metadata": {},
   "outputs": [],
   "source": [
    "# Add the resampled records to our original training data set"
   ]
  },
  {
   "cell_type": "code",
   "execution_count": 31,
   "id": "fab4d7c2",
   "metadata": {},
   "outputs": [],
   "source": [
    "churn_train_rebal_py = pd.concat([churn_train_py, our_resample_py], axis=0)"
   ]
  },
  {
   "cell_type": "code",
   "execution_count": 32,
   "id": "e3cbb925",
   "metadata": {},
   "outputs": [
    {
     "data": {
      "text/plain": [
       "478"
      ]
     },
     "execution_count": 32,
     "metadata": {},
     "output_type": "execute_result"
    }
   ],
   "source": [
    "churn_train_rebal_py['Churn'].sum() #The current Churn == True records"
   ]
  },
  {
   "cell_type": "code",
   "execution_count": 33,
   "id": "0ec3c029",
   "metadata": {},
   "outputs": [
    {
     "data": {
      "text/plain": [
       "False    1913\n",
       "True      478\n",
       "Name: Churn, dtype: int64"
      ]
     },
     "execution_count": 33,
     "metadata": {},
     "output_type": "execute_result"
    }
   ],
   "source": [
    "# Or\n",
    "churn_train_rebal_py['Churn'].value_counts()"
   ]
  },
  {
   "cell_type": "code",
   "execution_count": 34,
   "id": "0e204e46",
   "metadata": {},
   "outputs": [],
   "source": [
    "# Proportion of our desired records in the new (rebalanced) train data set"
   ]
  },
  {
   "cell_type": "code",
   "execution_count": 35,
   "id": "de73fdb1",
   "metadata": {},
   "outputs": [
    {
     "data": {
      "text/plain": [
       "19.99"
      ]
     },
     "execution_count": 35,
     "metadata": {},
     "output_type": "execute_result"
    }
   ],
   "source": [
    "round(churn_train_rebal_py['Churn'].sum()*100/churn_train_rebal_py.shape[0],2) "
   ]
  },
  {
   "cell_type": "markdown",
   "id": "9996fbb9",
   "metadata": {},
   "source": [
    "### R"
   ]
  },
  {
   "cell_type": "code",
   "execution_count": 36,
   "id": "fcf0b101",
   "metadata": {},
   "outputs": [],
   "source": [
    "%%R\n",
    "# Identify the record indices we want to resample using which()\n",
    "to.resample_r <- which(churn_train_r$Churn == 'True')"
   ]
  },
  {
   "cell_type": "code",
   "execution_count": 37,
   "id": "f51a2fc2",
   "metadata": {},
   "outputs": [],
   "source": [
    "%%R\n",
    "# Randomly sample from the values in to.resample\n",
    "our.resample_r <- sample(x = to.resample_r, size = 158, replace = TRUE)"
   ]
  },
  {
   "cell_type": "code",
   "execution_count": 38,
   "id": "59459d14",
   "metadata": {},
   "outputs": [],
   "source": [
    "%%R\n",
    "# Get the records whose record numbers are those in our.resample\n",
    "our.resample_r <- churn_train_r[our.resample_r,]"
   ]
  },
  {
   "cell_type": "code",
   "execution_count": 39,
   "id": "9ccc2010",
   "metadata": {},
   "outputs": [],
   "source": [
    "%%R\n",
    "# Add the resampled records back onto our original training data set\n",
    "churn_train_rebal_r <- rbind(churn_train_r, our.resample_r)"
   ]
  },
  {
   "cell_type": "code",
   "execution_count": 40,
   "id": "95c0f318",
   "metadata": {},
   "outputs": [
    {
     "name": "stdout",
     "output_type": "stream",
     "text": [
      "\n",
      "False  True \n",
      " 1902   483 \n"
     ]
    }
   ],
   "source": [
    "%%R\n",
    "t1 <- table(churn_train_rebal_r$Churn)\n",
    "#ratio <- t1[2] / sum(t1) * 100\n",
    "t1"
   ]
  },
  {
   "cell_type": "code",
   "execution_count": 41,
   "id": "613a21a7",
   "metadata": {},
   "outputs": [
    {
     "name": "stdout",
     "output_type": "stream",
     "text": [
      "    True \n",
      "20.25157 \n"
     ]
    }
   ],
   "source": [
    "%%R\n",
    "# Now the new ratio of Churn == True\n",
    "t1['True']*100/dim(churn_train_rebal_r)[1]"
   ]
  },
  {
   "cell_type": "markdown",
   "id": "2810c9d7",
   "metadata": {},
   "source": [
    "#### 32. Which baseline model do we use to compare our classification model performance against? To which value does this baseline model assign all predictions? What is the accuracy of this baseline model?"
   ]
  },
  {
   "cell_type": "markdown",
   "id": "3ae50784",
   "metadata": {},
   "source": [
    "Answer: For binary classification, we use All Positive Model or All Negative Model. \n",
    "\n",
    "All Positive Model assigns all predictors to positive values; All Negative Model assigns all predictors to negative values. \n",
    "\n",
    "The accuracy for All Positive Model will be p which is 14% from our test data set; The accuracy for All Negative Model will be 1-p which will be 86%."
   ]
  },
  {
   "cell_type": "markdown",
   "id": "937547fc",
   "metadata": {},
   "source": [
    "#### 33. Validate your partition by testing for the difference in mean day minutes for the training set versus the test set."
   ]
  },
  {
   "cell_type": "markdown",
   "id": "59f4e65d",
   "metadata": {},
   "source": [
    "### Python"
   ]
  },
  {
   "cell_type": "code",
   "execution_count": 42,
   "id": "01ad81ab",
   "metadata": {},
   "outputs": [
    {
     "data": {
      "text/plain": [
       "179.75302283922974"
      ]
     },
     "execution_count": 42,
     "metadata": {},
     "output_type": "execute_result"
    }
   ],
   "source": [
    "# Before rebalance in train data set\n",
    "mean_day_mins_train_before_py = churn_train_py['Day Mins'].sum() / churn_train_py.shape[0]\n",
    "mean_day_mins_train_before_py\n"
   ]
  },
  {
   "cell_type": "code",
   "execution_count": 43,
   "id": "f7c93834",
   "metadata": {},
   "outputs": [
    {
     "data": {
      "text/plain": [
       "179.81990909090908"
      ]
     },
     "execution_count": 43,
     "metadata": {},
     "output_type": "execute_result"
    }
   ],
   "source": [
    "# Mean days min in test set\n",
    "mean_day_mins_test_py = churn_test_py['Day Mins'].sum() / churn_test_py.shape[0]\n",
    "mean_day_mins_test_py"
   ]
  },
  {
   "cell_type": "markdown",
   "id": "1eea0ce8",
   "metadata": {},
   "source": [
    "Means are very similar, so running t-test"
   ]
  },
  {
   "cell_type": "code",
   "execution_count": 44,
   "id": "4adc9862",
   "metadata": {},
   "outputs": [
    {
     "data": {
      "text/plain": [
       "(3010.977976355374, 2943.552898385955)"
      ]
     },
     "execution_count": 44,
     "metadata": {},
     "output_type": "execute_result"
    }
   ],
   "source": [
    "# Two samples t test\n",
    "np.var(churn_test_py['Day Mins']), np.var(churn_train_py['Day Mins'])"
   ]
  },
  {
   "cell_type": "code",
   "execution_count": 45,
   "id": "b718f6d4",
   "metadata": {},
   "outputs": [
    {
     "data": {
      "text/plain": [
       "Ttest_indResult(statistic=0.03333175951101492, pvalue=0.9734120244442176)"
      ]
     },
     "execution_count": 45,
     "metadata": {},
     "output_type": "execute_result"
    }
   ],
   "source": [
    "# Perform two sample t-test with equal variances\n",
    "stats.ttest_ind(a=churn_test_py['Day Mins'], b=churn_train_py['Day Mins'], equal_var=True)\n"
   ]
  },
  {
   "cell_type": "markdown",
   "id": "ca5349dc",
   "metadata": {},
   "source": [
    "p-value = 0.973 which is greater than 0.05, we fail to reject the null hypothesis of the test. We do not have sufficient evidence to say that the mean day minutes between the two data sets are different."
   ]
  },
  {
   "cell_type": "markdown",
   "id": "f1c490ab",
   "metadata": {},
   "source": [
    "### R"
   ]
  },
  {
   "cell_type": "code",
   "execution_count": 46,
   "id": "3d87dd0e",
   "metadata": {},
   "outputs": [
    {
     "name": "stdout",
     "output_type": "stream",
     "text": [
      "[1] 180.911\n"
     ]
    }
   ],
   "source": [
    "%%R\n",
    "# Before rebalance in train data set\n",
    "mean_day_mins_train_before_r <- sum(churn_train_r$Day.Mins) / dim(churn_train_r)[1]\n",
    "mean_day_mins_train_before_r"
   ]
  },
  {
   "cell_type": "code",
   "execution_count": 47,
   "id": "e064c884",
   "metadata": {},
   "outputs": [
    {
     "name": "stdout",
     "output_type": "stream",
     "text": [
      "[1] 182.5936\n"
     ]
    }
   ],
   "source": [
    "%%R\n",
    "# After rebalance in train data set\n",
    "mean_day_mins_train_rebal_r <- sum(churn_train_rebal_r$Day.Mins) / dim(churn_train_rebal_r)[1]\n",
    "mean_day_mins_train_rebal_r"
   ]
  },
  {
   "cell_type": "code",
   "execution_count": 48,
   "id": "b583c1b5",
   "metadata": {},
   "outputs": [
    {
     "name": "stdout",
     "output_type": "stream",
     "text": [
      "[1] 177.4879\n"
     ]
    }
   ],
   "source": [
    "%%R\n",
    "# Mean days min in test set\n",
    "mean_day_mins_test_r <- sum(churn_test_r$Day.Mins) / dim(churn_test_r)[1]\n",
    "mean_day_mins_test_r"
   ]
  },
  {
   "cell_type": "code",
   "execution_count": 49,
   "id": "fadd95c8",
   "metadata": {},
   "outputs": [
    {
     "name": "stdout",
     "output_type": "stream",
     "text": [
      "\n",
      "\tWelch Two Sample t-test\n",
      "\n",
      "data:  churn_test_r$Day.Mins and churn_train_r$Day.Mins\n",
      "t = -1.7248, df = 2259.7, p-value = 0.08471\n",
      "alternative hypothesis: true difference in means is not equal to 0\n",
      "95 percent confidence interval:\n",
      " -7.315115  0.468881\n",
      "sample estimates:\n",
      "mean of x mean of y \n",
      " 177.4879  180.9110 \n",
      "\n"
     ]
    }
   ],
   "source": [
    "%%R\n",
    "# t-test\n",
    "t.test(churn_test_r$Day.Mins,churn_train_r$Day.Mins)\n"
   ]
  },
  {
   "cell_type": "markdown",
   "id": "c0889f7f",
   "metadata": {},
   "source": [
    "p-value = 0.085 which is greater than 0.05, we fail to reject the null hypothesis of the test. We do not have sufficient evidence to say that the mean day minutes between the two data sets are different."
   ]
  },
  {
   "cell_type": "markdown",
   "id": "b42b8553",
   "metadata": {},
   "source": [
    "#### 34. Validate your partition by testing for the difference in proportion of true churn records for the training set versus the test set."
   ]
  },
  {
   "cell_type": "markdown",
   "id": "6cb60728",
   "metadata": {},
   "source": [
    "### Python"
   ]
  },
  {
   "cell_type": "code",
   "execution_count": 50,
   "id": "5993abaf",
   "metadata": {},
   "outputs": [
    {
     "name": "stdout",
     "output_type": "stream",
     "text": [
      "14.33049708911778\n"
     ]
    }
   ],
   "source": [
    "# Ratio of \"True\" to all Churn in churn_train before rebalance\n",
    "print(churn_train_py['Churn'].sum()*100 / churn_train_py.shape[0])"
   ]
  },
  {
   "cell_type": "code",
   "execution_count": 51,
   "id": "36198722",
   "metadata": {},
   "outputs": [
    {
     "name": "stdout",
     "output_type": "stream",
     "text": [
      "14.818181818181818\n"
     ]
    }
   ],
   "source": [
    "# Ratio of \"True\" to all Churn in churn_test\n",
    "print(churn_test_py['Churn'].sum()*100 / churn_test_py.shape[0])"
   ]
  },
  {
   "cell_type": "markdown",
   "id": "6d2e39fc",
   "metadata": {},
   "source": [
    "Two proportions are similar, running one proportion z-test"
   ]
  },
  {
   "cell_type": "code",
   "execution_count": 52,
   "id": "c89d7a51",
   "metadata": {},
   "outputs": [
    {
     "data": {
      "text/plain": [
       "(-0.6577180599814599, 0.5107193152727614)"
      ]
     },
     "execution_count": 52,
     "metadata": {},
     "output_type": "execute_result"
    }
   ],
   "source": [
    "# Perform one proportion z-test\n",
    "proportions_ztest(count=churn_train_py['Churn'].sum(), nobs=churn_train_py.shape[0], value=churn_test_py['Churn'].sum() / churn_test_py.shape[0])"
   ]
  },
  {
   "cell_type": "markdown",
   "id": "bb2864bc",
   "metadata": {},
   "source": [
    "p-value = 0.51 which is greater than 0.05, we fail to reject the null hypothesis of the test. We do not have sufficient evidence to say that the proportion of true churn records between the two data sets are different."
   ]
  },
  {
   "cell_type": "markdown",
   "id": "ce6d0332",
   "metadata": {},
   "source": [
    "### R"
   ]
  },
  {
   "cell_type": "code",
   "execution_count": 53,
   "id": "75ac35f8",
   "metadata": {},
   "outputs": [
    {
     "name": "stdout",
     "output_type": "stream",
     "text": [
      "    True \n",
      "14.59362 \n"
     ]
    }
   ],
   "source": [
    "%%R\n",
    "# Ratio of \"True\" to all Churn in churn_train before rebalance\n",
    "\n",
    "table(churn_train_r$Churn)[\"True\"]*100 / dim(churn_train_r)[1]"
   ]
  },
  {
   "cell_type": "code",
   "execution_count": 54,
   "id": "8a67b3bd",
   "metadata": {},
   "outputs": [
    {
     "name": "stdout",
     "output_type": "stream",
     "text": [
      "    True \n",
      "14.28571 \n"
     ]
    }
   ],
   "source": [
    "%%R\n",
    "# Ratio of \"True\" to all Churn in churn_test \n",
    "\n",
    "table(churn_test_r$Churn)[\"True\"]*100 / dim(churn_test_r)[1]\n"
   ]
  },
  {
   "cell_type": "code",
   "execution_count": 55,
   "id": "290ca3c5",
   "metadata": {},
   "outputs": [
    {
     "name": "stdout",
     "output_type": "stream",
     "text": [
      "\n",
      "\t2-sample test for equality of proportions with continuity correction\n",
      "\n",
      "data:  c(table(churn_test_r$Churn)[\"True\"], table(churn_train_r$Churn)[\"True\"]) out of c(dim(churn_test_r)[1], dim(churn_train_r)[1])\n",
      "X-squared = 0.034423, df = 1, p-value = 0.8528\n",
      "alternative hypothesis: two.sided\n",
      "95 percent confidence interval:\n",
      " -0.02905977  0.02290158\n",
      "sample estimates:\n",
      "   prop 1    prop 2 \n",
      "0.1428571 0.1459362 \n",
      "\n"
     ]
    }
   ],
   "source": [
    "%%R\n",
    "# t-test\n",
    "prop.test(c(table(churn_test_r$Churn)[\"True\"],table(churn_train_r$Churn)[\"True\"]),c(dim(churn_test_r)[1],dim(churn_train_r)[1]))"
   ]
  },
  {
   "cell_type": "markdown",
   "id": "0669677a",
   "metadata": {},
   "source": [
    "p-value = 0.85 which is greater than 0.05, we fail to reject the null hypothesis of the test. We do not have sufficient evidence to say that the proportion of true churn records between the two data sets are different."
   ]
  },
  {
   "cell_type": "markdown",
   "id": "1efd8c05",
   "metadata": {},
   "source": [
    "#### For the following exercises, work with the adult_ch6_training and adult_ch6_test data sets. Use R to solve each problem."
   ]
  },
  {
   "cell_type": "markdown",
   "id": "7fa8f9b8",
   "metadata": {},
   "source": [
    "### Python"
   ]
  },
  {
   "cell_type": "code",
   "execution_count": 56,
   "id": "e1ce6d01",
   "metadata": {},
   "outputs": [
    {
     "name": "stdout",
     "output_type": "stream",
     "text": [
      "  Marital status Income  Cap_Gains_Losses\n",
      "0  Never-married  <=50K           0.02174\n",
      "1       Divorced  <=50K           0.00000\n",
      "2        Married  <=50K           0.00000\n",
      "3        Married  <=50K           0.00000\n",
      "4        Married  <=50K           0.00000\n",
      "  Marital status Income  Cap_Gains_Losses\n",
      "0        Married  <=50K          0.000000\n",
      "1        Married   >50K          0.051781\n",
      "2  Never-married  <=50K          0.000000\n",
      "3       Divorced   >50K          0.000000\n",
      "4        Married   >50K          0.000000\n"
     ]
    }
   ],
   "source": [
    "adult_train_py = pd.read_csv(\"D:/2021-Spring-textbooks/ADS-502/Website Data Sets/adult_ch6_training\")\n",
    "adult_test_py = pd.read_csv(\"D:/2021-Spring-textbooks/ADS-502/Website Data Sets/adult_ch6_test\")\n",
    "\n",
    "print(adult_train_py.head())\n",
    "print(adult_test_py.head())"
   ]
  },
  {
   "cell_type": "markdown",
   "id": "f30b54b4",
   "metadata": {},
   "source": [
    "### R"
   ]
  },
  {
   "cell_type": "code",
   "execution_count": 125,
   "id": "6c16059c",
   "metadata": {
    "scrolled": true
   },
   "outputs": [
    {
     "name": "stdout",
     "output_type": "stream",
     "text": [
      "  Marital.status Income Cap_Gains_Losses\n",
      "1  Never-married  <=50K          0.02174\n",
      "2       Divorced  <=50K          0.00000\n",
      "3        Married  <=50K          0.00000\n",
      "4        Married  <=50K          0.00000\n",
      "5        Married  <=50K          0.00000\n",
      "6        Married   >50K          0.00000\n",
      "  Marital.status Income Cap_Gains_Losses\n",
      "1        Married  <=50K         0.000000\n",
      "2        Married   >50K         0.051781\n",
      "3  Never-married  <=50K         0.000000\n",
      "4       Divorced   >50K         0.000000\n",
      "5        Married   >50K         0.000000\n",
      "6        Married  <=50K         0.000000\n"
     ]
    }
   ],
   "source": [
    "%%R\n",
    "adult_train_r <- read.csv(file = \"D:/2021-Spring-textbooks/ADS-502/Website Data Sets/adult_ch6_training\")\n",
    "adult_test_r <- read.csv(file = \"D:/2021-Spring-textbooks/ADS-502/Website Data Sets/adult_ch6_test\")\n",
    "\n",
    "print(head(adult_train_r))\n",
    "print(head(adult_test_r))"
   ]
  },
  {
   "cell_type": "code",
   "execution_count": 126,
   "id": "3b3f019c",
   "metadata": {},
   "outputs": [
    {
     "name": "stdout",
     "output_type": "stream",
     "text": [
      "    [1] Never-married Divorced      Married       Married       Married      \n",
      "    [6] Married       Never-married Married       Married       Never-married\n",
      "   [11] Never-married Married       Married       Never-married Never-married\n",
      "   [16] Married       Married       Separated     Married       Married      \n",
      "   [21] Divorced      Married       Never-married Married       Divorced     \n",
      "   [26] Married       Never-married Divorced      Married       Married      \n",
      "   [31] Never-married Married       Married       Married       Married      \n",
      "   [36] Married       Married       Married       Never-married Married      \n",
      "   [41] Never-married Divorced      Divorced      Married       Married      \n",
      "   [46] Married       Married       Married       Married       Married      \n",
      "   [51] Married       Divorced      Married       Divorced      Married      \n",
      "   [56] Never-married Never-married Married       Never-married Married      \n",
      "   [61] Never-married Married       Married       Never-married Married      \n",
      "   [66] Never-married Married       Married       Divorced      Married      \n",
      "   [71] Married       Never-married Never-married Married       Never-married\n",
      "   [76] Married       Divorced      Never-married Married       Never-married\n",
      "   [81] Never-married Never-married Never-married Never-married Married      \n",
      "   [86] Married       Married       Married       Married       Married      \n",
      "   [91] Never-married Never-married Married       Never-married Married      \n",
      "   [96] Never-married Married       Married       Never-married Never-married\n",
      "  [101] Married       Divorced      Married       Never-married Married      \n",
      "  [106] Married       Never-married Never-married Never-married Widowed      \n",
      "  [111] Married       Divorced      Never-married Married       Never-married\n",
      "  [116] Separated     Separated     Divorced      Divorced      Never-married\n",
      "  [121] Married       Divorced      Widowed       Never-married Never-married\n",
      "  [126] Married       Never-married Married       Married       Never-married\n",
      "  [131] Never-married Never-married Married       Married       Divorced     \n",
      "  [136] Never-married Married       Divorced      Divorced      Married      \n",
      "  [141] Divorced      Married       Married       Married       Married      \n",
      "  [146] Divorced      Never-married Married       Never-married Married      \n",
      "  [151] Divorced      Never-married Married       Married       Never-married\n",
      "  [156] Married       Never-married Married       Divorced      Married      \n",
      "  [161] Married       Never-married Married       Divorced      Never-married\n",
      "  [166] Never-married Divorced      Divorced      Divorced      Never-married\n",
      "  [171] Divorced      Never-married Married       Married       Married      \n",
      "  [176] Married       Never-married Divorced      Married       Never-married\n",
      "  [181] Married       Married       Married       Widowed       Never-married\n",
      "  [186] Never-married Never-married Separated     Widowed       Divorced     \n",
      "  [191] Married       Never-married Married       Married       Never-married\n",
      "  [196] Married       Married       Married       Never-married Married      \n",
      "  [201] Married       Never-married Never-married Married       Married      \n",
      "  [206] Divorced      Divorced      Never-married Married       Married      \n",
      "  [211] Never-married Married       Married       Never-married Never-married\n",
      "  [216] Never-married Married       Divorced      Married       Never-married\n",
      "  [221] Divorced      Married       Never-married Married       Never-married\n",
      "  [226] Never-married Married       Married       Never-married Married      \n",
      "  [231] Never-married Divorced      Never-married Never-married Married      \n",
      "  [236] Married       Never-married Widowed       Married       Divorced     \n",
      "  [241] Never-married Married       Never-married Married       Married      \n",
      "  [246] Never-married Never-married Married       Married       Never-married\n",
      "  [251] Never-married Never-married Married       Married       Never-married\n",
      "  [256] Never-married Divorced      Never-married Married       Married      \n",
      "  [261] Married       Married       Married       Widowed       Married      \n",
      "  [266] Married       Married       Divorced      Married       Married      \n",
      "  [271] Married       Divorced      Divorced      Never-married Never-married\n",
      "  [276] Married       Married       Never-married Married       Never-married\n",
      "  [281] Divorced      Married       Divorced      Divorced      Married      \n",
      "  [286] Divorced      Never-married Married       Never-married Never-married\n",
      "  [291] Separated     Married       Never-married Married       Never-married\n",
      "  [296] Married       Married       Never-married Never-married Divorced     \n",
      "  [301] Married       Married       Married       Married       Married      \n",
      "  [306] Divorced      Never-married Divorced      Married       Divorced     \n",
      "  [311] Married       Never-married Separated     Never-married Married      \n",
      "  [316] Divorced      Married       Never-married Married       Married      \n",
      "  [321] Widowed       Married       Never-married Married       Never-married\n",
      "  [326] Married       Married       Never-married Divorced      Never-married\n",
      "  [331] Married       Never-married Never-married Widowed       Married      \n",
      "  [336] Never-married Never-married Married       Married       Married      \n",
      "  [341] Married       Married       Married       Married       Never-married\n",
      "  [346] Married       Married       Married       Never-married Married      \n",
      "  [351] Married       Married       Married       Never-married Never-married\n",
      "  [356] Never-married Never-married Divorced      Never-married Never-married\n",
      "  [361] Never-married Never-married Married       Never-married Married      \n",
      "  [366] Never-married Married       Married       Married       Divorced     \n",
      "  [371] Married       Never-married Divorced      Never-married Divorced     \n",
      "  [376] Divorced      Never-married Never-married Married       Married      \n",
      "  [381] Divorced      Never-married Never-married Married       Separated    \n",
      "  [386] Married       Widowed       Married       Married       Married      \n",
      "  [391] Married       Divorced      Married       Divorced      Married      \n",
      "  [396] Divorced      Married       Married       Divorced      Married      \n",
      "  [401] Married       Married       Widowed       Separated     Never-married\n",
      "  [406] Married       Married       Married       Married       Never-married\n",
      "  [411] Never-married Divorced      Separated     Widowed       Married      \n",
      "  [416] Never-married Married       Married       Married       Never-married\n",
      "  [421] Married       Never-married Married       Separated     Separated    \n",
      "  [426] Never-married Married       Never-married Married       Never-married\n",
      "  [431] Married       Never-married Divorced      Never-married Married      \n",
      "  [436] Married       Married       Never-married Never-married Never-married\n",
      "  [441] Never-married Married       Divorced      Married       Married      \n",
      "  [446] Never-married Never-married Married       Never-married Never-married\n",
      "  [451] Never-married Divorced      Never-married Never-married Never-married\n",
      "  [456] Separated     Divorced      Never-married Married       Never-married\n",
      "  [461] Never-married Never-married Married       Married       Married      \n",
      "  [466] Never-married Widowed       Widowed       Married       Never-married\n",
      "  [471] Married       Married       Married       Married       Never-married\n",
      "  [476] Separated     Married       Married       Never-married Married      \n",
      "  [481] Married       Married       Divorced      Married       Never-married\n",
      "  [486] Married       Separated     Divorced      Married       Married      \n",
      "  [491] Married       Never-married Never-married Married       Never-married\n",
      "  [496] Widowed       Married       Married       Never-married Never-married\n",
      "  [501] Never-married Divorced      Married       Married       Never-married\n",
      "  [506] Divorced      Never-married Never-married Married       Never-married\n",
      "  [511] Married       Never-married Married       Separated     Never-married\n",
      "  [516] Divorced      Married       Never-married Never-married Married      \n",
      "  [521] Married       Never-married Never-married Never-married Never-married\n"
     ]
    },
    {
     "name": "stdout",
     "output_type": "stream",
     "text": [
      "  [526] Married       Divorced      Divorced      Married       Never-married\n",
      "  [531] Married       Divorced      Divorced      Separated     Never-married\n",
      "  [536] Never-married Married       Never-married Married       Married      \n",
      "  [541] Married       Never-married Married       Married       Never-married\n",
      "  [546] Married       Married       Married       Never-married Widowed      \n",
      "  [551] Married       Never-married Never-married Never-married Never-married\n",
      "  [556] Married       Married       Never-married Never-married Married      \n",
      "  [561] Married       Never-married Never-married Never-married Married      \n",
      "  [566] Never-married Married       Never-married Never-married Married      \n",
      "  [571] Married       Never-married Married       Married       Never-married\n",
      "  [576] Never-married Separated     Never-married Divorced      Divorced     \n",
      "  [581] Married       Married       Never-married Married       Never-married\n",
      "  [586] Married       Never-married Married       Never-married Married      \n",
      "  [591] Married       Never-married Never-married Never-married Married      \n",
      "  [596] Never-married Never-married Divorced      Never-married Divorced     \n",
      "  [601] Never-married Married       Married       Never-married Separated    \n",
      "  [606] Divorced      Never-married Never-married Married       Never-married\n",
      "  [611] Married       Married       Never-married Never-married Never-married\n",
      "  [616] Married       Widowed       Separated     Never-married Married      \n",
      "  [621] Married       Never-married Married       Divorced      Divorced     \n",
      "  [626] Never-married Widowed       Never-married Married       Married      \n",
      "  [631] Widowed       Married       Divorced      Divorced      Married      \n",
      "  [636] Widowed       Divorced      Never-married Never-married Never-married\n",
      "  [641] Married       Never-married Never-married Married       Married      \n",
      "  [646] Married       Never-married Never-married Never-married Married      \n",
      "  [651] Separated     Married       Never-married Married       Married      \n",
      "  [656] Never-married Divorced      Married       Never-married Divorced     \n",
      "  [661] Married       Married       Married       Married       Never-married\n",
      "  [666] Married       Married       Divorced      Never-married Married      \n",
      "  [671] Married       Married       Married       Married       Married      \n",
      "  [676] Married       Divorced      Divorced      Never-married Divorced     \n",
      "  [681] Never-married Never-married Married       Never-married Never-married\n",
      "  [686] Never-married Married       Married       Married       Divorced     \n",
      "  [691] Never-married Married       Married       Never-married Married      \n",
      "  [696] Never-married Divorced      Married       Married       Never-married\n",
      "  [701] Divorced      Divorced      Divorced      Married       Widowed      \n",
      "  [706] Married       Married       Married       Divorced      Married      \n",
      "  [711] Married       Divorced      Married       Divorced      Married      \n",
      "  [716] Never-married Married       Married       Married       Married      \n",
      "  [721] Never-married Never-married Never-married Never-married Married      \n",
      "  [726] Widowed       Never-married Never-married Never-married Never-married\n",
      "  [731] Widowed       Divorced      Never-married Divorced      Divorced     \n",
      "  [736] Widowed       Never-married Married       Married       Married      \n",
      "  [741] Never-married Divorced      Divorced      Married       Never-married\n",
      "  [746] Married       Married       Married       Separated     Married      \n",
      "  [751] Married       Married       Divorced      Never-married Married      \n",
      "  [756] Married       Married       Married       Married       Widowed      \n",
      "  [761] Divorced      Never-married Never-married Married       Separated    \n",
      "  [766] Never-married Married       Never-married Married       Married      \n",
      "  [771] Married       Never-married Never-married Never-married Never-married\n",
      "  [776] Never-married Married       Never-married Married       Never-married\n",
      "  [781] Divorced      Married       Never-married Divorced      Never-married\n",
      "  [786] Married       Married       Married       Married       Married      \n",
      "  [791] Divorced      Married       Married       Divorced      Married      \n",
      "  [796] Married       Married       Married       Separated     Married      \n",
      "  [801] Never-married Married       Married       Never-married Married      \n",
      "  [806] Married       Married       Never-married Never-married Never-married\n",
      "  [811] Never-married Married       Married       Divorced      Married      \n",
      "  [816] Married       Married       Married       Married       Divorced     \n",
      "  [821] Married       Never-married Married       Divorced      Married      \n",
      "  [826] Never-married Married       Married       Married       Married      \n",
      "  [831] Never-married Never-married Married       Married       Married      \n",
      "  [836] Married       Married       Divorced      Married       Married      \n",
      "  [841] Married       Married       Married       Married       Divorced     \n",
      "  [846] Widowed       Divorced      Married       Never-married Divorced     \n",
      "  [851] Never-married Never-married Married       Married       Married      \n",
      "  [856] Married       Never-married Married       Never-married Married      \n",
      "  [861] Never-married Married       Married       Married       Never-married\n",
      "  [866] Widowed       Married       Married       Married       Married      \n",
      "  [871] Never-married Married       Divorced      Divorced      Never-married\n",
      "  [876] Married       Married       Never-married Never-married Married      \n",
      "  [881] Divorced      Married       Married       Married       Never-married\n",
      "  [886] Never-married Married       Married       Divorced      Married      \n",
      "  [891] Married       Never-married Married       Married       Married      \n",
      "  [896] Never-married Married       Married       Never-married Married      \n",
      "  [901] Married       Divorced      Married       Never-married Married      \n",
      "  [906] Married       Married       Married       Married       Never-married\n",
      "  [911] Married       Married       Divorced      Married       Married      \n",
      "  [916] Divorced      Married       Separated     Never-married Never-married\n",
      "  [921] Never-married Separated     Married       Never-married Widowed      \n",
      "  [926] Married       Divorced      Married       Never-married Married      \n",
      "  [931] Married       Never-married Married       Married       Separated    \n",
      "  [936] Married       Widowed       Widowed       Never-married Never-married\n",
      "  [941] Married       Married       Never-married Never-married Never-married\n",
      "  [946] Married       Married       Married       Married       Never-married\n",
      "  [951] Divorced      Married       Never-married Married       Married      \n",
      "  [956] Married       Married       Married       Never-married Married      \n",
      "  [961] Married       Never-married Never-married Married       Married      \n",
      "  [966] Married       Married       Never-married Married       Married      \n",
      "  [971] Married       Married       Never-married Married       Married      \n",
      "  [976] Widowed       Never-married Never-married Married       Never-married\n",
      "  [981] Married       Widowed       Never-married Never-married Never-married\n",
      "  [986] Never-married Married       Married       Never-married Married      \n",
      "  [991] Married       Never-married Divorced      Never-married Never-married\n",
      "  [996] Married       Married       Married       Married       Divorced     \n",
      " [1001] Married       Never-married Never-married Never-married Never-married\n",
      " [1006] Never-married Married       Never-married Divorced      Never-married\n",
      " [1011] Divorced      Widowed       Never-married Married       Never-married\n",
      " [1016] Married       Never-married Divorced      Married       Married      \n",
      " [1021] Married       Divorced      Never-married Never-married Never-married\n",
      " [1026] Married       Divorced      Never-married Married       Divorced     \n",
      " [1031] Never-married Never-married Married       Married       Married      \n",
      " [1036] Never-married Married       Divorced      Married       Divorced     \n",
      " [1041] Divorced      Divorced      Married       Widowed       Married      \n",
      " [1046] Married       Married       Married       Never-married Married      \n"
     ]
    },
    {
     "name": "stdout",
     "output_type": "stream",
     "text": [
      " [1051] Never-married Never-married Married       Never-married Divorced     \n",
      " [1056] Married       Married       Married       Never-married Married      \n",
      " [1061] Married       Divorced      Divorced      Never-married Never-married\n",
      " [1066] Married       Never-married Married       Divorced      Married      \n",
      " [1071] Married       Married       Married       Married       Married      \n",
      " [1076] Married       Married       Divorced      Widowed       Never-married\n",
      " [1081] Married       Married       Divorced      Widowed       Married      \n",
      " [1086] Married       Never-married Divorced      Married       Married      \n",
      " [1091] Divorced      Never-married Married       Never-married Never-married\n",
      " [1096] Married       Never-married Married       Divorced      Never-married\n",
      " [1101] Never-married Married       Never-married Married       Married      \n",
      " [1106] Never-married Divorced      Divorced      Married       Married      \n",
      " [1111] Married       Never-married Married       Divorced      Married      \n",
      " [1116] Never-married Married       Divorced      Never-married Married      \n",
      " [1121] Married       Married       Married       Never-married Married      \n",
      " [1126] Married       Married       Married       Married       Married      \n",
      " [1131] Married       Married       Never-married Never-married Divorced     \n",
      " [1136] Divorced      Never-married Never-married Never-married Divorced     \n",
      " [1141] Married       Married       Divorced      Married       Divorced     \n",
      " [1146] Married       Divorced      Never-married Married       Married      \n",
      " [1151] Divorced      Married       Separated     Divorced      Married      \n",
      " [1156] Never-married Married       Married       Never-married Never-married\n",
      " [1161] Divorced      Never-married Married       Divorced      Never-married\n",
      " [1166] Never-married Never-married Never-married Married       Married      \n",
      " [1171] Married       Never-married Never-married Married       Never-married\n",
      " [1176] Never-married Separated     Married       Never-married Never-married\n",
      " [1181] Never-married Widowed       Married       Divorced      Married      \n",
      " [1186] Married       Divorced      Divorced      Never-married Never-married\n",
      " [1191] Married       Never-married Married       Never-married Married      \n",
      " [1196] Never-married Never-married Never-married Married       Never-married\n",
      " [1201] Married       Never-married Separated     Married       Divorced     \n",
      " [1206] Divorced      Married       Married       Married       Never-married\n",
      " [1211] Married       Married       Never-married Married       Married      \n",
      " [1216] Never-married Married       Never-married Married       Married      \n",
      " [1221] Married       Divorced      Married       Married       Married      \n",
      " [1226] Divorced      Never-married Divorced      Married       Married      \n",
      " [1231] Married       Married       Married       Married       Divorced     \n",
      " [1236] Never-married Married       Never-married Married       Married      \n",
      " [1241] Married       Married       Never-married Married       Married      \n",
      " [1246] Never-married Married       Divorced      Never-married Married      \n",
      " [1251] Married       Never-married Married       Never-married Divorced     \n",
      " [1256] Married       Never-married Married       Married       Divorced     \n",
      " [1261] Married       Married       Married       Never-married Never-married\n",
      " [1266] Married       Divorced      Never-married Never-married Never-married\n",
      " [1271] Married       Married       Married       Married       Divorced     \n",
      " [1276] Married       Divorced      Never-married Married       Widowed      \n",
      " [1281] Married       Widowed       Married       Married       Divorced     \n",
      " [1286] Divorced      Married       Married       Married       Divorced     \n",
      " [1291] Divorced      Married       Married       Married       Never-married\n",
      " [1296] Never-married Never-married Never-married Never-married Married      \n",
      " [1301] Never-married Divorced      Married       Never-married Married      \n",
      " [1306] Widowed       Never-married Never-married Widowed       Never-married\n",
      " [1311] Divorced      Divorced      Divorced      Married       Married      \n",
      " [1316] Married       Divorced      Married       Never-married Married      \n",
      " [1321] Married       Married       Married       Married       Married      \n",
      " [1326] Married       Married       Married       Married       Married      \n",
      " [1331] Never-married Married       Never-married Married       Married      \n",
      " [1336] Divorced      Never-married Never-married Married       Married      \n",
      " [1341] Never-married Married       Married       Divorced      Widowed      \n",
      " [1346] Married       Never-married Never-married Married       Married      \n",
      " [1351] Married       Married       Widowed       Never-married Married      \n",
      " [1356] Divorced      Married       Never-married Married       Divorced     \n",
      " [1361] Never-married Never-married Married       Divorced      Never-married\n",
      " [1366] Never-married Married       Married       Divorced      Married      \n",
      " [1371] Never-married Married       Never-married Never-married Married      \n",
      " [1376] Married       Married       Never-married Divorced      Never-married\n",
      " [1381] Never-married Never-married Never-married Married       Divorced     \n",
      " [1386] Married       Married       Married       Never-married Divorced     \n",
      " [1391] Divorced      Married       Married       Never-married Never-married\n",
      " [1396] Never-married Married       Separated     Married       Never-married\n",
      " [1401] Divorced      Married       Never-married Never-married Never-married\n",
      " [1406] Never-married Never-married Married       Widowed       Divorced     \n",
      " [1411] Widowed       Separated     Married       Never-married Married      \n",
      " [1416] Never-married Widowed       Never-married Never-married Married      \n",
      " [1421] Married       Divorced      Never-married Married       Married      \n",
      " [1426] Married       Never-married Married       Married       Divorced     \n",
      " [1431] Married       Married       Never-married Never-married Separated    \n",
      " [1436] Married       Never-married Never-married Never-married Never-married\n",
      " [1441] Never-married Divorced      Married       Married       Married      \n",
      " [1446] Separated     Married       Married       Never-married Married      \n",
      " [1451] Married       Never-married Married       Divorced      Never-married\n",
      " [1456] Married       Married       Married       Married       Married      \n",
      " [1461] Never-married Widowed       Married       Never-married Married      \n",
      " [1466] Married       Married       Never-married Never-married Never-married\n",
      " [1471] Married       Separated     Never-married Married       Never-married\n",
      " [1476] Never-married Married       Divorced      Married       Married      \n",
      " [1481] Never-married Married       Married       Married       Never-married\n",
      " [1486] Never-married Never-married Never-married Never-married Divorced     \n",
      " [1491] Married       Married       Married       Divorced      Never-married\n",
      " [1496] Never-married Married       Married       Separated     Never-married\n",
      " [1501] Never-married Never-married Never-married Never-married Never-married\n",
      " [1506] Married       Never-married Never-married Never-married Married      \n",
      " [1511] Divorced      Divorced      Married       Never-married Never-married\n",
      " [1516] Married       Married       Married       Married       Married      \n",
      " [1521] Separated     Married       Married       Never-married Widowed      \n",
      " [1526] Married       Married       Divorced      Never-married Never-married\n",
      " [1531] Never-married Married       Married       Married       Never-married\n",
      " [1536] Never-married Married       Never-married Never-married Never-married\n",
      " [1541] Divorced      Married       Divorced      Married       Married      \n",
      " [1546] Divorced      Married       Married       Married       Never-married\n",
      " [1551] Divorced      Never-married Separated     Divorced      Married      \n",
      " [1556] Married       Married       Never-married Married       Married      \n",
      " [1561] Married       Never-married Divorced      Married       Never-married\n",
      " [1566] Married       Never-married Married       Married       Married      \n",
      " [1571] Divorced      Married       Never-married Married       Married      \n"
     ]
    },
    {
     "name": "stdout",
     "output_type": "stream",
     "text": [
      " [1576] Married       Married       Married       Separated     Married      \n",
      " [1581] Never-married Never-married Divorced      Divorced      Widowed      \n",
      " [1586] Never-married Married       Never-married Never-married Never-married\n",
      " [1591] Never-married Never-married Never-married Never-married Married      \n",
      " [1596] Married       Separated     Divorced      Never-married Never-married\n",
      " [1601] Married       Never-married Never-married Divorced      Never-married\n",
      " [1606] Married       Widowed       Widowed       Widowed       Divorced     \n",
      " [1611] Married       Married       Never-married Married       Never-married\n",
      " [1616] Never-married Married       Widowed       Married       Married      \n",
      " [1621] Married       Never-married Never-married Married       Never-married\n",
      " [1626] Divorced      Separated     Married       Separated     Married      \n",
      " [1631] Married       Married       Married       Divorced      Married      \n",
      " [1636] Married       Married       Married       Married       Divorced     \n",
      " [1641] Never-married Never-married Widowed       Married       Separated    \n",
      " [1646] Married       Married       Married       Never-married Married      \n",
      " [1651] Widowed       Never-married Separated     Married       Never-married\n",
      " [1656] Divorced      Never-married Never-married Married       Never-married\n",
      " [1661] Divorced      Never-married Never-married Never-married Never-married\n",
      " [1666] Separated     Separated     Married       Married       Never-married\n",
      " [1671] Married       Married       Married       Married       Never-married\n",
      " [1676] Married       Married       Married       Married       Married      \n",
      " [1681] Divorced      Divorced      Never-married Divorced      Never-married\n",
      " [1686] Married       Never-married Married       Never-married Married      \n",
      " [1691] Never-married Married       Divorced      Divorced      Never-married\n",
      " [1696] Married       Never-married Never-married Married       Married      \n",
      " [1701] Never-married Married       Widowed       Married       Never-married\n",
      " [1706] Never-married Never-married Married       Never-married Never-married\n",
      " [1711] Married       Married       Divorced      Never-married Married      \n",
      " [1716] Divorced      Never-married Never-married Divorced      Married      \n",
      " [1721] Separated     Separated     Never-married Married       Married      \n",
      " [1726] Married       Never-married Married       Widowed       Widowed      \n",
      " [1731] Married       Married       Never-married Married       Widowed      \n",
      " [1736] Never-married Married       Never-married Married       Married      \n",
      " [1741] Married       Widowed       Married       Divorced      Married      \n",
      " [1746] Married       Separated     Married       Married       Never-married\n",
      " [1751] Divorced      Married       Never-married Never-married Married      \n",
      " [1756] Married       Married       Never-married Married       Never-married\n",
      " [1761] Divorced      Never-married Married       Married       Separated    \n",
      " [1766] Married       Married       Married       Married       Never-married\n",
      " [1771] Never-married Separated     Never-married Separated     Never-married\n",
      " [1776] Married       Separated     Married       Never-married Divorced     \n",
      " [1781] Never-married Separated     Divorced      Never-married Never-married\n",
      " [1786] Never-married Married       Never-married Married       Married      \n",
      " [1791] Married       Married       Married       Never-married Married      \n",
      " [1796] Never-married Never-married Never-married Divorced      Married      \n",
      " [1801] Married       Married       Married       Never-married Never-married\n",
      " [1806] Married       Never-married Never-married Divorced      Married      \n",
      " [1811] Married       Never-married Never-married Married       Married      \n",
      " [1816] Never-married Married       Married       Married       Never-married\n",
      " [1821] Married       Married       Married       Married       Never-married\n",
      " [1826] Never-married Never-married Never-married Married       Married      \n",
      " [1831] Divorced      Never-married Never-married Married       Divorced     \n",
      " [1836] Never-married Separated     Divorced      Never-married Married      \n",
      " [1841] Divorced      Divorced      Married       Divorced      Married      \n",
      " [1846] Never-married Married       Divorced      Married       Married      \n",
      " [1851] Divorced      Divorced      Married       Married       Married      \n",
      " [1856] Never-married Separated     Married       Separated     Married      \n",
      " [1861] Married       Never-married Married       Married       Married      \n",
      " [1866] Divorced      Married       Divorced      Divorced      Married      \n",
      " [1871] Never-married Never-married Divorced      Married       Never-married\n",
      " [1876] Married       Divorced      Married       Never-married Married      \n",
      " [1881] Never-married Married       Never-married Married       Married      \n",
      " [1886] Never-married Never-married Married       Married       Never-married\n",
      " [1891] Married       Divorced      Divorced      Never-married Never-married\n",
      " [1896] Never-married Never-married Divorced      Never-married Never-married\n",
      " [1901] Separated     Married       Widowed       Divorced      Married      \n",
      " [1906] Never-married Divorced      Married       Never-married Married      \n",
      " [1911] Never-married Never-married Married       Never-married Married      \n",
      " [1916] Married       Divorced      Never-married Married       Married      \n",
      " [1921] Never-married Married       Married       Never-married Separated    \n",
      " [1926] Married       Never-married Married       Married       Married      \n",
      " [1931] Married       Married       Married       Divorced      Divorced     \n",
      " [1936] Never-married Married       Married       Never-married Never-married\n",
      " [1941] Widowed       Never-married Married       Married       Married      \n",
      " [1946] Divorced      Divorced      Never-married Married       Never-married\n",
      " [1951] Never-married Married       Married       Never-married Married      \n",
      " [1956] Widowed       Never-married Never-married Married       Married      \n",
      " [1961] Married       Never-married Married       Never-married Married      \n",
      " [1966] Married       Married       Divorced      Never-married Married      \n",
      " [1971] Never-married Married       Married       Married       Never-married\n",
      " [1976] Married       Never-married Married       Divorced      Never-married\n",
      " [1981] Never-married Married       Married       Never-married Married      \n",
      " [1986] Married       Married       Never-married Never-married Married      \n",
      " [1991] Married       Married       Separated     Divorced      Married      \n",
      " [1996] Never-married Married       Separated     Widowed       Married      \n",
      " [2001] Never-married Married       Married       Never-married Widowed      \n",
      " [2006] Married       Married       Married       Married       Married      \n",
      " [2011] Divorced      Married       Married       Married       Married      \n",
      " [2016] Divorced      Married       Divorced      Divorced      Never-married\n",
      " [2021] Married       Never-married Divorced      Divorced      Never-married\n",
      " [2026] Divorced      Widowed       Married       Divorced      Divorced     \n",
      " [2031] Married       Never-married Married       Never-married Never-married\n",
      " [2036] Never-married Never-married Never-married Never-married Married      \n",
      " [2041] Never-married Divorced      Married       Never-married Married      \n",
      " [2046] Married       Married       Married       Married       Married      \n",
      " [2051] Divorced      Married       Never-married Divorced      Divorced     \n",
      " [2056] Married       Married       Never-married Married       Separated    \n",
      " [2061] Married       Married       Divorced      Married       Never-married\n",
      " [2066] Divorced      Never-married Married       Divorced      Never-married\n",
      " [2071] Married       Married       Never-married Divorced      Married      \n",
      " [2076] Never-married Widowed       Married       Never-married Divorced     \n",
      " [2081] Widowed       Divorced      Divorced      Married       Divorced     \n",
      " [2086] Married       Never-married Married       Never-married Married      \n",
      " [2091] Married       Never-married Separated     Widowed       Divorced     \n",
      " [2096] Never-married Widowed       Married       Never-married Never-married\n"
     ]
    },
    {
     "name": "stdout",
     "output_type": "stream",
     "text": [
      " [2101] Married       Married       Never-married Married       Never-married\n",
      " [2106] Divorced      Never-married Married       Married       Married      \n",
      " [2111] Married       Married       Never-married Never-married Divorced     \n",
      " [2116] Married       Married       Divorced      Married       Married      \n",
      " [2121] Married       Never-married Married       Married       Never-married\n",
      " [2126] Married       Never-married Divorced      Never-married Never-married\n",
      " [2131] Never-married Married       Married       Divorced      Married      \n",
      " [2136] Divorced      Never-married Never-married Married       Divorced     \n",
      " [2141] Married       Married       Never-married"
     ]
    },
    {
     "name": "stderr",
     "output_type": "stream",
     "text": [
      "IOPub message rate exceeded.\n",
      "The notebook server will temporarily stop sending output\n",
      "to the client in order to avoid crashing it.\n",
      "To change this limit, set the config variable\n",
      "`--NotebookApp.iopub_msg_rate_limit`.\n",
      "\n",
      "Current values:\n",
      "NotebookApp.iopub_msg_rate_limit=1000.0 (msgs/sec)\n",
      "NotebookApp.rate_limit_window=3.0 (secs)\n",
      "\n"
     ]
    },
    {
     "name": "stdout",
     "output_type": "stream",
     "text": [
      " Never-married\n",
      " [3521] Married       Never-married Widowed       Divorced      Never-married\n",
      " [3526] Never-married Never-married Never-married Never-married Never-married\n",
      " [3531] Never-married Married       Married       Never-married Widowed      \n",
      " [3536] Never-married Married       Married       Married       Married      \n",
      " [3541] Married       Married       Married       Married       Never-married\n",
      " [3546] Widowed       Divorced      Married       Never-married Divorced     \n",
      " [3551] Divorced      Married       Married       Never-married Married      \n",
      " [3556] Never-married Never-married Married       Divorced      Never-married\n",
      " [3561] Never-married Never-married Married       Never-married Never-married\n",
      " [3566] Married       Separated     Married       Never-married Married      \n",
      " [3571] Married       Married       Married       Divorced      Married      \n",
      " [3576] Married       Married       Never-married Married       Never-married\n",
      " [3581] Never-married Never-married Married       Never-married Married      \n",
      " [3586] Divorced      Married       Never-married Divorced      Divorced     \n",
      " [3591] Married       Never-married Married       Never-married Never-married\n",
      " [3596] Married       Divorced      Never-married Married       Divorced     \n",
      " [3601] Married       Divorced      Divorced      Married       Married      \n",
      " [3606] Divorced      Never-married Divorced      Never-married Married      \n",
      " [3611] Separated     Married       Married       Married       Married      \n",
      " [3616] Separated     Married       Married       Never-married Never-married\n",
      " [3621] Never-married Never-married Never-married Never-married Married      \n",
      " [3626] Married       Never-married Married       Never-married Never-married\n",
      " [3631] Married       Never-married Married       Married       Married      \n",
      " [3636] Never-married Divorced      Married       Divorced      Never-married\n",
      " [3641] Married       Never-married Married       Separated     Never-married\n",
      " [3646] Married       Married       Married       Never-married Never-married\n",
      " [3651] Never-married Never-married Never-married Married       Married      \n",
      " [3656] Never-married Married       Married       Married       Never-married\n",
      " [3661] Married       Widowed       Never-married Married       Widowed      \n",
      " [3666] Married       Never-married Never-married Married       Never-married\n",
      " [3671] Never-married Married       Never-married Married       Never-married\n",
      " [3676] Divorced      Never-married Separated     Divorced      Never-married\n",
      " [3681] Divorced      Separated     Married       Never-married Married      \n",
      " [3686] Married       Married       Married       Married       Married      \n",
      " [3691] Married       Never-married Divorced      Married       Married      \n",
      " [3696] Married       Married       Divorced      Married       Widowed      \n",
      " [3701] Never-married Never-married Never-married Married       Never-married\n",
      " [3706] Never-married Married       Never-married Never-married Married      \n",
      " [3711] Married       Married       Married       Divorced      Married      \n",
      " [3716] Separated     Never-married Never-married Married       Never-married\n",
      " [3721] Married       Separated     Married       Never-married Married      \n",
      " [3726] Never-married Married       Married       Never-married Divorced     \n",
      " [3731] Never-married Married       Never-married Married       Married      \n",
      " [3736] Married       Married       Never-married Never-married Married      \n",
      " [3741] Divorced      Married       Divorced      Never-married Never-married\n",
      " [3746] Never-married Married       Married       Married       Married      \n",
      " [3751] Married       Never-married Never-married Married       Married      \n",
      " [3756] Married       Married       Married       Divorced      Divorced     \n",
      " [3761] Married       Married       Married       Separated     Married      \n",
      " [3766] Married       Separated     Married       Never-married Never-married\n",
      " [3771] Married       Married       Divorced      Married       Married      \n",
      " [3776] Married       Married       Married       Never-married Married      \n",
      " [3781] Married       Married       Married       Married       Never-married\n",
      " [3786] Divorced      Married       Married       Separated     Never-married\n",
      " [3791] Never-married Married       Married       Never-married Married      \n",
      " [3796] Married       Divorced      Divorced      Married       Divorced     \n",
      " [3801] Widowed       Married       Married       Married       Married      \n",
      " [3806] Married       Married       Never-married Married       Married      \n",
      " [3811] Never-married Married       Married       Never-married Married      \n",
      " [3816] Never-married Never-married Married       Divorced      Married      \n",
      " [3821] Married       Never-married Married       Never-married Widowed      \n",
      " [3826] Never-married Married       Divorced      Married       Never-married\n",
      " [3831] Widowed       Married       Widowed       Never-married Never-married\n",
      " [3836] Married       Married       Never-married Divorced      Married      \n",
      " [3841] Separated     Never-married Married       Married       Divorced     \n",
      " [3846] Never-married Divorced      Married       Widowed       Married      \n",
      " [3851] Married       Married       Never-married Married       Never-married\n",
      " [3856] Married       Married       Married       Married       Married      \n",
      " [3861] Married       Never-married Married       Divorced      Divorced     \n",
      " [3866] Married       Divorced      Never-married Married       Never-married\n",
      " [3871] Married       Married       Married       Married       Divorced     \n",
      " [3876] Married       Married       Divorced      Never-married Married      \n",
      " [3881] Never-married Never-married Never-married Never-married Divorced     \n",
      " [3886] Never-married Never-married Never-married Married       Never-married\n",
      " [3891] Married       Never-married Never-married Married       Married      \n",
      " [3896] Never-married Married       Divorced      Married       Married      \n",
      " [3901] Married       Never-married Married       Divorced      Divorced     \n",
      " [3906] Married       Married       Never-married Married       Never-married\n",
      " [3911] Married       Never-married Never-married Married       Married      \n",
      " [3916] Married       Divorced      Never-married Married       Married      \n",
      " [3921] Married       Never-married Never-married Married       Divorced     \n",
      " [3926] Never-married Never-married Never-married Never-married Never-married\n",
      " [3931] Never-married Divorced      Never-married Never-married Married      \n",
      " [3936] Married       Divorced      Never-married Never-married Married      \n",
      " [3941] Married       Never-married Married       Married       Married      \n",
      " [3946] Divorced      Never-married Married       Married       Never-married\n",
      " [3951] Married       Widowed       Never-married Divorced      Married      \n",
      " [3956] Married       Married       Married       Divorced      Married      \n",
      " [3961] Never-married Married       Separated     Never-married Divorced     \n",
      " [3966] Never-married Married       Never-married Married       Never-married\n",
      " [3971] Never-married Married       Married       Married       Never-married\n",
      " [3976] Never-married Married       Divorced      Married       Married      \n",
      " [3981] Married       Married       Never-married Never-married Divorced     \n",
      " [3986] Divorced      Never-married Divorced      Divorced      Never-married\n",
      " [3991] Married       Never-married Divorced      Married       Married      \n",
      " [3996] Never-married Married       Never-married Married       Never-married\n",
      " [4001] Never-married Divorced      Married       Never-married Married      \n",
      " [4006] Married       Never-married Never-married Married       Married      \n",
      " [4011] Never-married Married       Married       Never-married Married      \n",
      " [4016] Married       Married       Separated     Married       Married      \n",
      " [4021] Never-married Married       Never-married Never-married Divorced     \n",
      " [4026] Married       Married       Divorced      Divorced      Married      \n",
      " [4031] Widowed       Never-married Married       Never-married Divorced     \n",
      " [4036] Married       Married       Married       Married       Divorced     \n"
     ]
    },
    {
     "name": "stdout",
     "output_type": "stream",
     "text": [
      " [4041] Married       Divorced      Married       Widowed       Never-married\n",
      " [4046] Divorced      Married       Never-married Married       Married      \n",
      " [4051] Married       Married       Married       Never-married Divorced     \n",
      " [4056] Never-married Married       Never-married Married       Married      \n",
      " [4061] Divorced      Married       Married       Divorced      Divorced     \n",
      " [4066] Never-married Never-married Married       Divorced      Never-married\n",
      " [4071] Married       Married       Never-married Never-married Never-married\n",
      " [4076] Never-married Separated     Divorced      Married       Married      \n",
      " [4081] Married       Never-married Never-married Married       Divorced     \n",
      " [4086] Divorced      Never-married Never-married Never-married Divorced     \n",
      " [4091] Widowed       Never-married Married       Married       Never-married\n",
      " [4096] Married       Married       Married       Never-married Never-married\n",
      " [4101] Married       Divorced      Married       Married       Married      \n",
      " [4106] Divorced      Never-married Divorced      Never-married Married      \n",
      " [4111] Never-married Divorced      Married       Divorced      Divorced     \n",
      " [4116] Married       Divorced      Never-married Never-married Never-married\n",
      " [4121] Married       Never-married Never-married Married       Never-married\n",
      " [4126] Widowed       Never-married Divorced      Never-married Never-married\n",
      " [4131] Married       Never-married Never-married Married       Never-married\n",
      " [4136] Never-married Never-married Separated     Divorced      Divorced     \n",
      " [4141] Divorced      Separated     Never-married Married       Married      \n",
      " [4146] Never-married Married       Married       Never-married Married      \n",
      " [4151] Separated     Separated     Never-married Married       Married      \n",
      " [4156] Never-married Separated     Married       Married       Widowed      \n",
      " [4161] Married       Divorced      Married       Never-married Divorced     \n",
      " [4166] Divorced      Married       Never-married Married       Never-married\n",
      " [4171] Married       Married       Married       Married       Never-married\n",
      " [4176] Married       Divorced      Married       Married       Widowed      \n",
      " [4181] Never-married Never-married Married       Never-married Married      \n",
      " [4186] Never-married Never-married Never-married Married       Married      \n",
      " [4191] Married       Never-married Separated     Married       Never-married\n",
      " [4196] Divorced      Married       Married       Never-married Never-married\n",
      " [4201] Divorced      Never-married Never-married Never-married Married      \n",
      " [4206] Never-married Married       Married       Married       Married      \n",
      " [4211] Married       Separated     Married       Married       Never-married\n",
      " [4216] Married       Never-married Never-married Married       Married      \n",
      " [4221] Married       Married       Divorced      Divorced      Never-married\n",
      " [4226] Divorced      Married       Never-married Married       Never-married\n",
      " [4231] Never-married Never-married Married       Never-married Married      \n",
      " [4236] Never-married Married       Divorced      Separated     Divorced     \n",
      " [4241] Married       Never-married Never-married Married       Married      \n",
      " [4246] Never-married Never-married Married       Married       Married      \n",
      " [4251] Married       Divorced      Never-married Married       Widowed      \n",
      " [4256] Married       Never-married Married       Divorced      Divorced     \n",
      " [4261] Married       Never-married Never-married Married       Married      \n",
      " [4266] Married       Married       Married       Never-married Married      \n",
      " [4271] Married       Married       Married       Married       Never-married\n",
      " [4276] Married       Never-married Never-married Married       Divorced     \n",
      " [4281] Never-married Divorced      Never-married Never-married Married      \n",
      " [4286] Separated     Divorced      Married       Divorced      Never-married\n",
      " [4291] Married       Never-married Married       Married       Never-married\n",
      " [4296] Married       Married       Married       Married       Never-married\n",
      " [4301] Separated     Never-married Married       Never-married Married      \n",
      " [4306] Married       Married       Divorced      Married       Married      \n",
      " [4311] Married       Married       Married       Married       Never-married\n",
      " [4316] Divorced      Never-married Married       Married       Never-married\n",
      " [4321] Married       Married       Married       Never-married Married      \n",
      " [4326] Married       Married       Divorced      Married       Never-married\n",
      " [4331] Never-married Divorced      Never-married Never-married Married      \n",
      " [4336] Never-married Married       Divorced      Divorced      Married      \n",
      " [4341] Married       Married       Married       Married       Never-married\n",
      " [4346] Married       Never-married Divorced      Never-married Divorced     \n",
      " [4351] Never-married Never-married Married       Never-married Married      \n",
      " [4356] Married       Married       Married       Separated     Married      \n",
      " [4361] Married       Married       Never-married Widowed       Married      \n",
      " [4366] Married       Married       Married       Divorced      Never-married\n",
      " [4371] Never-married Never-married Widowed       Married       Widowed      \n",
      " [4376] Never-married Divorced      Married       Never-married Married      \n",
      " [4381] Never-married Married       Never-married Married       Never-married\n",
      " [4386] Never-married Never-married Never-married Separated     Married      \n",
      " [4391] Married       Married       Married       Never-married Married      \n",
      " [4396] Married       Married       Never-married Divorced      Married      \n",
      " [4401] Married       Married       Never-married Married       Divorced     \n",
      " [4406] Never-married Married       Never-married Never-married Married      \n",
      " [4411] Married       Married       Never-married Divorced      Married      \n",
      " [4416] Never-married Never-married Never-married Never-married Never-married\n",
      " [4421] Never-married Married       Married       Married       Married      \n",
      " [4426] Married       Married       Married       Never-married Divorced     \n",
      " [4431] Never-married Never-married Never-married Married       Never-married\n",
      " [4436] Married       Married       Married       Divorced      Separated    \n",
      " [4441] Married       Married       Separated     Married       Divorced     \n",
      " [4446] Never-married Married       Married       Married       Never-married\n",
      " [4451] Married       Divorced      Never-married Married       Divorced     \n",
      " [4456] Married       Married       Never-married Never-married Married      \n",
      " [4461] Never-married Divorced      Never-married Never-married Never-married\n",
      " [4466] Married       Married       Separated     Never-married Separated    \n",
      " [4471] Divorced      Never-married Married       Never-married Married      \n",
      " [4476] Married       Married       Married       Never-married Married      \n",
      " [4481] Divorced      Never-married Never-married Never-married Married      \n",
      " [4486] Widowed       Divorced      Divorced      Married       Divorced     \n",
      " [4491] Never-married Married       Never-married Married       Divorced     \n",
      " [4496] Never-married Married       Divorced      Married       Married      \n",
      " [4501] Married       Divorced      Married       Never-married Married      \n",
      " [4506] Married       Never-married Widowed       Married       Married      \n",
      " [4511] Divorced      Widowed       Married       Married       Married      \n",
      " [4516] Married       Married       Married       Separated     Never-married\n",
      " [4521] Married       Never-married Married       Married       Never-married\n",
      " [4526] Married       Never-married Never-married Married       Married      \n",
      " [4531] Never-married Never-married Married       Married       Divorced     \n",
      " [4536] Divorced      Divorced      Divorced      Divorced      Divorced     \n",
      " [4541] Divorced      Married       Married       Never-married Married      \n",
      " [4546] Married       Married       Never-married Married       Divorced     \n",
      " [4551] Married       Never-married Never-married Divorced      Married      \n",
      " [4556] Married       Never-married Married       Never-married Married      \n",
      " [4561] Divorced      Married       Never-married Divorced      Divorced     \n"
     ]
    },
    {
     "name": "stdout",
     "output_type": "stream",
     "text": [
      " [4566] Married       Divorced      Married       Never-married Widowed      \n",
      " [4571] Married       Never-married Never-married Married       Never-married\n",
      " [4576] Married       Married       Never-married Married       Married      \n",
      " [4581] Married       Never-married Married       Widowed       Never-married\n",
      " [4586] Divorced      Divorced      Never-married Married       Divorced     \n",
      " [4591] Married       Married       Divorced      Married       Never-married\n",
      " [4596] Married       Married       Married       Divorced      Married      \n",
      " [4601] Divorced      Never-married Married       Married       Separated    \n",
      " [4606] Never-married Never-married Never-married Divorced      Never-married\n",
      " [4611] Never-married Never-married Married       Separated     Married      \n",
      " [4616] Never-married Divorced      Widowed       Married       Married      \n",
      " [4621] Divorced      Married       Never-married Married       Married      \n",
      " [4626] Married       Married       Married       Married       Never-married\n",
      " [4631] Separated     Married       Never-married Married       Never-married\n",
      " [4636] Married       Never-married Married       Married       Separated    \n",
      " [4641] Never-married Married       Married       Never-married Married      \n",
      " [4646] Married       Married       Married       Divorced      Never-married\n",
      " [4651] Married       Married       Never-married Married       Married      \n",
      " [4656] Never-married Married       Married       Divorced      Never-married\n",
      " [4661] Married       Never-married Never-married Married       Married      \n",
      " [4666] Married       Married       Married       Married       Married      \n",
      " [4671] Never-married Separated     Married       Never-married Never-married\n",
      " [4676] Never-married Never-married Married       Never-married Married      \n",
      " [4681] Never-married Never-married Widowed       Never-married Married      \n",
      " [4686] Never-married Never-married Divorced      Separated     Never-married\n",
      " [4691] Married       Married       Never-married Married       Married      \n",
      " [4696] Never-married Divorced      Never-married Never-married Divorced     \n",
      " [4701] Married       Married       Married       Married       Never-married\n",
      " [4706] Never-married Divorced      Never-married Never-married Never-married\n",
      " [4711] Married       Never-married Never-married Never-married Married      \n",
      " [4716] Never-married Separated     Married       Married       Married      \n",
      " [4721] Never-married Married       Married       Divorced      Married      \n",
      " [4726] Never-married Married       Separated     Never-married Divorced     \n",
      " [4731] Married       Married       Married       Never-married Married      \n",
      " [4736] Never-married Married       Divorced      Never-married Never-married\n",
      " [4741] Married       Married       Divorced      Divorced      Married      \n",
      " [4746] Divorced      Married       Never-married Married       Divorced     \n",
      " [4751] Never-married Married       Married       Married       Divorced     \n",
      " [4756] Never-married Never-married Married       Divorced      Married      \n",
      " [4761] Married       Married       Married       Never-married Divorced     \n",
      " [4766] Married       Never-married Divorced      Never-married Married      \n",
      " [4771] Never-married Never-married Never-married Never-married Married      \n",
      " [4776] Never-married Married       Never-married Married       Never-married\n",
      " [4781] Married       Married       Divorced      Never-married Married      \n",
      " [4786] Married       Married       Divorced      Never-married Married      \n",
      " [4791] Never-married Never-married Married       Separated     Separated    \n",
      " [4796] Never-married Never-married Married       Never-married Never-married\n",
      " [4801] Divorced      Never-married Never-married Married       Never-married\n",
      " [4806] Never-married Never-married Married       Never-married Married      \n",
      " [4811] Married       Widowed       Divorced      Married       Married      \n",
      " [4816] Never-married Separated     Married       Married       Married      \n",
      " [4821] Never-married Married       Never-married Never-married Married      \n",
      " [4826] Widowed       Never-married Never-married Married       Never-married\n",
      " [4831] Never-married Married       Never-married Divorced      Never-married\n",
      " [4836] Married       Never-married Married       Never-married Never-married\n",
      " [4841] Married       Married       Never-married Divorced      Married      \n",
      " [4846] Widowed       Never-married Married       Never-married Married      \n",
      " [4851] Married       Married       Divorced      Never-married Divorced     \n",
      " [4856] Married       Separated     Married       Divorced      Never-married\n",
      " [4861] Never-married Married       Married       Married       Married      \n",
      " [4866] Married       Married       Never-married Married       Married      \n",
      " [4871] Married       Divorced      Married       Never-married Married      \n",
      " [4876] Divorced      Married       Married       Divorced      Never-married\n",
      " [4881] Married       Married       Married       Married       Married      \n",
      " [4886] Never-married Married       Married       Divorced      Married      \n",
      " [4891] Separated     Divorced      Divorced      Never-married Married      \n",
      " [4896] Never-married Married       Never-married Widowed       Married      \n",
      " [4901] Never-married Never-married Married       Married       Divorced     \n",
      " [4906] Separated     Married       Never-married Divorced      Never-married\n",
      " [4911] Divorced      Married       Widowed       Married       Divorced     \n",
      " [4916] Married       Divorced      Married       Married       Married      \n",
      " [4921] Never-married Never-married Married       Never-married Married      \n",
      " [4926] Married       Never-married Never-married Married       Married      \n",
      " [4931] Married       Married       Never-married Never-married Married      \n",
      " [4936] Never-married Married       Separated     Divorced      Married      \n",
      " [4941] Divorced      Never-married Married       Married       Never-married\n",
      " [4946] Never-married Widowed       Never-married Divorced      Never-married\n",
      " [4951] Never-married Married       Married       Married       Never-married\n",
      " [4956] Never-married Married       Married       Married       Married      \n",
      " [4961] Married       Widowed       Never-married Never-married Married      \n",
      " [4966] Never-married Separated     Married       Married       Divorced     \n",
      " [4971] Married       Married       Married       Never-married Married      \n",
      " [4976] Married       Never-married Married       Married       Married      \n",
      " [4981] Married       Never-married Never-married Never-married Divorced     \n",
      " [4986] Married       Separated     Never-married Married       Never-married\n",
      " [4991] Divorced      Married       Married       Divorced      Married      \n",
      " [4996] Divorced      Never-married Married       Married       Married      \n",
      " [5001] Never-married Never-married Married       Married       Married      \n",
      " [5006] Married       Never-married Never-married Married       Married      \n",
      " [5011] Never-married Never-married Married       Married       Married      \n",
      " [5016] Married       Never-married Never-married Married       Never-married\n",
      " [5021] Never-married Never-married Married       Married       Never-married\n",
      " [5026] Married       Married       Married       Married       Married      \n",
      " [5031] Married       Married       Divorced      Divorced      Separated    \n",
      " [5036] Married       Divorced      Never-married Married       Divorced     \n",
      " [5041] Married       Married       Married       Married       Married      \n",
      " [5046] Married       Divorced      Divorced      Married       Never-married\n",
      " [5051] Divorced      Married       Never-married Separated     Married      \n",
      " [5056] Never-married Married       Married       Never-married Married      \n",
      " [5061] Divorced      Married       Never-married Widowed       Never-married\n",
      " [5066] Married       Divorced      Married       Married       Divorced     \n",
      " [5071] Married       Never-married Married       Divorced      Married      \n",
      " [5076] Married       Divorced      Married       Married       Married      \n",
      " [5081] Married       Divorced      Married       Divorced      Never-married\n",
      " [5086] Never-married Never-married Never-married Divorced      Never-married\n"
     ]
    },
    {
     "name": "stdout",
     "output_type": "stream",
     "text": [
      " [5091] Never-married Married       Never-married Never-married Never-married\n",
      " [5096] Never-married Married       Never-married Never-married Divorced     \n",
      " [5101] Married       Married       Never-married Married       Divorced     \n",
      " [5106] Widowed       Divorced      Never-married Divorced      Separated    \n",
      " [5111] Never-married Married       Married       Never-married Never-married\n",
      " [5116] Divorced      Never-married Married       Married       Married      \n",
      " [5121] Divorced      Never-married Divorced      Never-married Married      \n",
      " [5126] Divorced      Widowed       Married       Married       Divorced     \n",
      " [5131] Separated     Married       Never-married Married       Married      \n",
      " [5136] Married       Married       Widowed       Married       Divorced     \n",
      " [5141] Married       Never-married Never-married Never-married Married      \n",
      " [5146] Separated     Married       Never-married Divorced      Married      \n",
      " [5151] Married       Never-married Never-married Never-married Separated    \n",
      " [5156] Never-married Married       Separated     Married       Married      \n",
      " [5161] Never-married Divorced      Married       Divorced      Never-married\n",
      " [5166] Never-married Never-married Married       Married       Married      \n",
      " [5171] Never-married Married       Married       Married       Married      \n",
      " [5176] Married       Never-married Divorced      Married       Married      \n",
      " [5181] Married       Never-married Never-married Never-married Never-married\n",
      " [5186] Married       Divorced      Married       Never-married Never-married\n",
      " [5191] Divorced      Married       Married       Married       Never-married\n",
      " [5196] Married       Never-married Never-married Never-married Married      \n",
      " [5201] Married       Married       Divorced      Married       Never-married\n",
      " [5206] Never-married Married       Never-married Married       Widowed      \n",
      " [5211] Married       Married       Married       Married       Married      \n",
      " [5216] Married       Married       Married       Never-married Married      \n",
      " [5221] Divorced      Divorced      Never-married Never-married Married      \n",
      " [5226] Married       Married       Never-married Never-married Divorced     \n",
      " [5231] Never-married Married       Married       Never-married Married      \n",
      " [5236] Never-married Married       Never-married Married       Divorced     \n",
      " [5241] Never-married Married       Never-married Divorced      Widowed      \n",
      " [5246] Never-married Married       Married       Separated     Never-married\n",
      " [5251] Married       Never-married Married       Married       Married      \n",
      " [5256] Married       Divorced      Married       Widowed       Never-married\n",
      " [5261] Divorced      Divorced      Married       Married       Divorced     \n",
      " [5266] Married       Married       Never-married Divorced      Never-married\n",
      " [5271] Never-married Never-married Divorced      Divorced      Divorced     \n",
      " [5276] Married       Married       Married       Widowed       Married      \n",
      " [5281] Never-married Married       Never-married Divorced      Never-married\n",
      " [5286] Married       Widowed       Married       Never-married Never-married\n",
      " [5291] Married       Married       Married       Divorced      Never-married\n",
      " [5296] Married       Married       Married       Separated     Never-married\n",
      " [5301] Never-married Never-married Married       Divorced      Married      \n",
      " [5306] Married       Married       Never-married Married       Separated    \n",
      " [5311] Married       Divorced      Married       Married       Married      \n",
      " [5316] Divorced      Never-married Married       Married       Divorced     \n",
      " [5321] Divorced      Never-married Married       Never-married Divorced     \n",
      " [5326] Never-married Married       Never-married Married       Never-married\n",
      " [5331] Divorced      Married       Married       Never-married Never-married\n",
      " [5336] Never-married Married       Married       Never-married Never-married\n",
      " [5341] Married       Never-married Married       Married       Never-married\n",
      " [5346] Married       Married       Divorced      Never-married Never-married\n",
      " [5351] Married       Divorced      Never-married Never-married Divorced     \n",
      " [5356] Never-married Never-married Divorced      Married       Divorced     \n",
      " [5361] Never-married Divorced      Married       Never-married Never-married\n",
      " [5366] Married       Never-married Married       Never-married Never-married\n",
      " [5371] Married       Married       Married       Never-married Married      \n",
      " [5376] Married       Never-married Never-married Never-married Married      \n",
      " [5381] Divorced      Never-married Married       Never-married Married      \n",
      " [5386] Never-married Divorced      Married       Married       Married      \n",
      " [5391] Never-married Married       Divorced      Divorced      Married      \n",
      " [5396] Married       Never-married Married       Married       Never-married\n",
      " [5401] Married       Married       Divorced      Married       Married      \n",
      " [5406] Married       Married       Never-married Divorced      Widowed      \n",
      " [5411] Divorced      Divorced      Married       Divorced      Divorced     \n",
      " [5416] Never-married Married       Married       Separated     Never-married\n",
      " [5421] Never-married Never-married Never-married Divorced      Married      \n",
      " [5426] Married       Divorced      Never-married Never-married Married      \n",
      " [5431] Never-married Never-married Married       Married       Married      \n",
      " [5436] Never-married Never-married Married       Divorced      Married      \n",
      " [5441] Married       Separated     Divorced      Never-married Married      \n",
      " [5446] Married       Separated     Married       Never-married Never-married\n",
      " [5451] Married       Married       Married       Never-married Never-married\n",
      " [5456] Married       Never-married Married       Married       Married      \n",
      " [5461] Married       Never-married Married       Never-married Married      \n",
      " [5466] Married       Separated     Married       Married       Married      \n",
      " [5471] Never-married Never-married Married       Divorced      Married      \n",
      " [5476] Never-married Never-married Married       Divorced      Separated    \n",
      " [5481] Never-married Never-married Married       Divorced      Divorced     \n",
      " [5486] Never-married Married       Married       Never-married Married      \n",
      " [5491] Married       Married       Married       Married       Married      \n",
      " [5496] Divorced      Married       Divorced      Divorced      Never-married\n",
      " [5501] Married       Married       Divorced      Married       Never-married\n",
      " [5506] Married       Never-married Married       Married       Separated    \n",
      " [5511] Never-married Never-married Never-married Married       Married      \n",
      " [5516] Married       Divorced      Married       Married       Married      \n",
      " [5521] Never-married Married       Divorced      Divorced      Married      \n",
      " [5526] Never-married Never-married Married       Never-married Never-married\n",
      " [5531] Divorced      Married       Widowed       Married       Married      \n",
      " [5536] Married       Divorced      Married       Married       Divorced     \n",
      " [5541] Never-married Never-married Married       Never-married Married      \n",
      " [5546] Never-married Never-married Married       Divorced      Married      \n",
      " [5551] Never-married Never-married Married       Never-married Married      \n",
      " [5556] Married       Married       Never-married Married       Married      \n",
      " [5561] Separated     Widowed       Married       Married       Never-married\n",
      " [5566] Divorced      Married       Married       Never-married Never-married\n",
      " [5571] Married       Divorced      Married       Never-married Divorced     \n",
      " [5576] Divorced      Married       Never-married Divorced      Married      \n",
      " [5581] Never-married Married       Divorced      Never-married Never-married\n",
      " [5586] Never-married Married       Married       Married       Never-married\n",
      " [5591] Married       Never-married Married       Never-married Never-married\n",
      " [5596] Never-married Married       Never-married Never-married Married      \n",
      " [5601] Never-married Divorced      Married       Married       Widowed      \n",
      " [5606] Never-married Married       Married       Married       Married      \n",
      " [5611] Married       Married       Divorced      Married       Divorced     \n"
     ]
    },
    {
     "name": "stdout",
     "output_type": "stream",
     "text": [
      " [5616] Married       Married       Separated     Married       Separated    \n",
      " [5621] Married       Married       Never-married Married       Separated    \n",
      " [5626] Never-married Married       Divorced      Never-married Married      \n",
      " [5631] Never-married Married       Divorced      Divorced      Never-married\n",
      " [5636] Divorced      Married       Married       Widowed       Widowed      \n",
      " [5641] Never-married Married       Married       Married       Married      \n",
      " [5646] Married       Married       Never-married Married       Married      \n",
      " [5651] Never-married Divorced      Never-married Married       Married      \n",
      " [5656] Never-married Never-married Married       Separated     Married      \n",
      " [5661] Married      "
     ]
    },
    {
     "name": "stderr",
     "output_type": "stream",
     "text": [
      "IOPub message rate exceeded.\n",
      "The notebook server will temporarily stop sending output\n",
      "to the client in order to avoid crashing it.\n",
      "To change this limit, set the config variable\n",
      "`--NotebookApp.iopub_msg_rate_limit`.\n",
      "\n",
      "Current values:\n",
      "NotebookApp.iopub_msg_rate_limit=1000.0 (msgs/sec)\n",
      "NotebookApp.rate_limit_window=3.0 (secs)\n",
      "\n"
     ]
    },
    {
     "name": "stdout",
     "output_type": "stream",
     "text": [
      " Never-married Married       Married       Married       Separated    \n",
      " [6881] Married       Married       Married       Married       Never-married\n",
      " [6886] Married       Married       Never-married Married       Married      \n",
      " [6891] Married       Married       Married       Separated     Never-married\n",
      " [6896] Married       Widowed       Never-married Never-married Married      \n",
      " [6901] Married       Never-married Married       Never-married Married      \n",
      " [6906] Married       Never-married Separated     Divorced      Never-married\n",
      " [6911] Married       Married       Widowed       Never-married Married      \n",
      " [6916] Married       Never-married Married       Never-married Married      \n",
      " [6921] Never-married Separated     Never-married Married       Married      \n",
      " [6926] Married       Married       Divorced      Married       Divorced     \n",
      " [6931] Never-married Married       Never-married Divorced      Married      \n",
      " [6936] Married       Divorced      Separated     Never-married Never-married\n",
      " [6941] Married       Married       Married       Married       Married      \n",
      " [6946] Never-married Never-married Married       Married       Never-married\n",
      " [6951] Divorced      Married       Divorced      Married       Never-married\n",
      " [6956] Married       Widowed       Married       Never-married Divorced     \n",
      " [6961] Never-married Married       Divorced      Never-married Married      \n",
      " [6966] Separated     Never-married Married       Married       Never-married\n",
      " [6971] Never-married Married       Married       Married       Divorced     \n",
      " [6976] Divorced      Never-married Married       Divorced      Never-married\n",
      " [6981] Married       Married       Married       Never-married Married      \n",
      " [6986] Married       Married       Never-married Never-married Never-married\n",
      " [6991] Never-married Never-married Married       Divorced      Married      \n",
      " [6996] Never-married Never-married Married       Divorced      Never-married\n",
      " [7001] Never-married Married       Never-married Married       Married      \n",
      " [7006] Married       Married       Never-married Divorced      Never-married\n",
      " [7011] Married       Never-married Married       Divorced      Never-married\n",
      " [7016] Married       Never-married Married       Divorced      Married      \n",
      " [7021] Never-married Married       Divorced      Never-married Never-married\n",
      " [7026] Never-married Never-married Never-married Married       Married      \n",
      " [7031] Married       Widowed       Married       Never-married Never-married\n",
      " [7036] Never-married Never-married Married       Married       Divorced     \n",
      " [7041] Married       Married       Married       Never-married Never-married\n",
      " [7046] Married       Married       Never-married Married       Never-married\n",
      " [7051] Never-married Never-married Never-married Divorced      Married      \n",
      " [7056] Never-married Never-married Never-married Never-married Divorced     \n",
      " [7061] Married       Never-married Married       Married       Married      \n",
      " [7066] Divorced      Divorced      Divorced      Married       Divorced     \n",
      " [7071] Married       Divorced      Married       Divorced      Married      \n",
      " [7076] Married       Widowed       Married       Never-married Married      \n",
      " [7081] Never-married Married       Married       Widowed       Married      \n",
      " [7086] Married       Never-married Married       Divorced      Married      \n",
      " [7091] Never-married Married       Never-married Married       Never-married\n",
      " [7096] Never-married Divorced      Never-married Never-married Married      \n",
      " [7101] Married       Married       Married       Never-married Married      \n",
      " [7106] Married       Never-married Widowed       Divorced      Never-married\n",
      " [7111] Divorced      Married       Never-married Never-married Divorced     \n",
      " [7116] Married       Married       Divorced      Married       Married      \n",
      " [7121] Married       Married       Married       Married       Never-married\n",
      " [7126] Divorced      Married       Married       Never-married Widowed      \n",
      " [7131] Married       Married       Married       Married       Separated    \n",
      " [7136] Married       Never-married Married       Married       Divorced     \n",
      " [7141] Never-married Never-married Never-married Never-married Divorced     \n",
      " [7146] Never-married Never-married Married       Widowed       Married      \n",
      " [7151] Married       Separated     Married       Never-married Never-married\n",
      " [7156] Married       Widowed       Married       Married       Married      \n",
      " [7161] Separated     Married       Divorced      Never-married Divorced     \n",
      " [7166] Divorced      Divorced      Divorced      Separated     Married      \n",
      " [7171] Divorced      Married       Never-married Married       Separated    \n",
      " [7176] Separated     Married       Divorced      Never-married Never-married\n",
      " [7181] Married       Married       Never-married Never-married Married      \n",
      " [7186] Married       Never-married Never-married Never-married Married      \n",
      " [7191] Never-married Married       Divorced      Widowed       Never-married\n",
      " [7196] Divorced      Never-married Divorced      Married       Never-married\n",
      " [7201] Never-married Never-married Married       Divorced      Married      \n",
      " [7206] Divorced      Never-married Separated     Separated     Married      \n",
      " [7211] Divorced      Divorced      Divorced      Divorced      Never-married\n",
      " [7216] Never-married Married       Married       Never-married Never-married\n",
      " [7221] Divorced      Never-married Married       Never-married Married      \n",
      " [7226] Never-married Never-married Never-married Married       Married      \n",
      " [7231] Divorced      Married       Divorced      Never-married Never-married\n",
      " [7236] Married       Married       Married       Married       Married      \n",
      " [7241] Never-married Widowed       Never-married Married       Divorced     \n",
      " [7246] Married       Married       Married       Married       Married      \n",
      " [7251] Never-married Married       Widowed       Married       Married      \n",
      " [7256] Married       Married       Never-married Divorced      Never-married\n",
      " [7261] Divorced      Never-married Married       Never-married Married      \n",
      " [7266] Never-married Married       Never-married Never-married Married      \n",
      " [7271] Never-married Never-married Never-married Married       Married      \n",
      " [7276] Never-married Married       Divorced      Never-married Married      \n",
      " [7281] Married       Married       Never-married Married       Separated    \n",
      " [7286] Married       Never-married Married       Separated     Never-married\n",
      " [7291] Never-married Married       Married       Never-married Married      \n",
      " [7296] Never-married Separated     Never-married Divorced      Never-married\n",
      " [7301] Never-married Married       Married       Divorced      Married      \n",
      " [7306] Married       Divorced      Divorced      Never-married Never-married\n",
      " [7311] Divorced      Never-married Married       Married       Never-married\n",
      " [7316] Widowed       Married       Never-married Never-married Married      \n",
      " [7321] Never-married Married       Married       Never-married Married      \n",
      " [7326] Never-married Never-married Never-married Married       Divorced     \n",
      " [7331] Married       Divorced      Never-married Married       Married      \n",
      " [7336] Married       Divorced      Married       Never-married Never-married\n",
      " [7341] Divorced      Married       Never-married Married       Never-married\n",
      " [7346] Never-married Never-married Divorced      Married       Married      \n",
      " [7351] Married       Married       Married       Never-married Separated    \n",
      " [7356] Married       Married       Never-married Married       Never-married\n",
      " [7361] Married       Married       Never-married Married       Married      \n",
      " [7366] Married       Married       Married       Separated     Divorced     \n",
      " [7371] Never-married Married       Widowed       Never-married Married      \n",
      " [7376] Never-married Married       Married       Never-married Married      \n",
      " [7381] Never-married Divorced      Married       Married       Never-married\n",
      " [7386] Married       Never-married Married       Divorced      Divorced     \n",
      " [7391] Never-married Married       Married       Married       Divorced     \n",
      " [7396] Married       Married       Never-married Never-married Married      \n"
     ]
    },
    {
     "name": "stdout",
     "output_type": "stream",
     "text": [
      " [7401] Married       Never-married Divorced      Never-married Married      \n",
      " [7406] Never-married Separated     Married       Widowed       Never-married\n",
      " [7411] Never-married Married       Married       Married       Never-married\n",
      " [7416] Married       Never-married Never-married Widowed       Married      \n",
      " [7421] Never-married Married       Married       Married       Divorced     \n",
      " [7426] Widowed       Married       Divorced      Never-married Divorced     \n",
      " [7431] Married       Divorced      Married       Divorced      Married      \n",
      " [7436] Divorced      Never-married Married       Married       Separated    \n",
      " [7441] Married       Divorced      Married       Married       Married      \n",
      " [7446] Never-married Widowed       Never-married Married       Married      \n",
      " [7451] Married       Married       Married       Married       Divorced     \n",
      " [7456] Never-married Divorced      Married       Married       Never-married\n",
      " [7461] Divorced      Never-married Never-married Married       Married      \n",
      " [7466] Never-married Never-married Never-married Never-married Married      \n",
      " [7471] Never-married Never-married Married       Married       Married      \n",
      " [7476] Never-married Married       Married       Divorced      Divorced     \n",
      " [7481] Married       Never-married Never-married Never-married Married      \n",
      " [7486] Widowed       Married       Never-married Never-married Divorced     \n",
      " [7491] Never-married Married       Widowed       Married       Never-married\n",
      " [7496] Married       Divorced      Never-married Divorced      Married      \n",
      " [7501] Divorced      Never-married Never-married Married       Married      \n",
      " [7506] Married       Married       Divorced      Divorced      Married      \n",
      " [7511] Married       Never-married Never-married Married       Divorced     \n",
      " [7516] Divorced      Never-married Married       Separated     Married      \n",
      " [7521] Never-married Married       Married       Married       Married      \n",
      " [7526] Never-married Divorced      Widowed       Never-married Widowed      \n",
      " [7531] Never-married Married       Never-married Married       Never-married\n",
      " [7536] Never-married Separated     Never-married Married       Married      \n",
      " [7541] Married       Never-married Divorced      Married       Married      \n",
      " [7546] Separated     Married       Never-married Never-married Widowed      \n",
      " [7551] Married       Married       Married       Never-married Married      \n",
      " [7556] Married       Widowed       Married       Never-married Married      \n",
      " [7561] Never-married Married       Never-married Married       Married      \n",
      " [7566] Married       Widowed       Never-married Married       Never-married\n",
      " [7571] Married       Never-married Married       Married       Separated    \n",
      " [7576] Married       Never-married Divorced      Divorced      Married      \n",
      " [7581] Married       Married       Married       Divorced      Married      \n",
      " [7586] Divorced      Divorced      Never-married Married       Never-married\n",
      " [7591] Married       Never-married Divorced      Married       Married      \n",
      " [7596] Never-married Married       Married       Married       Divorced     \n",
      " [7601] Married       Married       Married       Married       Never-married\n",
      " [7606] Married       Married       Married       Married       Married      \n",
      " [7611] Never-married Married       Married       Divorced      Widowed      \n",
      " [7616] Married       Never-married Married       Married       Never-married\n",
      " [7621] Never-married Married       Married       Never-married Never-married\n",
      " [7626] Divorced      Divorced      Married       Married       Married      \n",
      " [7631] Married       Never-married Married       Married       Married      \n",
      " [7636] Divorced      Married       Married       Never-married Never-married\n",
      " [7641] Married       Never-married Married       Married       Never-married\n",
      " [7646] Never-married Never-married Married       Married       Married      \n",
      " [7651] Divorced      Separated     Married       Married       Married      \n",
      " [7656] Never-married Never-married Married       Never-married Never-married\n",
      " [7661] Never-married Never-married Married       Never-married Married      \n",
      " [7666] Married       Never-married Divorced      Married       Married      \n",
      " [7671] Married       Never-married Married       Married       Never-married\n",
      " [7676] Married       Divorced      Married       Never-married Married      \n",
      " [7681] Married       Never-married Married       Divorced      Married      \n",
      " [7686] Never-married Married       Married       Divorced      Married      \n",
      " [7691] Married       Married       Never-married Never-married Married      \n",
      " [7696] Married       Never-married Never-married Never-married Married      \n",
      " [7701] Married       Never-married Separated     Married       Married      \n",
      " [7706] Married       Married       Never-married Never-married Never-married\n",
      " [7711] Married       Never-married Divorced      Divorced      Divorced     \n",
      " [7716] Divorced      Separated     Never-married Married       Married      \n",
      " [7721] Never-married Divorced      Divorced      Married       Divorced     \n",
      " [7726] Married       Never-married Married       Separated     Married      \n",
      " [7731] Never-married Married       Married       Married       Married      \n",
      " [7736] Married       Widowed       Never-married Never-married Married      \n",
      " [7741] Married       Married       Never-married Married       Never-married\n",
      " [7746] Never-married Married       Married       Never-married Never-married\n",
      " [7751] Separated     Married       Married       Never-married Never-married\n",
      " [7756] Married       Married       Never-married Never-married Separated    \n",
      " [7761] Married       Married       Divorced      Married       Married      \n",
      " [7766] Separated     Divorced      Married       Married       Married      \n",
      " [7771] Never-married Married       Married       Never-married Married      \n",
      " [7776] Never-married Divorced      Divorced      Divorced      Never-married\n",
      " [7781] Married       Married       Divorced      Divorced      Never-married\n",
      " [7786] Widowed       Separated     Married       Married       Separated    \n",
      " [7791] Married       Married       Married       Never-married Never-married\n",
      " [7796] Married       Married       Married       Married       Never-married\n",
      " [7801] Married       Married       Married       Divorced      Married      \n",
      " [7806] Married       Married       Married       Married       Married      \n",
      " [7811] Never-married Never-married Married       Never-married Never-married\n",
      " [7816] Never-married Separated     Divorced      Married       Never-married\n",
      " [7821] Married       Married       Never-married Never-married Married      \n",
      " [7826] Divorced      Married       Married       Married       Married      \n",
      " [7831] Married       Never-married Married       Married       Married      \n",
      " [7836] Never-married Never-married Divorced      Divorced      Never-married\n",
      " [7841] Never-married Never-married Never-married Never-married Married      \n",
      " [7846] Married       Married       Widowed       Divorced      Never-married\n",
      " [7851] Married       Divorced      Married       Divorced      Divorced     \n",
      " [7856] Married       Never-married Divorced      Divorced      Married      \n",
      " [7861] Divorced      Divorced      Never-married Divorced      Married      \n",
      " [7866] Married       Never-married Married       Divorced      Married      \n",
      " [7871] Never-married Never-married Never-married Never-married Married      \n",
      " [7876] Never-married Married       Never-married Never-married Married      \n",
      " [7881] Married       Married       Divorced      Married       Never-married\n",
      " [7886] Never-married Never-married Never-married Never-married Married      \n",
      " [7891] Married       Married       Married       Never-married Married      \n",
      " [7896] Married       Never-married Married       Divorced      Married      \n",
      " [7901] Never-married Married       Never-married Never-married Never-married\n",
      " [7906] Never-married Married       Married       Widowed       Married      \n",
      " [7911] Married       Never-married Widowed       Never-married Divorced     \n",
      " [7916] Divorced      Married       Divorced      Divorced      Married      \n",
      " [7921] Never-married Married       Married       Married       Widowed      \n"
     ]
    },
    {
     "name": "stdout",
     "output_type": "stream",
     "text": [
      " [7926] Married       Separated     Married       Never-married Married      \n",
      " [7931] Never-married Married       Married       Never-married Never-married\n",
      " [7936] Divorced      Never-married Separated     Widowed       Married      \n",
      " [7941] Separated     Married       Married       Divorced      Married      \n",
      " [7946] Married       Never-married Never-married Married       Never-married\n",
      " [7951] Married       Never-married Married       Never-married Married      \n",
      " [7956] Never-married Never-married Married       Married       Married      \n",
      " [7961] Never-married Married       Married       Never-married Married      \n",
      " [7966] Married       Never-married Married       Married       Divorced     \n",
      " [7971] Married       Married       Married       Separated     Married      \n",
      " [7976] Married       Married       Married       Never-married Married      \n",
      " [7981] Married       Never-married Married       Never-married Married      \n",
      " [7986] Never-married Married       Never-married Married       Married      \n",
      " [7991] Married       Never-married Separated     Married       Married      \n",
      " [7996] Married       Married       Married       Never-married Married      \n",
      " [8001] Divorced      Married       Never-married Married       Married      \n",
      " [8006] Never-married Married       Never-married Married       Married      \n",
      " [8011] Married       Married       Never-married Married       Never-married\n",
      " [8016] Never-married Married       Never-married Divorced      Widowed      \n",
      " [8021] Never-married Never-married Married       Divorced      Married      \n",
      " [8026] Never-married Married       Married       Never-married Never-married\n",
      " [8031] Divorced      Separated     Never-married Married       Married      \n",
      " [8036] Never-married Married       Divorced      Never-married Married      \n",
      " [8041] Widowed       Married       Married       Separated     Never-married\n",
      " [8046] Married       Widowed       Married       Never-married Married      \n",
      " [8051] Married       Never-married Never-married Married       Married      \n",
      " [8056] Divorced      Married       Divorced      Married       Married      \n",
      " [8061] Married       Married       Never-married Married       Married      \n",
      " [8066] Never-married Married       Married       Never-married Widowed      \n",
      " [8071] Married       Married       Married       Married       Married      \n",
      " [8076] Divorced      Never-married Never-married Married       Married      \n",
      " [8081] Married       Married       Never-married Never-married Married      \n",
      " [8086] Married       Married       Married       Married       Married      \n",
      " [8091] Widowed       Never-married Divorced      Married       Never-married\n",
      " [8096] Never-married Never-married Separated     Never-married Never-married\n",
      " [8101] Never-married Never-married Separated     Divorced      Married      \n",
      " [8106] Married       Divorced      Never-married Married       Married      \n",
      " [8111] Never-married Married       Married       Married       Divorced     \n",
      " [8116] Married       Never-married Divorced      Divorced      Divorced     \n",
      " [8121] Married       Married       Married       Married       Married      \n",
      " [8126] Never-married Never-married Never-married Married       Divorced     \n",
      " [8131] Never-married Married       Married       Married       Never-married\n",
      " [8136] Married       Never-married Separated     Never-married Never-married\n",
      " [8141] Married       Never-married Divorced      Married       Married      \n",
      " [8146] Married       Widowed       Married       Never-married Divorced     \n",
      " [8151] Married       Never-married Married       Married       Never-married\n",
      " [8156] Married       Divorced      Never-married Married       Divorced     \n",
      " [8161] Married       Married       Married       Never-married Divorced     \n",
      " [8166] Never-married Married       Divorced      Divorced      Never-married\n",
      " [8171] Never-married Divorced      Married       Never-married Never-married\n",
      " [8176] Married       Married       Never-married Widowed       Never-married\n",
      " [8181] Married       Never-married Never-married Divorced      Married      \n",
      " [8186] Married       Married       Married       Married       Married      \n",
      " [8191] Divorced      Married       Married       Married       Married      \n",
      " [8196] Divorced      Never-married Married       Never-married Never-married\n",
      " [8201] Never-married Never-married Married       Married       Divorced     \n",
      " [8206] Never-married Never-married Married       Never-married Married      \n",
      " [8211] Divorced      Never-married Married       Married       Married      \n",
      " [8216] Married       Married       Divorced      Separated     Married      \n",
      " [8221] Married       Married       Never-married Never-married Married      \n",
      " [8226] Married       Divorced      Never-married Married       Married      \n",
      " [8231] Never-married Divorced      Never-married Never-married Married      \n",
      " [8236] Married       Never-married Married       Never-married Never-married\n",
      " [8241] Married       Never-married Divorced      Never-married Never-married\n",
      " [8246] Never-married Never-married Married       Married       Married      \n",
      " [8251] Married       Married       Never-married Never-married Never-married\n",
      " [8256] Never-married Married       Widowed       Never-married Married      \n",
      " [8261] Married       Divorced      Married       Divorced      Married      \n",
      " [8266] Divorced      Married       Never-married Never-married Married      \n",
      " [8271] Married       Married       Married       Married       Married      \n",
      " [8276] Divorced      Married       Never-married Married       Married      \n",
      " [8281] Married       Married       Married       Never-married Divorced     \n",
      " [8286] Married       Married       Divorced      Never-married Never-married\n",
      " [8291] Never-married Married       Married       Married       Widowed      \n",
      " [8296] Separated     Never-married Married       Married       Married      \n",
      " [8301] Divorced      Married       Married       Never-married Married      \n",
      " [8306] Married       Divorced      Married       Married       Married      \n",
      " [8311] Married       Married       Married       Never-married Divorced     \n",
      " [8316] Never-married Married       Divorced      Divorced      Married      \n",
      " [8321] Married       Married       Divorced      Divorced      Never-married\n",
      " [8326] Married       Married       Married       Married       Married      \n",
      " [8331] Married       Never-married Never-married Married       Married      \n",
      " [8336] Never-married Never-married Divorced      Never-married Divorced     \n",
      " [8341] Married       Never-married Separated     Never-married Married      \n",
      " [8346] Married       Never-married Married       Divorced      Never-married\n",
      " [8351] Divorced      Married       Married       Married       Never-married\n",
      " [8356] Separated     Married       Never-married Married       Married      \n",
      " [8361] Never-married Never-married Widowed       Married       Never-married\n",
      " [8366] Married       Married       Never-married Married       Separated    \n",
      " [8371] Married       Never-married Married       Never-married Married      \n",
      " [8376] Married       Never-married Married       Never-married Never-married\n",
      " [8381] Never-married Married       Divorced      Married       Married      \n",
      " [8386] Never-married Married       Divorced      Never-married Married      \n",
      " [8391] Married       Married       Never-married Separated     Married      \n",
      " [8396] Married       Married       Married       Married       Divorced     \n",
      " [8401] Married       Married       Never-married Married       Married      \n",
      " [8406] Married       Never-married Married       Married       Never-married\n",
      " [8411] Never-married Married       Married       Divorced      Divorced     \n",
      " [8416] Married       Married       Divorced      Never-married Widowed      \n",
      " [8421] Never-married Married       Never-married Married       Married      \n",
      " [8426] Married       Married       Married       Never-married Divorced     \n",
      " [8431] Separated     Never-married Married       Never-married Married      \n",
      " [8436] Married       Never-married Never-married Never-married Married      \n",
      " [8441] Married       Never-married Married       Married       Married      \n",
      " [8446] Married       Never-married Never-married Married       Married      \n"
     ]
    },
    {
     "name": "stdout",
     "output_type": "stream",
     "text": [
      " [8451] Never-married Divorced      Married       Never-married Married      \n",
      " [8456] Married       Married       Never-married Divorced      Married      \n",
      " [8461] Never-married Divorced      Married       Divorced      Married      \n",
      " [8466] Never-married Never-married Divorced      Married       Married      \n",
      " [8471] Married       Divorced      Never-married Never-married Married      \n",
      " [8476] Separated     Never-married Married       Never-married Married      \n",
      " [8481] Married       Married       Never-married Never-married Married      \n",
      " [8486] Married       Divorced      Never-married Never-married Married      \n",
      " [8491] Married       Never-married Never-married Never-married Married      \n",
      " [8496] Divorced      Never-married Married       Married       Widowed      \n",
      " [8501] Never-married Married       Married       Never-married Married      \n",
      " [8506] Never-married Married       Never-married Never-married Married      \n",
      " [8511] Never-married Divorced      Married       Never-married Married      \n",
      " [8516] Never-married Divorced      Never-married Married       Married      \n",
      " [8521] Never-married Never-married Divorced      Married       Widowed      \n",
      " [8526] Separated     Never-married Never-married Married       Married      \n",
      " [8531] Married       Married       Never-married Never-married Separated    \n",
      " [8536] Never-married Never-married Never-married Divorced      Divorced     \n",
      " [8541] Married       Married       Married       Divorced      Married      \n",
      " [8546] Married       Never-married Never-married Never-married Never-married\n",
      " [8551] Never-married Married       Divorced      Married       Married      \n",
      " [8556] Married       Married       Divorced      Married       Never-married\n",
      " [8561] Married       Never-married Married       Married       Married      \n",
      " [8566] Never-married Divorced      Never-married Never-married Never-married\n",
      " [8571] Never-married Divorced      Never-married Never-married Married      \n",
      " [8576] Never-married Married       Never-married Married       Divorced     \n",
      " [8581] Married       Married       Divorced      Separated     Married      \n",
      " [8586] Married       Never-married Never-married Never-married Never-married\n",
      " [8591] Never-married Divorced      Never-married Married       Married      \n",
      " [8596] Divorced      Divorced      Married       Never-married Married      \n",
      " [8601] Married       Married       Married       Never-married Never-married\n",
      " [8606] Never-married Never-married Married       Married       Married      \n",
      " [8611] Married       Never-married Married       Never-married Married      \n",
      " [8616] Married       Never-married Married       Married       Married      \n",
      " [8621] Married       Married       Married       Married       Never-married\n",
      " [8626] Divorced      Married       Divorced      Never-married Married      \n",
      " [8631] Widowed       Never-married Married       Married       Married      \n",
      " [8636] Married       Married       Widowed       Never-married Never-married\n",
      " [8641] Married       Divorced      Never-married Never-married Married      \n",
      " [8646] Married       Never-married Divorced      Divorced      Never-married\n",
      " [8651] Never-married Married       Never-married Married       Married      \n",
      " [8656] Married       Married       Married       Divorced      Married      \n",
      " [8661] Married       Married       Never-married Married       Never-married\n",
      " [8666] Never-married Married       Married       Never-married Widowed      \n",
      " [8671] Divorced      Widowed       Married       Never-married Never-married\n",
      " [8676] Married       Never-married Never-married Married       Separated    \n",
      " [8681] Divorced      Divorced      Divorced      Married       Never-married\n",
      " [8686] Married       Widowed       Separated     Never-married Married      \n",
      " [8691] Married       Divorced      Married       Separated     Separated    \n",
      " [8696] Never-married Married       Never-married Never-married Married      \n",
      " [8701] Married       Married       Never-married Married       Separated    \n",
      " [8706] Married       Married       Divorced      Divorced      Divorced     \n",
      " [8711] Married       Never-married Married       Married       Divorced     \n",
      " [8716] Married       Married       Married       Married       Married      \n",
      " [8721] Divorced      Widowed       Married       Married       Never-married\n",
      " [8726] Married       Never-married Married       Divorced      Married      \n",
      " [8731] Married       Married       Married       Never-married Never-married\n",
      " [8736] Never-married Married       Never-married Never-married Never-married\n",
      " [8741] Married       Never-married Never-married Never-married Married      \n",
      " [8746] Married       Widowed       Married       Divorced      Never-married\n",
      " [8751] Married       Married       Married       Never-married Married      \n",
      " [8756] Married       Married       Married       Married       Married      \n",
      " [8761] Never-married Married       Married       Widowed       Married      \n",
      " [8766] Married       Divorced      Married       Never-married Married      \n",
      " [8771] Separated     Never-married Separated     Widowed       Divorced     \n",
      " [8776] Divorced      Married       Married       Never-married Married      \n",
      " [8781] Married       Divorced      Married       Divorced      Never-married\n",
      " [8786] Married       Married       Married       Married       Married      \n",
      " [8791] Never-married Married       Married       Never-married Married      \n",
      " [8796] Never-married Never-married Widowed       Divorced      Married      \n",
      " [8801] Never-married Divorced      Married       Never-married Married      \n",
      " [8806] Divorced      Married       Married       Never-married Married      \n",
      " [8811] Never-married Never-married Married       Divorced      Married      \n",
      " [8816] Married       Never-married Married       Married       Married      \n",
      " [8821] Married       Never-married Never-married Married       Married      \n",
      " [8826] Divorced      Never-married Never-married Widowed       Never-married\n",
      " [8831] Married       Married       Married       Married       Divorced     \n",
      " [8836] Married       Never-married Married       Married       Married      \n",
      " [8841] Married       Married       Married       Never-married Married      \n",
      " [8846] Married       Separated     Widowed       Divorced      Married      \n",
      " [8851] Married       Married       Never-married Married       Married      \n",
      " [8856] Divorced      Never-married Married       Married       Never-married\n",
      " [8861] Widowed       Separated     Married       Married       Never-married\n",
      " [8866] Divorced      Divorced      Married       Married       Never-married\n",
      " [8871] Married       Never-married Married       Never-married Never-married\n",
      " [8876] Separated     Married       Married       Widowed       Never-married\n",
      " [8881] Married       Married       Married       Married       Never-married\n",
      " [8886] Never-married Married       Separated     Married       Separated    \n",
      " [8891] Married       Married       Never-married Married       Divorced     \n",
      " [8896] Never-married Married       Divorced      Never-married Separated    \n",
      " [8901] Never-married Divorced      Married       Divorced      Separated    \n",
      " [8906] Married       Married       Married       Married       Married      \n",
      " [8911] Married       Never-married Married       Divorced      Separated    \n",
      " [8916] Never-married Divorced      Divorced      Never-married Separated    \n",
      " [8921] Never-married Married       Married       Married       Married      \n",
      " [8926] Married       Married       Married       Never-married Divorced     \n",
      " [8931] Never-married Married       Married       Married       Married      \n",
      " [8936] Married       Divorced      Married       Married       Divorced     \n",
      " [8941] Widowed       Never-married Divorced      Married       Married      \n",
      " [8946] Married       Married       Never-married Never-married Widowed      \n",
      " [8951] Married       Married       Married       Married       Never-married\n",
      " [8956] Married       Never-married Married       Divorced      Married      \n",
      " [8961] Divorced      Never-married Married       Married       Married      \n",
      " [8966] Never-married Divorced      Married       Never-married Married      \n",
      " [8971] Never-married Married       Divorced      Widowed       Married      \n"
     ]
    },
    {
     "name": "stdout",
     "output_type": "stream",
     "text": [
      " [8976] Married       Married       Widowed       Never-married Married      \n",
      " [8981] Married       Divorced      Divorced      Married       Never-married\n",
      " [8986] Married       Married       Never-married Married       Married      \n",
      " [8991] Never-married Married       Divorced      Married       Never-married\n",
      " [8996] Never-married Married       Never-married Never-married Never-married\n",
      " [9001] Never-married Married       Married       Never-married Married      \n",
      " [9006] Married       Never-married Married       Married       Divorced     \n",
      " [9011] Married       Married       Never-married Never-married Married      \n",
      " [9016] Married       Divorced      Married       Married      "
     ]
    },
    {
     "name": "stderr",
     "output_type": "stream",
     "text": [
      "IOPub message rate exceeded.\n",
      "The notebook server will temporarily stop sending output\n",
      "to the client in order to avoid crashing it.\n",
      "To change this limit, set the config variable\n",
      "`--NotebookApp.iopub_msg_rate_limit`.\n",
      "\n",
      "Current values:\n",
      "NotebookApp.iopub_msg_rate_limit=1000.0 (msgs/sec)\n",
      "NotebookApp.rate_limit_window=3.0 (secs)\n",
      "\n"
     ]
    },
    {
     "name": "stdout",
     "output_type": "stream",
     "text": [
      " Married      \n",
      "[10296] Married       Never-married Married       Divorced      Married      \n",
      "[10301] Never-married Divorced      Married       Never-married Never-married\n",
      "[10306] Married       Married       Married       Married       Never-married\n",
      "[10311] Married       Married       Never-married Never-married Never-married\n",
      "[10316] Married       Divorced      Married       Married       Never-married\n",
      "[10321] Never-married Widowed       Married       Divorced      Married      \n",
      "[10326] Married       Married       Never-married Married       Married      \n",
      "[10331] Never-married Never-married Never-married Never-married Married      \n",
      "[10336] Never-married Never-married Married       Married       Married      \n",
      "[10341] Married       Married       Divorced      Never-married Never-married\n",
      "[10346] Never-married Never-married Never-married Married       Never-married\n",
      "[10351] Married       Married       Divorced      Married       Never-married\n",
      "[10356] Divorced      Never-married Widowed       Married       Never-married\n",
      "[10361] Never-married Divorced      Married       Married       Married      \n",
      "[10366] Married       Married       Widowed       Never-married Never-married\n",
      "[10371] Married       Married       Married       Never-married Divorced     \n",
      "[10376] Married       Married       Never-married Married       Married      \n",
      "[10381] Never-married Married       Married       Separated     Married      \n",
      "[10386] Separated     Married       Never-married Never-married Never-married\n",
      "[10391] Married       Married       Never-married Married       Divorced     \n",
      "[10396] Never-married Divorced      Married       Married       Married      \n",
      "[10401] Divorced      Never-married Married       Divorced      Never-married\n",
      "[10406] Separated     Married       Never-married Never-married Never-married\n",
      "[10411] Married       Divorced      Married       Married       Never-married\n",
      "[10416] Married       Married       Married       Married       Married      \n",
      "[10421] Married       Married       Never-married Married       Divorced     \n",
      "[10426] Divorced      Married       Never-married Married       Married      \n",
      "[10431] Divorced      Married       Married       Married       Married      \n",
      "[10436] Divorced      Married       Married       Never-married Divorced     \n",
      "[10441] Married       Divorced      Married       Never-married Married      \n",
      "[10446] Divorced      Married       Married       Never-married Divorced     \n",
      "[10451] Married       Divorced      Divorced      Married       Never-married\n",
      "[10456] Married       Never-married Married       Never-married Widowed      \n",
      "[10461] Never-married Married       Married       Never-married Married      \n",
      "[10466] Separated     Married       Widowed       Married       Never-married\n",
      "[10471] Married       Never-married Never-married Married       Never-married\n",
      "[10476] Married       Married       Married       Divorced      Married      \n",
      "[10481] Married       Never-married Married       Never-married Never-married\n",
      "[10486] Divorced      Married       Married       Never-married Never-married\n",
      "[10491] Married       Married       Never-married Married       Never-married\n",
      "[10496] Married       Married       Married       Never-married Never-married\n",
      "[10501] Never-married Married       Married       Married       Married      \n",
      "[10506] Married       Never-married Never-married Never-married Divorced     \n",
      "[10511] Never-married Never-married Never-married Never-married Widowed      \n",
      "[10516] Married       Never-married Married       Divorced      Never-married\n",
      "[10521] Never-married Divorced      Married       Married       Married      \n",
      "[10526] Married       Married       Widowed       Never-married Married      \n",
      "[10531] Divorced      Divorced      Never-married Married       Never-married\n",
      "[10536] Never-married Married       Married       Married       Never-married\n",
      "[10541] Married       Never-married Never-married Married       Never-married\n",
      "[10546] Never-married Never-married Never-married Never-married Never-married\n",
      "[10551] Married       Divorced      Never-married Married       Married      \n",
      "[10556] Married       Never-married Never-married Divorced      Married      \n",
      "[10561] Married       Never-married Married       Widowed       Married      \n",
      "[10566] Never-married Never-married Married       Divorced      Never-married\n",
      "[10571] Married       Never-married Never-married Married       Never-married\n",
      "[10576] Never-married Divorced      Married       Never-married Married      \n",
      "[10581] Widowed       Never-married Never-married Divorced      Married      \n",
      "[10586] Married       Separated     Never-married Married       Married      \n",
      "[10591] Never-married Married       Divorced      Married       Never-married\n",
      "[10596] Never-married Married       Never-married Never-married Divorced     \n",
      "[10601] Married       Never-married Never-married Divorced      Never-married\n",
      "[10606] Never-married Married       Divorced      Never-married Widowed      \n",
      "[10611] Never-married Married       Never-married Married       Never-married\n",
      "[10616] Married       Never-married Divorced      Never-married Married      \n",
      "[10621] Married       Never-married Married       Married       Never-married\n",
      "[10626] Never-married Divorced      Married       Never-married Never-married\n",
      "[10631] Married       Never-married Never-married Never-married Married      \n",
      "[10636] Married       Never-married Married       Married       Married      \n",
      "[10641] Married       Married       Married       Married       Married      \n",
      "[10646] Married       Divorced      Married       Never-married Married      \n",
      "[10651] Married       Never-married Never-married Separated     Married      \n",
      "[10656] Divorced      Divorced      Married       Never-married Never-married\n",
      "[10661] Married       Married       Divorced      Divorced      Divorced     \n",
      "[10666] Married       Married       Never-married Married       Married      \n",
      "[10671] Widowed       Divorced      Married       Married       Married      \n",
      "[10676] Married       Married       Married       Never-married Married      \n",
      "[10681] Never-married Married       Divorced      Married       Married      \n",
      "[10686] Divorced      Never-married Never-married Married       Never-married\n",
      "[10691] Married       Married       Never-married Married       Married      \n",
      "[10696] Divorced      Divorced      Never-married Divorced      Never-married\n",
      "[10701] Married       Married       Widowed       Never-married Married      \n",
      "[10706] Married       Married       Married       Married       Divorced     \n",
      "[10711] Married       Never-married Married       Never-married Married      \n",
      "[10716] Married       Married       Never-married Never-married Separated    \n",
      "[10721] Widowed       Divorced      Married       Married       Married      \n",
      "[10726] Married       Married       Never-married Divorced      Never-married\n",
      "[10731] Married       Married       Never-married Married       Married      \n",
      "[10736] Married       Never-married Married       Never-married Married      \n",
      "[10741] Married       Married       Never-married Married       Married      \n",
      "[10746] Divorced      Never-married Widowed       Never-married Widowed      \n",
      "[10751] Married       Married       Married       Married       Separated    \n",
      "[10756] Married       Married       Divorced      Never-married Married      \n",
      "[10761] Never-married Married       Divorced      Married       Married      \n",
      "[10766] Never-married Married       Never-married Never-married Divorced     \n",
      "[10771] Never-married Never-married Widowed       Divorced      Never-married\n",
      "[10776] Never-married Married       Married       Never-married Never-married\n",
      "[10781] Married       Never-married Separated     Divorced      Married      \n",
      "[10786] Divorced      Never-married Divorced      Never-married Married      \n",
      "[10791] Married       Married       Married       Married       Never-married\n",
      "[10796] Married       Married       Never-married Married       Married      \n",
      "[10801] Never-married Never-married Never-married Married       Never-married\n",
      "[10806] Never-married Married       Never-married Never-married Never-married\n",
      "[10811] Never-married Married       Never-married Divorced      Married      \n"
     ]
    },
    {
     "name": "stdout",
     "output_type": "stream",
     "text": [
      "[10816] Married       Never-married Married       Never-married Married      \n",
      "[10821] Married       Married       Never-married Never-married Married      \n",
      "[10826] Never-married Never-married Divorced      Married       Married      \n",
      "[10831] Never-married Married       Never-married Never-married Never-married\n",
      "[10836] Married       Never-married Married       Never-married Never-married\n",
      "[10841] Widowed       Married       Married       Married       Never-married\n",
      "[10846] Never-married Married       Married       Divorced      Never-married\n",
      "[10851] Married       Married       Never-married Married       Married      \n",
      "[10856] Never-married Married       Never-married Married       Never-married\n",
      "[10861] Never-married Married       Married       Married       Married      \n",
      "[10866] Married       Never-married Never-married Married       Married      \n",
      "[10871] Separated     Never-married Never-married Never-married Married      \n",
      "[10876] Never-married Married       Never-married Married       Never-married\n",
      "[10881] Divorced      Married       Married       Never-married Married      \n",
      "[10886] Never-married Married       Married       Separated     Separated    \n",
      "[10891] Never-married Married       Married       Never-married Never-married\n",
      "[10896] Divorced      Never-married Divorced      Divorced      Never-married\n",
      "[10901] Never-married Married       Never-married Never-married Never-married\n",
      "[10906] Never-married Widowed       Married       Never-married Married      \n",
      "[10911] Never-married Married       Married       Never-married Married      \n",
      "[10916] Married       Married       Separated     Never-married Never-married\n",
      "[10921] Never-married Married       Never-married Married       Widowed      \n",
      "[10926] Never-married Married       Married       Married       Never-married\n",
      "[10931] Never-married Married       Married       Married       Widowed      \n",
      "[10936] Married       Married       Divorced      Married       Never-married\n",
      "[10941] Married       Never-married Divorced      Divorced      Married      \n",
      "[10946] Never-married Never-married Never-married Married       Married      \n",
      "[10951] Married       Married       Married       Divorced      Widowed      \n",
      "[10956] Divorced      Married       Married       Never-married Married      \n",
      "[10961] Widowed       Divorced      Married       Never-married Widowed      \n",
      "[10966] Married       Married       Never-married Married       Never-married\n",
      "[10971] Married       Married       Married       Married       Never-married\n",
      "[10976] Married       Married       Married       Married       Married      \n",
      "[10981] Never-married Divorced      Married       Widowed       Married      \n",
      "[10986] Married       Never-married Married       Never-married Married      \n",
      "[10991] Never-married Never-married Married       Divorced      Never-married\n",
      "[10996] Married       Married       Married       Married       Married      \n",
      "[11001] Never-married Never-married Never-married Married       Never-married\n",
      "[11006] Separated     Never-married Married       Never-married Married      \n",
      "[11011] Married       Divorced      Married       Never-married Never-married\n",
      "[11016] Married       Never-married Married       Never-married Never-married\n",
      "[11021] Married       Married       Divorced      Married       Married      \n",
      "[11026] Never-married Married       Never-married Divorced      Never-married\n",
      "[11031] Married       Never-married Divorced      Married       Married      \n",
      "[11036] Never-married Divorced      Married       Married       Married      \n",
      "[11041] Divorced      Married       Married       Married       Never-married\n",
      "[11046] Separated     Never-married Married       Never-married Married      \n",
      "[11051] Married       Never-married Divorced      Married       Married      \n",
      "[11056] Married       Divorced      Separated     Married       Never-married\n",
      "[11061] Married       Divorced      Widowed       Never-married Married      \n",
      "[11066] Never-married Married       Married       Separated     Divorced     \n",
      "[11071] Never-married Married       Divorced      Never-married Married      \n",
      "[11076] Never-married Married       Never-married Never-married Married      \n",
      "[11081] Married       Never-married Married       Never-married Never-married\n",
      "[11086] Married       Never-married Never-married Divorced      Married      \n",
      "[11091] Never-married Married       Never-married Married       Never-married\n",
      "[11096] Never-married Never-married Widowed       Married       Never-married\n",
      "[11101] Separated     Married       Divorced      Married       Never-married\n",
      "[11106] Divorced      Married       Divorced      Never-married Married      \n",
      "[11111] Married       Married       Married       Married       Never-married\n",
      "[11116] Married       Married       Divorced      Separated     Never-married\n",
      "[11121] Never-married Married       Never-married Married       Never-married\n",
      "[11126] Married       Divorced      Married       Never-married Married      \n",
      "[11131] Married       Married       Widowed       Married       Never-married\n",
      "[11136] Divorced      Divorced      Never-married Married       Married      \n",
      "[11141] Never-married Married       Married       Never-married Married      \n",
      "[11146] Married       Married       Widowed       Divorced      Married      \n",
      "[11151] Married       Married       Divorced      Married       Married      \n",
      "[11156] Never-married Married       Married       Married       Never-married\n",
      "[11161] Married       Never-married Married       Never-married Married      \n",
      "[11166] Widowed       Never-married Divorced      Married       Married      \n",
      "[11171] Married       Married       Divorced      Widowed       Widowed      \n",
      "[11176] Married       Married       Married       Married       Never-married\n",
      "[11181] Married       Married       Divorced      Married       Married      \n",
      "[11186] Married       Divorced      Married       Married       Never-married\n",
      "[11191] Divorced      Married       Divorced      Married       Never-married\n",
      "[11196] Married       Divorced      Never-married Married       Divorced     \n",
      "[11201] Never-married Never-married Married       Married       Married      \n",
      "[11206] Never-married Divorced      Never-married Married       Married      \n",
      "[11211] Married       Married       Divorced      Married       Married      \n",
      "[11216] Married       Married       Widowed       Married       Never-married\n",
      "[11221] Married       Married       Married       Separated     Married      \n",
      "[11226] Never-married Married       Separated     Married       Never-married\n",
      "[11231] Married       Never-married Divorced      Never-married Married      \n",
      "[11236] Married       Never-married Divorced      Divorced      Widowed      \n",
      "[11241] Married       Married       Never-married Married       Divorced     \n",
      "[11246] Never-married Divorced      Never-married Never-married Married      \n",
      "[11251] Married       Never-married Married       Never-married Never-married\n",
      "[11256] Married       Separated     Married       Married       Married      \n",
      "[11261] Divorced      Married       Married       Never-married Never-married\n",
      "[11266] Never-married Married       Married       Never-married Never-married\n",
      "[11271] Divorced      Married       Married       Married       Married      \n",
      "[11276] Married       Never-married Married       Never-married Never-married\n",
      "[11281] Never-married Never-married Never-married Married       Divorced     \n",
      "[11286] Married       Never-married Never-married Married       Married      \n",
      "[11291] Never-married Divorced      Married       Never-married Never-married\n",
      "[11296] Divorced      Never-married Married       Divorced      Never-married\n",
      "[11301] Married       Married       Never-married Never-married Married      \n",
      "[11306] Separated     Never-married Never-married Never-married Married      \n",
      "[11311] Divorced      Never-married Married       Divorced      Separated    \n",
      "[11316] Married       Never-married Never-married Divorced      Widowed      \n",
      "[11321] Never-married Married       Separated     Married       Never-married\n",
      "[11326] Married       Married       Never-married Never-married Married      \n",
      "[11331] Never-married Widowed       Never-married Married       Never-married\n",
      "[11336] Married       Divorced      Married       Never-married Never-married\n"
     ]
    },
    {
     "name": "stdout",
     "output_type": "stream",
     "text": [
      "[11341] Married       Married       Never-married Never-married Married      \n",
      "[11346] Divorced      Married       Widowed       Married       Married      \n",
      "[11351] Divorced      Married       Never-married Married       Married      \n",
      "[11356] Married       Divorced      Married       Widowed       Divorced     \n",
      "[11361] Married       Married       Married       Married       Never-married\n",
      "[11366] Never-married Married       Married       Separated     Never-married\n",
      "[11371] Divorced      Never-married Married       Never-married Married      \n",
      "[11376] Married       Married       Never-married Never-married Never-married\n",
      "[11381] Married       Married       Separated     Never-married Married      \n",
      "[11386] Never-married Divorced      Never-married Never-married Divorced     \n",
      "[11391] Married       Married       Separated     Never-married Divorced     \n",
      "[11396] Never-married Divorced      Never-married Separated     Married      \n",
      "[11401] Married       Never-married Never-married Married       Married      \n",
      "[11406] Never-married Married       Never-married Never-married Divorced     \n",
      "[11411] Never-married Never-married Married       Married       Never-married\n",
      "[11416] Married       Married       Married       Never-married Widowed      \n",
      "[11421] Married       Divorced      Married       Never-married Married      \n",
      "[11426] Married       Never-married Never-married Never-married Never-married\n",
      "[11431] Never-married Never-married Never-married Never-married Never-married\n",
      "[11436] Never-married Never-married Married       Married       Married      \n",
      "[11441] Married       Never-married Divorced      Never-married Married      \n",
      "[11446] Married       Never-married Married       Divorced      Never-married\n",
      "[11451] Never-married Never-married Married       Married       Married      \n",
      "[11456] Married       Married       Divorced      Married       Married      \n",
      "[11461] Never-married Married       Never-married Separated     Widowed      \n",
      "[11466] Never-married Married       Separated     Never-married Never-married\n",
      "[11471] Divorced      Never-married Married       Never-married Married      \n",
      "[11476] Never-married Never-married Never-married Married       Married      \n",
      "[11481] Married       Never-married Divorced      Married       Separated    \n",
      "[11486] Never-married Never-married Divorced      Married       Never-married\n",
      "[11491] Married       Married       Never-married Never-married Married      \n",
      "[11496] Married       Divorced      Never-married Never-married Never-married\n",
      "[11501] Never-married Never-married Married       Married       Married      \n",
      "[11506] Never-married Married       Never-married Married       Never-married\n",
      "[11511] Married       Divorced      Never-married Married       Widowed      \n",
      "[11516] Never-married Never-married Married       Widowed       Never-married\n",
      "[11521] Never-married Married       Married       Never-married Married      \n",
      "[11526] Never-married Married       Never-married Never-married Married      \n",
      "[11531] Never-married Never-married Widowed       Separated     Never-married\n",
      "[11536] Married       Never-married Married       Widowed       Married      \n",
      "[11541] Married       Married       Married       Never-married Never-married\n",
      "[11546] Married       Married       Married       Never-married Never-married\n",
      "[11551] Married       Divorced      Married       Widowed       Never-married\n",
      "[11556] Married       Married       Widowed       Married       Married      \n",
      "[11561] Married       Never-married Married       Never-married Widowed      \n",
      "[11566] Never-married Married       Divorced      Married       Never-married\n",
      "[11571] Never-married Divorced      Never-married Divorced      Married      \n",
      "[11576] Married       Married       Married       Never-married Divorced     \n",
      "[11581] Married       Married       Separated     Never-married Separated    \n",
      "[11586] Married       Never-married Never-married Never-married Married      \n",
      "[11591] Never-married Divorced      Divorced      Married       Married      \n",
      "[11596] Never-married Divorced      Divorced      Married       Married      \n",
      "[11601] Divorced      Married       Married       Never-married Married      \n",
      "[11606] Divorced      Never-married Married       Divorced      Married      \n",
      "[11611] Widowed       Married       Never-married Separated     Divorced     \n",
      "[11616] Married       Never-married Divorced      Never-married Married      \n",
      "[11621] Never-married Married       Never-married Never-married Divorced     \n",
      "[11626] Married       Never-married Married       Married       Married      \n",
      "[11631] Married       Married       Married       Married       Married      \n",
      "[11636] Never-married Never-married Never-married Never-married Married      \n",
      "[11641] Married       Divorced      Married       Never-married Married      \n",
      "[11646] Never-married Never-married Never-married Married       Divorced     \n",
      "[11651] Married       Married       Never-married Never-married Married      \n",
      "[11656] Never-married Never-married Married       Married       Never-married\n",
      "[11661] Never-married Married       Divorced      Married       Never-married\n",
      "[11666] Never-married Married       Separated     Never-married Divorced     \n",
      "[11671] Never-married Married       Never-married Widowed       Married      \n",
      "[11676] Never-married Married       Married       Married       Married      \n",
      "[11681] Married       Married       Never-married Married       Married      \n",
      "[11686] Married       Married       Married       Married       Married      \n",
      "[11691] Never-married Never-married Never-married Married       Married      \n",
      "[11696] Married       Married       Separated     Married       Married      \n",
      "[11701] Married       Married       Married       Married       Married      \n",
      "[11706] Married       Never-married Separated     Divorced      Married      \n",
      "[11711] Never-married Divorced      Never-married Married       Married      \n",
      "[11716] Married       Never-married Married       Married       Divorced     \n",
      "[11721] Married       Never-married Divorced      Married       Separated    \n",
      "[11726] Married       Never-married Never-married Married       Divorced     \n",
      "[11731] Never-married Married       Never-married Never-married Never-married\n",
      "[11736] Married       Married       Married       Divorced      Divorced     \n",
      "[11741] Married       Married       Married       Married       Married      \n",
      "[11746] Married       Never-married Married       Married       Widowed      \n",
      "[11751] Married       Divorced      Never-married Divorced      Married      \n",
      "[11756] Separated     Divorced      Married       Married       Never-married\n",
      "[11761] Married       Married       Never-married Married       Never-married\n",
      "[11766] Divorced      Divorced      Never-married Married       Never-married\n",
      "[11771] Married       Widowed       Married       Married       Married      \n",
      "[11776] Divorced      Married       Divorced      Never-married Married      \n",
      "[11781] Never-married Married       Never-married Divorced      Separated    \n",
      "[11786] Never-married Married       Married       Divorced      Married      \n",
      "[11791] Never-married Married       Married       Never-married Never-married\n",
      "[11796] Never-married Never-married Married       Divorced      Never-married\n",
      "[11801] Never-married Never-married Divorced      Married       Married      \n",
      "[11806] Divorced      Never-married Never-married Married       Married      \n",
      "[11811] Divorced      Widowed       Married       Married       Married      \n",
      "[11816] Married       Married       Never-married Never-married Married      \n",
      "[11821] Married       Married       Married       Never-married Married      \n",
      "[11826] Married       Married       Married       Divorced      Married      \n",
      "[11831] Never-married Divorced      Never-married Married       Married      \n",
      "[11836] Never-married Married       Married       Married       Married      \n",
      "[11841] Divorced      Never-married Married       Married       Married      \n",
      "[11846] Married       Married       Divorced      Divorced      Never-married\n",
      "[11851] Never-married Widowed       Married       Married       Married      \n",
      "[11856] Divorced      Divorced      Married       Never-married Separated    \n",
      "[11861] Married       Married       Married       Married       Married      \n"
     ]
    },
    {
     "name": "stdout",
     "output_type": "stream",
     "text": [
      "[11866] Never-married Married       Never-married Married       Never-married\n",
      "[11871] Never-married Never-married Divorced      Never-married Never-married\n",
      "[11876] Divorced      Married       Never-married Divorced      Married      \n",
      "[11881] Married       Never-married Married       Divorced      Married      \n",
      "[11886] Married       Divorced      Never-married Married       Married      \n",
      "[11891] Never-married Never-married Divorced      Married       Widowed      \n",
      "[11896] Never-married Married       Married       Married       Never-married\n",
      "[11901] Married       Never-married Divorced      Married       Married      \n",
      "[11906] Married       Never-married Married       Divorced      Never-married\n",
      "[11911] Divorced      Married       Never-married Never-married Married      \n",
      "[11916] Never-married Never-married Married       Married       Married      \n",
      "[11921] Never-married Married       Never-married Never-married Married      \n",
      "[11926] Divorced      Married       Divorced      Married       Married      \n",
      "[11931] Married       Married       Married       Never-married Widowed      \n",
      "[11936] Never-married Never-married Never-married Never-married Married      \n",
      "[11941] Married       Married       Married       Married       Never-married\n",
      "[11946] Never-married Never-married Never-married Married       Married      \n",
      "[11951] Married       Divorced      Never-married Married       Married      \n",
      "[11956] Never-married Never-married Married       Married       Never-married\n",
      "[11961] Married       Married       Married       Married       Widowed      \n",
      "[11966] Married       Never-married Divorced      Never-married Married      \n",
      "[11971] Married       Widowed       Never-married Never-married Never-married\n",
      "[11976] Married       Separated     Married       Married       Married      \n",
      "[11981] Never-married Married       Never-married Married       Married      \n",
      "[11986] Never-married Married       Married       Never-married Never-married\n",
      "[11991] Divorced      Widowed       Married       Divorced      Separated    \n",
      "[11996] Married       Married       Never-married Married       Married      \n",
      "[12001] Married       Divorced      Never-married Married       Divorced     \n",
      "[12006] Married       Married       Never-married Married       Married      \n",
      "[12011] Married       Divorced      Never-married Never-married Never-married\n",
      "[12016] Separated     Married       Widowed       Widowed       Married      \n",
      "[12021] Never-married Married       Never-married Divorced      Divorced     \n",
      "[12026] Divorced      Widowed       Never-married Never-married Separated    \n",
      "[12031] Married       Married       Divorced      Widowed       Married      \n",
      "[12036] Divorced      Never-married Married       Never-married Separated    \n",
      "[12041] Married       Married       Divorced      Married       Never-married\n",
      "[12046] Married       Married       Divorced      Never-married Never-married\n",
      "[12051] Married       Never-married Never-married Divorced      Never-married\n",
      "[12056] Widowed       Married       Divorced      Married       Never-married\n",
      "[12061] Married       Married       Never-married Never-married Widowed      \n",
      "[12066] Never-married Married       Never-married Never-married Married      \n",
      "[12071] Married       Never-married Married       Never-married Divorced     \n",
      "[12076] Married       Divorced      Divorced      Married       Married      \n",
      "[12081] Never-married Married       Never-married Married       Never-married\n",
      "[12086] Never-married Married       Never-married Married       Married      \n",
      "[12091] Married       Married       Never-married Married       Never-married\n",
      "[12096] Divorced      Divorced      Married       Never-married Married      \n",
      "[12101] Widowed       Married       Never-married Married       Married      \n",
      "[12106] Married       Married       Married       Divorced      Divorced     \n",
      "[12111] Divorced      Never-married Married       Never-married Never-married\n",
      "[12116] Married       Married       Married       Never-married Never-married\n",
      "[12121] Never-married Divorced      Never-married Never-married Never-married\n",
      "[12126] Married       Widowed       Married       Married       Never-married\n",
      "[12131] Married       Never-married Divorced      Never-married Divorced     \n",
      "[12136] Never-married Never-married Never-married Divorced      Married      \n",
      "[12141] Married       Widowed       Married       Married       Separated    \n",
      "[12146] Married       Married       Married       Married       Separated    \n",
      "[12151] Divorced      Divorced      Never-married Married       Married      \n",
      "[12156] Married       Married       Never-married Never-married Married      \n",
      "[12161] Never-married Never-married Never-married Never-married Never-married\n",
      "[12166] Never-married Never-married Married       Never-married Married      \n",
      "[12171] Married       Married       Divorced      Married       Married      \n",
      "[12176] Never-married Never-married Never-married Never-married Married      \n",
      "[12181] Never-married Never-married Married       Never-married Never-married\n",
      "[12186] Never-married Married       Never-married Married       Never-married\n",
      "[12191] Separated     Married       Never-married Never-married Married      \n",
      "[12196] Never-married Never-married Married       Married       Never-married\n",
      "[12201] Divorced      Separated     Married       Married       Married      \n",
      "[12206] Married       Never-married Married       Married       Married      \n",
      "[12211] Widowed       Never-married Separated     Divorced      Married      \n",
      "[12216] Married       Widowed       Separated     Never-married Married      \n",
      "[12221] Widowed       Married       Married       Married       Divorced     \n",
      "[12226] Married       Never-married Never-married Never-married Married      \n",
      "[12231] Married       Married       Married       Married       Married      \n",
      "[12236] Married       Never-married Married       Married       Married      \n",
      "[12241] Never-married Married       Never-married Married       Divorced     \n",
      "[12246] Widowed       Married       Married       Never-married Married      \n",
      "[12251] Never-married Never-married Never-married Divorced      Separated    \n",
      "[12256] Never-married Never-married Never-married Never-married Divorced     \n",
      "[12261] Widowed       Married       Married       Married       Married      \n",
      "[12266] Never-married Married       Married       Never-married Married      \n",
      "[12271] Divorced      Married       Married       Never-married Never-married\n",
      "[12276] Widowed       Married       Widowed       Never-married Married      \n",
      "[12281] Divorced      Married       Never-married Married       Never-married\n",
      "[12286] Separated     Never-married Never-married Never-married Married      \n",
      "[12291] Married       Never-married Never-married Separated     Separated    \n",
      "[12296] Married       Divorced      Married       Divorced      Divorced     \n",
      "[12301] Married       Widowed       Married       Married       Married      \n",
      "[12306] Divorced      Divorced      Never-married Never-married Divorced     \n",
      "[12311] Never-married Married       Married       Never-married Divorced     \n",
      "[12316] Married       Never-married Never-married Divorced      Separated    \n",
      "[12321] Never-married Never-married Divorced      Never-married Never-married\n",
      "[12326] Married       Never-married Never-married Married       Married      \n",
      "[12331] Married       Married       Married       Married       Never-married\n",
      "[12336] Married       Married       Divorced      Divorced      Married      \n",
      "[12341] Divorced      Married       Never-married Never-married Married      \n",
      "[12346] Never-married Never-married Married       Never-married Divorced     \n",
      "[12351] Never-married Never-married Never-married Never-married Divorced     \n",
      "[12356] Married       Never-married Divorced      Married       Divorced     \n",
      "[12361] Married       Married       Married       Never-married Divorced     \n",
      "[12366] Married       Married       Married       Married       Never-married\n",
      "[12371] Married       Divorced      Never-married Never-married Never-married\n",
      "[12376] Divorced      Married       Divorced      Married       Never-married\n",
      "[12381] Never-married Married       Married       Married       Married      \n",
      "[12386] Never-married Never-married Never-married Widowed       Married      \n"
     ]
    },
    {
     "name": "stdout",
     "output_type": "stream",
     "text": [
      "[12391] Never-married Divorced      Married       Never-married Never-married\n",
      "[12396] Married       Never-married Married       Married       Divorced     \n",
      "[12401] Married       Married       Never-married Married       Never-married\n",
      "[12406] Married       Never-married Divorced      Married       Married      \n",
      "[12411] Widowed       Never-married Married       Never-married Never-married\n",
      "[12416] Never-married Married       Never-married Never-married Married      \n",
      "[12421] Never-married Married       Married       Never-married Divorced     \n",
      "[12426] Widowed       Widowed       Never-married Divorced      Never-married\n",
      "[12431] Married       Married       Never-married Married       Married      \n",
      "[12436] Married      "
     ]
    },
    {
     "name": "stderr",
     "output_type": "stream",
     "text": [
      "IOPub message rate exceeded.\n",
      "The notebook server will temporarily stop sending output\n",
      "to the client in order to avoid crashing it.\n",
      "To change this limit, set the config variable\n",
      "`--NotebookApp.iopub_msg_rate_limit`.\n",
      "\n",
      "Current values:\n",
      "NotebookApp.iopub_msg_rate_limit=1000.0 (msgs/sec)\n",
      "NotebookApp.rate_limit_window=3.0 (secs)\n",
      "\n"
     ]
    },
    {
     "name": "stdout",
     "output_type": "stream",
     "text": [
      " Married       Divorced     \n",
      "[13816] Never-married Married       Never-married Married       Married      \n",
      "[13821] Divorced      Married       Married       Widowed       Never-married\n",
      "[13826] Divorced      Never-married Married       Never-married Never-married\n",
      "[13831] Married       Never-married Never-married Divorced      Divorced     \n",
      "[13836] Divorced      Married       Divorced      Married       Never-married\n",
      "[13841] Married       Married       Never-married Married       Married      \n",
      "[13846] Married       Married       Married       Never-married Married      \n",
      "[13851] Never-married Married       Never-married Separated     Never-married\n",
      "[13856] Married       Widowed       Divorced      Married       Never-married\n",
      "[13861] Never-married Never-married Married       Never-married Married      \n",
      "[13866] Divorced      Married       Married       Separated     Married      \n",
      "[13871] Divorced      Married       Married       Never-married Never-married\n",
      "[13876] Separated     Married       Married       Divorced      Married      \n",
      "[13881] Married       Never-married Married       Separated     Married      \n",
      "[13886] Never-married Married       Married       Divorced      Divorced     \n",
      "[13891] Separated     Married       Never-married Married       Divorced     \n",
      "[13896] Married       Never-married Married       Married       Never-married\n",
      "[13901] Married       Married       Never-married Married       Married      \n",
      "[13906] Never-married Divorced      Married       Divorced      Married      \n",
      "[13911] Married       Divorced      Married       Married       Widowed      \n",
      "[13916] Married       Married       Divorced      Never-married Married      \n",
      "[13921] Married       Married       Divorced      Never-married Married      \n",
      "[13926] Never-married Widowed       Never-married Never-married Never-married\n",
      "[13931] Married       Married       Divorced      Never-married Never-married\n",
      "[13936] Married       Married       Married       Married       Divorced     \n",
      "[13941] Married       Never-married Married       Never-married Married      \n",
      "[13946] Never-married Married       Married       Married       Never-married\n",
      "[13951] Married       Never-married Divorced      Never-married Never-married\n",
      "[13956] Widowed       Married       Divorced      Never-married Never-married\n",
      "[13961] Married       Never-married Married       Married       Never-married\n",
      "[13966] Married       Never-married Married       Married       Never-married\n",
      "[13971] Married       Married       Never-married Never-married Married      \n",
      "[13976] Never-married Never-married Never-married Married       Never-married\n",
      "[13981] Married       Never-married Never-married Widowed       Married      \n",
      "[13986] Never-married Never-married Married       Divorced      Married      \n",
      "[13991] Never-married Widowed       Never-married Never-married Divorced     \n",
      "[13996] Married       Never-married Married       Separated     Separated    \n",
      "[14001] Separated     Widowed       Widowed       Never-married Married      \n",
      "[14006] Never-married Divorced      Married       Married       Never-married\n",
      "[14011] Married       Never-married Married       Married       Divorced     \n",
      "[14016] Never-married Married       Married       Married       Never-married\n",
      "[14021] Never-married Divorced      Married       Never-married Married      \n",
      "[14026] Married       Never-married Never-married Married       Never-married\n",
      "[14031] Married       Divorced      Divorced      Married       Divorced     \n",
      "[14036] Married       Divorced      Never-married Married       Never-married\n",
      "[14041] Married       Married       Married       Never-married Never-married\n",
      "[14046] Married       Married       Married       Married       Never-married\n",
      "[14051] Never-married Married       Married       Never-married Married      \n",
      "[14056] Married       Married       Never-married Married       Married      \n",
      "[14061] Married       Never-married Never-married Married       Widowed      \n",
      "[14066] Never-married Married       Married       Never-married Married      \n",
      "[14071] Married       Never-married Never-married Never-married Married      \n",
      "[14076] Married       Married       Divorced      Never-married Never-married\n",
      "[14081] Never-married Married       Never-married Widowed       Never-married\n",
      "[14086] Divorced      Married       Married       Married       Never-married\n",
      "[14091] Married       Married       Divorced      Separated     Divorced     \n",
      "[14096] Never-married Never-married Never-married Never-married Divorced     \n",
      "[14101] Never-married Never-married Married       Married       Married      \n",
      "[14106] Never-married Divorced      Divorced      Never-married Married      \n",
      "[14111] Divorced      Never-married Never-married Never-married Married      \n",
      "[14116] Divorced      Married       Divorced      Divorced      Never-married\n",
      "[14121] Married       Never-married Married       Married       Never-married\n",
      "[14126] Married       Married       Married       Never-married Never-married\n",
      "[14131] Married       Married       Never-married Married       Divorced     \n",
      "[14136] Never-married Married       Never-married Widowed       Separated    \n",
      "[14141] Married       Married       Never-married Married       Divorced     \n",
      "[14146] Widowed       Married       Divorced      Married       Married      \n",
      "[14151] Divorced      Never-married Married       Never-married Divorced     \n",
      "[14156] Married       Married       Married       Divorced      Never-married\n",
      "[14161] Never-married Married       Separated     Married       Never-married\n",
      "[14166] Never-married Married       Married       Married       Married      \n",
      "[14171] Never-married Widowed       Never-married Never-married Married      \n",
      "[14176] Married       Never-married Divorced      Married       Widowed      \n",
      "[14181] Divorced      Divorced      Never-married Married       Never-married\n",
      "[14186] Divorced      Married       Divorced      Married       Married      \n",
      "[14191] Never-married Never-married Married       Married       Never-married\n",
      "[14196] Married       Married       Married       Never-married Married      \n",
      "[14201] Married       Married       Never-married Married       Married      \n",
      "[14206] Married       Never-married Married       Separated     Married      \n",
      "[14211] Divorced      Separated     Married       Married       Married      \n",
      "[14216] Separated     Married       Never-married Never-married Married      \n",
      "[14221] Married       Divorced      Divorced      Married       Married      \n",
      "[14226] Married       Married       Married       Separated     Married      \n",
      "[14231] Married       Married       Never-married Never-married Never-married\n",
      "[14236] Never-married Separated     Married       Separated     Married      \n",
      "[14241] Divorced      Married       Married       Widowed       Never-married\n",
      "[14246] Divorced      Married       Widowed       Married       Separated    \n",
      "[14251] Never-married Never-married Married       Married       Never-married\n",
      "[14256] Married       Married       Married       Married       Married      \n",
      "[14261] Never-married Married       Divorced      Married       Never-married\n",
      "[14266] Married       Divorced      Never-married Divorced      Married      \n",
      "[14271] Married       Divorced      Never-married Never-married Never-married\n",
      "[14276] Never-married Separated     Married       Widowed       Divorced     \n",
      "[14281] Married       Never-married Married       Never-married Married      \n",
      "[14286] Never-married Divorced      Married       Divorced      Married      \n",
      "[14291] Divorced      Widowed       Never-married Divorced      Married      \n",
      "[14296] Married       Never-married Never-married Never-married Married      \n",
      "[14301] Widowed       Never-married Never-married Married       Married      \n",
      "[14306] Married       Married       Married       Never-married Married      \n",
      "[14311] Never-married Never-married Never-married Never-married Married      \n",
      "[14316] Married       Married       Never-married Married       Never-married\n",
      "[14321] Divorced      Never-married Married       Never-married Married      \n",
      "[14326] Married       Married       Married       Never-married Never-married\n",
      "[14331] Widowed       Married       Divorced      Married       Never-married\n"
     ]
    },
    {
     "name": "stdout",
     "output_type": "stream",
     "text": [
      "[14336] Never-married Married       Never-married Widowed       Divorced     \n",
      "[14341] Divorced      Married       Divorced      Divorced      Never-married\n",
      "[14346] Married       Divorced      Separated     Married       Never-married\n",
      "[14351] Married       Never-married Married       Married       Married      \n",
      "[14356] Married       Widowed       Never-married Married       Married      \n",
      "[14361] Married       Married       Never-married Never-married Married      \n",
      "[14366] Widowed       Never-married Never-married Divorced      Never-married\n",
      "[14371] Never-married Married       Never-married Never-married Never-married\n",
      "[14376] Married       Married       Never-married Divorced      Married      \n",
      "[14381] Married       Divorced      Married       Divorced      Married      \n",
      "[14386] Married       Married       Married       Married       Widowed      \n",
      "[14391] Never-married Married       Separated     Married       Divorced     \n",
      "[14396] Married       Married       Never-married Married       Separated    \n",
      "[14401] Married       Divorced      Divorced      Married       Never-married\n",
      "[14406] Married       Married       Never-married Never-married Divorced     \n",
      "[14411] Married       Married       Separated     Married       Married      \n",
      "[14416] Married       Never-married Married       Married       Never-married\n",
      "[14421] Never-married Married       Married       Married       Divorced     \n",
      "[14426] Divorced      Never-married Never-married Never-married Widowed      \n",
      "[14431] Married       Never-married Never-married Married       Never-married\n",
      "[14436] Married       Never-married Married       Never-married Never-married\n",
      "[14441] Married       Married       Widowed       Married       Married      \n",
      "[14446] Divorced      Never-married Widowed       Married       Married      \n",
      "[14451] Never-married Never-married Never-married Never-married Married      \n",
      "[14456] Never-married Divorced      Never-married Married       Married      \n",
      "[14461] Never-married Never-married Married       Married       Never-married\n",
      "[14466] Widowed       Never-married Never-married Married       Married      \n",
      "[14471] Divorced      Never-married Divorced      Divorced      Never-married\n",
      "[14476] Never-married Separated     Never-married Never-married Never-married\n",
      "[14481] Never-married Never-married Never-married Separated     Divorced     \n",
      "[14486] Married       Widowed       Married       Never-married Married      \n",
      "[14491] Divorced      Married       Never-married Divorced      Never-married\n",
      "[14496] Never-married Married       Never-married Married       Never-married\n",
      "[14501] Never-married Divorced      Divorced      Never-married Never-married\n",
      "[14506] Married       Never-married Divorced      Married       Never-married\n",
      "[14511] Divorced      Never-married Divorced      Married       Married      \n",
      "[14516] Divorced      Separated     Never-married Divorced      Never-married\n",
      "[14521] Married       Married       Separated     Married       Never-married\n",
      "[14526] Married       Divorced      Married       Never-married Married      \n",
      "[14531] Never-married Divorced      Separated     Never-married Married      \n",
      "[14536] Married       Never-married Never-married Never-married Married      \n",
      "[14541] Never-married Never-married Never-married Never-married Never-married\n",
      "[14546] Married       Divorced      Separated     Divorced      Married      \n",
      "[14551] Married       Never-married Married       Married       Married      \n",
      "[14556] Married       Never-married Divorced      Never-married Never-married\n",
      "[14561] Married       Married       Married       Married       Married      \n",
      "[14566] Divorced      Married       Never-married Divorced      Never-married\n",
      "[14571] Divorced      Never-married Married       Married       Married      \n",
      "[14576] Never-married Married       Never-married Never-married Married      \n",
      "[14581] Never-married Divorced      Separated     Never-married Married      \n",
      "[14586] Married       Married       Never-married Never-married Married      \n",
      "[14591] Married       Never-married Married       Married       Never-married\n",
      "[14596] Divorced      Never-married Married       Married       Never-married\n",
      "[14601] Divorced      Never-married Separated     Never-married Married      \n",
      "[14606] Never-married Never-married Never-married Separated     Never-married\n",
      "[14611] Divorced      Never-married Married       Never-married Married      \n",
      "[14616] Married       Divorced      Divorced      Never-married Never-married\n",
      "[14621] Married       Married       Never-married Married       Never-married\n",
      "[14626] Never-married Married       Divorced      Married       Married      \n",
      "[14631] Never-married Never-married Married       Married       Married      \n",
      "[14636] Married       Married       Married       Never-married Married      \n",
      "[14641] Never-married Married       Married       Married       Married      \n",
      "[14646] Married       Never-married Widowed       Married       Married      \n",
      "[14651] Never-married Married       Married       Never-married Divorced     \n",
      "[14656] Married       Married       Married       Married       Divorced     \n",
      "[14661] Divorced      Married       Never-married Separated     Married      \n",
      "[14666] Never-married Never-married Married       Divorced      Married      \n",
      "[14671] Married       Never-married Married       Married       Married      \n",
      "[14676] Never-married Married       Married       Married       Married      \n",
      "[14681] Married       Married       Never-married Married       Never-married\n",
      "[14686] Married       Married       Never-married Married       Widowed      \n",
      "[14691] Married       Never-married Married       Married       Married      \n",
      "[14696] Never-married Married       Married       Never-married Married      \n",
      "[14701] Separated     Never-married Married       Married       Married      \n",
      "[14706] Never-married Never-married Never-married Never-married Married      \n",
      "[14711] Never-married Never-married Never-married Married       Divorced     \n",
      "[14716] Never-married Married       Married       Married       Married      \n",
      "[14721] Divorced      Never-married Divorced      Never-married Never-married\n",
      "[14726] Never-married Married       Married       Divorced      Married      \n",
      "[14731] Married       Never-married Married       Never-married Never-married\n",
      "[14736] Married       Separated     Married       Married       Never-married\n",
      "[14741] Never-married Never-married Never-married Never-married Divorced     \n",
      "[14746] Divorced      Married       Never-married Married       Divorced     \n",
      "[14751] Divorced      Married       Divorced      Never-married Separated    \n",
      "[14756] Divorced      Divorced      Divorced      Married       Never-married\n",
      "[14761] Married       Divorced      Never-married Married       Married      \n",
      "[14766] Never-married Divorced      Never-married Never-married Married      \n",
      "[14771] Married       Divorced      Never-married Married       Divorced     \n",
      "[14776] Divorced      Married       Never-married Never-married Never-married\n",
      "[14781] Married       Married       Never-married Married       Never-married\n",
      "[14786] Never-married Widowed       Never-married Married       Married      \n",
      "[14791] Never-married Never-married Never-married Never-married Married      \n",
      "[14796] Married       Never-married Never-married Married       Married      \n",
      "[14801] Never-married Widowed       Divorced      Separated     Married      \n",
      "[14806] Married       Married       Divorced      Never-married Married      \n",
      "[14811] Never-married Married       Never-married Never-married Married      \n",
      "[14816] Married       Married       Never-married Divorced      Divorced     \n",
      "[14821] Married       Divorced      Married       Divorced      Never-married\n",
      "[14826] Married       Never-married Never-married Married       Married      \n",
      "[14831] Married       Divorced      Never-married Divorced      Married      \n",
      "[14836] Never-married Never-married Married       Married       Divorced     \n",
      "[14841] Married       Never-married Married       Married       Married      \n",
      "[14846] Never-married Never-married Never-married Married       Married      \n",
      "[14851] Never-married Divorced      Separated     Married       Separated    \n",
      "[14856] Married       Married       Married       Widowed       Never-married\n"
     ]
    },
    {
     "name": "stdout",
     "output_type": "stream",
     "text": [
      "[14861] Married       Married       Never-married Married       Married      \n",
      "[14866] Married       Never-married Married       Separated     Married      \n",
      "[14871] Married       Married       Never-married Married       Divorced     \n",
      "[14876] Married       Divorced      Married       Married       Never-married\n",
      "[14881] Never-married Married       Widowed       Married       Never-married\n",
      "[14886] Divorced      Married       Divorced      Married       Divorced     \n",
      "[14891] Divorced      Married       Married       Married       Never-married\n",
      "[14896] Divorced      Never-married Never-married Married       Married      \n",
      "[14901] Divorced      Married       Married       Divorced      Divorced     \n",
      "[14906] Never-married Married       Never-married Married       Never-married\n",
      "[14911] Married       Never-married Married       Widowed       Never-married\n",
      "[14916] Married       Divorced      Divorced      Never-married Never-married\n",
      "[14921] Married       Divorced      Married       Never-married Married      \n",
      "[14926] Never-married Never-married Married       Never-married Married      \n",
      "[14931] Never-married Married       Never-married Never-married Never-married\n",
      "[14936] Married       Married       Married       Separated     Divorced     \n",
      "[14941] Never-married Married       Never-married Married       Married      \n",
      "[14946] Married       Married       Never-married Never-married Never-married\n",
      "[14951] Married       Married       Never-married Divorced      Never-married\n",
      "[14956] Separated     Never-married Divorced      Married       Married      \n",
      "[14961] Married       Married       Married       Married       Never-married\n",
      "[14966] Never-married Divorced      Never-married Never-married Never-married\n",
      "[14971] Married       Divorced      Never-married Divorced      Never-married\n",
      "[14976] Married       Married       Married       Married       Married      \n",
      "[14981] Married       Married       Separated     Widowed       Married      \n",
      "[14986] Divorced      Never-married Married       Never-married Married      \n",
      "[14991] Married       Married       Divorced      Divorced      Divorced     \n",
      "[14996] Married       Never-married Married       Never-married Divorced     \n",
      "[15001] Widowed       Never-married Married       Never-married Never-married\n",
      "[15006] Never-married Married       Never-married Married       Married      \n",
      "[15011] Never-married Married       Never-married Never-married Married      \n",
      "[15016] Married       Never-married Never-married Married       Never-married\n",
      "[15021] Married       Never-married Never-married Married       Never-married\n",
      "[15026] Never-married Married       Married       Never-married Never-married\n",
      "[15031] Never-married Married       Never-married Married       Married      \n",
      "[15036] Married       Married       Married       Married       Never-married\n",
      "[15041] Widowed       Divorced      Married       Never-married Never-married\n",
      "[15046] Married       Married       Never-married Married       Never-married\n",
      "[15051] Married       Never-married Married       Divorced      Married      \n",
      "[15056] Divorced      Married       Married       Married       Divorced     \n",
      "[15061] Married       Divorced      Widowed       Married       Married      \n",
      "[15066] Never-married Married       Widowed       Never-married Married      \n",
      "[15071] Married       Never-married Never-married Married       Married      \n",
      "[15076] Married       Never-married Never-married Married       Divorced     \n",
      "[15081] Never-married Divorced      Never-married Married       Never-married\n",
      "[15086] Never-married Never-married Never-married Never-married Married      \n",
      "[15091] Divorced      Never-married Never-married Divorced      Separated    \n",
      "[15096] Married       Married       Divorced      Married       Married      \n",
      "[15101] Married       Never-married Married       Never-married Never-married\n",
      "[15106] Married       Married       Married       Divorced      Married      \n",
      "[15111] Never-married Never-married Married       Divorced      Married      \n",
      "[15116] Divorced      Never-married Separated     Never-married Never-married\n",
      "[15121] Married       Never-married Divorced      Married       Widowed      \n",
      "[15126] Never-married Never-married Divorced      Married       Never-married\n",
      "[15131] Married       Married       Divorced      Divorced      Married      \n",
      "[15136] Married       Divorced      Married       Married       Never-married\n",
      "[15141] Never-married Never-married Never-married Divorced      Married      \n",
      "[15146] Married       Married       Never-married Married       Married      \n",
      "[15151] Never-married Never-married Never-married Married       Married      \n",
      "[15156] Married       Never-married Married       Married       Married      \n",
      "[15161] Married       Never-married Married       Married       Married      \n",
      "[15166] Married       Never-married Divorced      Never-married Never-married\n",
      "[15171] Married       Divorced      Never-married Married       Divorced     \n",
      "[15176] Never-married Divorced      Married       Never-married Never-married\n",
      "[15181] Widowed       Never-married Divorced      Married       Married      \n",
      "[15186] Married       Married       Never-married Divorced      Never-married\n",
      "[15191] Never-married Never-married Married       Married       Married      \n",
      "[15196] Married       Married       Never-married Married       Never-married\n",
      "[15201] Never-married Divorced      Married       Never-married Married      \n",
      "[15206] Never-married Married       Never-married Married       Never-married\n",
      "[15211] Divorced      Married       Never-married Never-married Never-married\n",
      "[15216] Divorced      Married       Married       Married       Separated    \n",
      "[15221] Never-married Married       Divorced      Married       Married      \n",
      "[15226] Widowed       Married       Married       Married       Married      \n",
      "[15231] Married       Divorced      Widowed       Separated     Divorced     \n",
      "[15236] Divorced      Never-married Never-married Never-married Married      \n",
      "[15241] Never-married Married       Never-married Married       Married      \n",
      "[15246] Never-married Married       Married       Married       Never-married\n",
      "[15251] Divorced      Divorced      Never-married Married       Never-married\n",
      "[15256] Married       Divorced      Never-married Never-married Never-married\n",
      "[15261] Divorced      Married       Never-married Never-married Never-married\n",
      "[15266] Married       Never-married Married       Married       Married      \n",
      "[15271] Divorced      Divorced      Married       Divorced      Married      \n",
      "[15276] Never-married Divorced      Never-married Never-married Divorced     \n",
      "[15281] Divorced      Never-married Married       Never-married Never-married\n",
      "[15286] Never-married Married       Never-married Married       Married      \n",
      "[15291] Never-married Never-married Divorced      Never-married Married      \n",
      "[15296] Married       Never-married Married       Never-married Married      \n",
      "[15301] Married       Never-married Divorced      Married       Divorced     \n",
      "[15306] Married       Married       Divorced      Married       Married      \n",
      "[15311] Married       Married       Married       Married       Married      \n",
      "[15316] Never-married Married       Married       Married       Never-married\n",
      "[15321] Married       Never-married Married       Never-married Married      \n",
      "[15326] Married       Never-married Divorced      Divorced      Never-married\n",
      "[15331] Widowed       Separated     Separated     Separated     Married      \n",
      "[15336] Never-married Married       Never-married Divorced      Married      \n",
      "[15341] Married       Never-married Divorced      Divorced      Divorced     \n",
      "[15346] Divorced      Married       Widowed       Married       Married      \n",
      "[15351] Never-married Married       Married       Never-married Divorced     \n",
      "[15356] Married       Married       Married       Never-married Married      \n",
      "[15361] Divorced      Married       Never-married Married       Never-married\n",
      "[15366] Never-married Married       Never-married Divorced      Married      \n",
      "[15371] Never-married Divorced      Married       Married       Married      \n",
      "[15376] Never-married Divorced      Widowed       Married       Married      \n",
      "[15381] Never-married Married       Married       Divorced      Divorced     \n"
     ]
    },
    {
     "name": "stdout",
     "output_type": "stream",
     "text": [
      "[15386] Married       Never-married Married       Never-married Never-married\n",
      "[15391] Married       Married       Married       Divorced      Married      \n",
      "[15396] Divorced      Married       Married       Divorced      Married      \n",
      "[15401] Widowed       Married       Married       Never-married Never-married\n",
      "[15406] Never-married Married       Married       Married       Divorced     \n",
      "[15411] Married       Married       Married       Married       Married      \n",
      "[15416] Married       Never-married Widowed       Married       Married      \n",
      "[15421] Divorced      Married       Married       Married       Divorced     \n",
      "[15426] Never-married Separated     Married       Married       Separated    \n",
      "[15431] Divorced      Divorced      Married       Widowed       Married      \n",
      "[15436] Separated     Never-married Married       Never-married Married      \n",
      "[15441] Never-married Never-married Married       Married       Married      \n",
      "[15446] Married       Divorced      Married       Married       Married      \n",
      "[15451] Never-married Married       Married       Married       Married      \n",
      "[15456] Never-married Married       Separated     Married       Married      \n",
      "[15461] Married       Married       Divorced      Widowed       Married      \n",
      "[15466] Separated     Never-married Divorced      Married       Married      \n",
      "[15471] Never-married Divorced      Married       Married       Married      \n",
      "[15476] Married       Married       Never-married Married       Married      \n",
      "[15481] Married       Married       Married       Never-married Never-married\n",
      "[15486] Never-married Married       Never-married Married       Married      \n",
      "[15491] Married       Married       Never-married Married       Never-married\n",
      "[15496] Never-married Never-married Married       Widowed       Never-married\n",
      "[15501] Never-married Divorced      Divorced      Divorced      Never-married\n",
      "[15506] Married       Married       Married       Divorced      Never-married\n",
      "[15511] Married       Never-married Never-married Married       Married      \n",
      "[15516] Married       Married       Separated     Never-married Separated    \n",
      "[15521] Married       Married       Married       Married       Never-married\n",
      "[15526] Married       Married       Married       Divorced      Divorced     \n",
      "[15531] Married       Never-married Divorced      Divorced      Married      \n",
      "[15536] Never-married Never-married Never-married Married       Never-married\n",
      "[15541] Married       Married       Married       Never-married Married      \n",
      "[15546] Married       Divorced      Divorced      Married       Never-married\n",
      "[15551] Never-married Never-married Married       Divorced      Divorced     \n",
      "[15556] Married       Married       Married       Never-married Never-married\n",
      "[15561] Never-married Never-married Never-married Married       Divorced     \n",
      "[15566] Married       Married       Divorced      Never-married Never-married\n",
      "[15571] Divorced      Never-married Married       Never-married Married      \n",
      "[15576] Married       Married       Never-married Never-married Married      \n",
      "[15581] Never-married Married       Married       Widowed       Divorced     \n",
      "[15586] Never-married Divorced      Divorced      Never-married Never-married\n",
      "[15591] Never-married Married       Married       Married       Married      \n",
      "[15596] Never-married Married       Never-married Married       Married      \n",
      "[15601] Never-married Married       Married       Never-married Never-married\n",
      "[15606] Married       Married       Married       Married       Married      \n",
      "[15611] Never-married Never-married Married       Never-married Never-married\n",
      "[15616] Divorced      Married       Never-married Never-married Never-married\n",
      "[15621] Never-married Never-married Married       Married       Never-married\n",
      "[15626] Married       Married       Married       Married       Never-married\n",
      "[15631] Married       Married       Never-married Never-married Separated    \n",
      "[15636] Never-married Married       Separated     Married       Married      \n",
      "[15641] Married       Married       Married       Never-married Separated    \n",
      "[15646] Married       Never-married Widowed       Never-married Married      \n",
      "[15651] Married       Never-married Divorced      Never-married Married      \n",
      "[15656] Married       Never-married Married       Never-married Married      \n",
      "[15661] Divorced      Divorced      Never-married Married       Divorced     \n",
      "[15666] Never-married Married       Widowed       Never-married Married      \n",
      "[15671] Married       Married       Married       Never-married Married      \n",
      "[15676] Married       Married       Married       Widowed       Married      \n",
      "[15681] Married       Never-married Divorced      Married       Never-married\n",
      "[15686] Widowed       Never-married Divorced      Separated     Married      \n",
      "[15691] Married       Never-married Married       Never-married Married      \n",
      "[15696] Never-married Married       Never-married Married       Married      \n",
      "[15701] Never-married Married       Married       Married       Married      \n",
      "[15706] Never-married Married       Married       Married       Married      \n",
      "[15711] Married       Married       Widowed       Married       Married      \n",
      "[15716] Married       Married       Married       Married       Never-married\n",
      "[15721] Married       Married       Never-married Never-married Divorced     \n",
      "[15726] Married       Widowed       Never-married Never-married Married      \n",
      "[15731] Married       Never-married Married       Never-married Widowed      \n",
      "[15736] Married       Never-married Married       Separated     Divorced     \n",
      "[15741] Married       Married       Divorced      Married       Divorced     \n",
      "[15746] Never-married Separated     Married       Divorced      Married      \n",
      "[15751] Separated     Married       Never-married Married       Married      \n",
      "[15756] Separated     Divorced      Never-married Never-married Never-married\n",
      "[15761] Never-married Separated     Never-married Never-married Married      \n",
      "[15766] Never-married Never-married Never-married Married       Divorced     \n",
      "[15771] Divorced      Married       Married       Never-married Married      \n",
      "[15776] Married       Never-married Married       Never-married Married      \n",
      "[15781] Never-married Married       Widowed       Married       Married      \n",
      "[15786] Married       Married       Married       Divorced      Never-married\n",
      "[15791] Divorced      Never-married Never-married Married       Married      \n",
      "[15796] Married       Married       Married       Never-married Married      \n",
      "[15801] Never-married Separated     Divorced      Never-married Divorced     \n",
      "[15806] Never-married Married       Married       Never-married Separated    \n",
      "[15811] Married       Married       Never-married Married       Never-married\n",
      "[15816] Married       Never-married Never-married Never-married Never-married\n",
      "[15821] Divorced      Married       Married       Never-married Divorced     \n",
      "[15826] Married       Divorced      Married       Never-married Married      \n",
      "[15831] Divorced      Divorced      Married       Never-married Married      \n",
      "[15836] Married       Never-married Never-married Never-married Divorced     \n",
      "[15841] Never-married Never-married Married       Married       Married      \n",
      "[15846] Married       Never-married Married       Married       Married      \n",
      "[15851] Never-married Separated     Never-married Divorced      Never-married\n",
      "[15856] Divorced      Never-married Married       Never-married Never-married\n",
      "[15861] Never-married Married       Married       Never-married Never-married\n",
      "[15866] Never-married Divorced      Never-married Married       Never-married\n",
      "[15871] Separated     Married       Never-married Married       Never-married\n",
      "[15876] Never-married Divorced      Never-married Married       Separated    \n",
      "[15881] Married       Married       Separated     Married       Married      \n",
      "[15886] Never-married Widowed       Married       Married       Divorced     \n",
      "[15891] Married       Divorced      Married       Never-married Married      \n",
      "[15896] Never-married Married       Married       Divorced      Never-married\n",
      "[15901] Married       Married       Divorced      Divorced      Never-married\n",
      "[15906] Never-married Never-married Never-married Married       Married      \n"
     ]
    },
    {
     "name": "stdout",
     "output_type": "stream",
     "text": [
      "[15911] Married       Married       Never-married Divorced      Married      \n",
      "[15916] Widowed       Married       Divorced      Married       Married      \n",
      "[15921] Never-married Married       Married       Never-married Married      \n",
      "[15926] Married       Married       Married       Divorced      Separated    \n",
      "[15931] Never-married Separated     Never-married Married       Married      \n",
      "[15936] Never-married Married       Married       Married       Married      \n",
      "[15941] Married       Never-married Married       Married       Never-married\n",
      "[15946] Married       Married       Never-married Married       Married      \n",
      "[15951] Never-married Married       Married       Widowed       Married      \n",
      "[15956]"
     ]
    },
    {
     "name": "stderr",
     "output_type": "stream",
     "text": [
      "IOPub message rate exceeded.\n",
      "The notebook server will temporarily stop sending output\n",
      "to the client in order to avoid crashing it.\n",
      "To change this limit, set the config variable\n",
      "`--NotebookApp.iopub_msg_rate_limit`.\n",
      "\n",
      "Current values:\n",
      "NotebookApp.iopub_msg_rate_limit=1000.0 (msgs/sec)\n",
      "NotebookApp.rate_limit_window=3.0 (secs)\n",
      "\n"
     ]
    },
    {
     "name": "stdout",
     "output_type": "stream",
     "text": [
      " Married       Never-married Married       Never-married Never-married\n",
      "[17546] Married       Married       Never-married Married       Never-married\n",
      "[17551] Never-married Never-married Never-married Never-married Married      \n",
      "[17556] Married       Married       Married       Married       Never-married\n",
      "[17561] Married       Married       Never-married Married       Divorced     \n",
      "[17566] Never-married Married       Married       Widowed       Married      \n",
      "[17571] Never-married Married       Married       Never-married Never-married\n",
      "[17576] Never-married Married       Married       Married       Divorced     \n",
      "[17581] Widowed       Separated     Separated     Married       Married      \n",
      "[17586] Married       Married       Married       Divorced      Married      \n",
      "[17591] Married       Never-married Never-married Married       Never-married\n",
      "[17596] Married       Never-married Never-married Married       Never-married\n",
      "[17601] Never-married Married       Never-married Married       Married      \n",
      "[17606] Never-married Never-married Married       Never-married Never-married\n",
      "[17611] Divorced      Divorced      Married       Never-married Never-married\n",
      "[17616] Widowed       Never-married Never-married Married       Never-married\n",
      "[17621] Never-married Divorced      Married       Never-married Married      \n",
      "[17626] Never-married Never-married Never-married Separated     Married      \n",
      "[17631] Married       Never-married Married       Married       Separated    \n",
      "[17636] Divorced      Divorced      Married       Married       Married      \n",
      "[17641] Never-married Never-married Never-married Married       Divorced     \n",
      "[17646] Married       Married       Married       Married       Married      \n",
      "[17651] Married       Married       Never-married Married       Never-married\n",
      "[17656] Married       Never-married Never-married Widowed       Divorced     \n",
      "[17661] Married       Never-married Married       Never-married Never-married\n",
      "[17666] Never-married Never-married Married       Never-married Never-married\n",
      "[17671] Married       Married       Never-married Married       Separated    \n",
      "[17676] Married       Never-married Divorced      Married       Never-married\n",
      "[17681] Married       Married       Never-married Married       Never-married\n",
      "[17686] Married       Never-married Married       Married       Married      \n",
      "[17691] Never-married Never-married Never-married Separated     Married      \n",
      "[17696] Married       Never-married Never-married Never-married Married      \n",
      "[17701] Divorced      Married       Married       Never-married Never-married\n",
      "[17706] Divorced      Never-married Married       Never-married Married      \n",
      "[17711] Married       Married       Married       Never-married Never-married\n",
      "[17716] Divorced      Never-married Married       Separated     Married      \n",
      "[17721] Married       Divorced      Married       Widowed       Married      \n",
      "[17726] Separated     Divorced      Divorced      Never-married Never-married\n",
      "[17731] Married       Married       Married       Married       Divorced     \n",
      "[17736] Married       Divorced      Separated     Divorced      Married      \n",
      "[17741] Never-married Never-married Married       Married       Separated    \n",
      "[17746] Never-married Widowed       Divorced      Widowed       Married      \n",
      "[17751] Married       Married       Married       Married       Divorced     \n",
      "[17756] Married       Never-married Divorced      Divorced      Married      \n",
      "[17761] Married       Married       Never-married Married       Divorced     \n",
      "[17766] Divorced      Never-married Never-married Divorced      Married      \n",
      "[17771] Never-married Married       Never-married Never-married Never-married\n",
      "[17776] Married       Married       Never-married Never-married Married      \n",
      "[17781] Widowed       Married       Never-married Divorced      Never-married\n",
      "[17786] Married       Married       Never-married Married       Never-married\n",
      "[17791] Never-married Married       Married       Never-married Never-married\n",
      "[17796] Married       Married       Married       Divorced      Never-married\n",
      "[17801] Married       Never-married Married       Married       Never-married\n",
      "[17806] Divorced      Married       Never-married Married       Never-married\n",
      "[17811] Married       Never-married Married       Never-married Married      \n",
      "[17816] Married       Married       Never-married Separated     Married      \n",
      "[17821] Divorced      Married       Married       Married       Divorced     \n",
      "[17826] Married       Divorced      Never-married Married       Never-married\n",
      "[17831] Never-married Married       Married       Married       Divorced     \n",
      "[17836] Married       Never-married Widowed       Married       Married      \n",
      "[17841] Never-married Never-married Divorced      Never-married Married      \n",
      "[17846] Married       Divorced      Never-married Divorced      Never-married\n",
      "[17851] Married       Divorced      Married       Married       Never-married\n",
      "[17856] Married       Married       Married       Married       Never-married\n",
      "[17861] Never-married Never-married Married       Married       Divorced     \n",
      "[17866] Married       Never-married Divorced      Married       Never-married\n",
      "[17871] Never-married Divorced      Never-married Separated     Separated    \n",
      "[17876] Never-married Married       Divorced      Married       Never-married\n",
      "[17881] Divorced      Never-married Married       Never-married Married      \n",
      "[17886] Married       Married       Married       Married       Widowed      \n",
      "[17891] Married       Never-married Never-married Married       Married      \n",
      "[17896] Never-married Divorced      Married       Divorced      Never-married\n",
      "[17901] Married       Married       Divorced      Married       Divorced     \n",
      "[17906] Never-married Married       Divorced      Married       Divorced     \n",
      "[17911] Widowed       Separated     Divorced      Never-married Never-married\n",
      "[17916] Married       Married       Never-married Married       Married      \n",
      "[17921] Married       Divorced      Married       Never-married Never-married\n",
      "[17926] Married       Married       Married       Married       Married      \n",
      "[17931] Married       Married       Married       Never-married Married      \n",
      "[17936] Divorced      Married       Never-married Widowed       Married      \n",
      "[17941] Married       Married       Divorced      Divorced      Married      \n",
      "[17946] Married       Married       Married       Married       Married      \n",
      "[17951] Married       Married       Married       Never-married Never-married\n",
      "[17956] Married       Never-married Married       Widowed       Never-married\n",
      "[17961] Married       Married       Married       Married       Never-married\n",
      "[17966] Married       Married       Never-married Divorced      Married      \n",
      "[17971] Married       Never-married Divorced      Married       Married      \n",
      "[17976] Never-married Divorced      Married       Never-married Married      \n",
      "[17981] Married       Never-married Married       Widowed       Never-married\n",
      "[17986] Never-married Never-married Married       Married       Married      \n",
      "[17991] Never-married Married       Never-married Never-married Married      \n",
      "[17996] Married       Never-married Married       Never-married Married      \n",
      "[18001] Married       Never-married Married       Divorced      Married      \n",
      "[18006] Married       Divorced      Married       Married       Divorced     \n",
      "[18011] Married       Widowed       Married       Never-married Married      \n",
      "[18016] Never-married Married       Married       Married       Married      \n",
      "[18021] Divorced      Married       Married       Separated     Never-married\n",
      "[18026] Married       Never-married Never-married Divorced      Married      \n",
      "[18031] Separated     Divorced      Never-married Married       Never-married\n",
      "[18036] Married       Never-married Never-married Never-married Never-married\n",
      "[18041] Married       Married       Married       Never-married Married      \n",
      "[18046] Married       Married       Married       Married       Married      \n",
      "[18051] Married       Married       Never-married Never-married Divorced     \n",
      "[18056] Married       Never-married Divorced      Married       Married      \n",
      "[18061] Married       Never-married Divorced      Separated     Never-married\n"
     ]
    },
    {
     "name": "stdout",
     "output_type": "stream",
     "text": [
      "[18066] Divorced      Never-married Never-married Married       Married      \n",
      "[18071] Married       Married       Married       Never-married Married      \n",
      "[18076] Married       Married       Married       Married       Divorced     \n",
      "[18081] Married       Never-married Married       Divorced      Widowed      \n",
      "[18086] Married       Never-married Married       Never-married Married      \n",
      "[18091] Married       Never-married Divorced      Married       Never-married\n",
      "[18096] Never-married Never-married Married       Married       Married      \n",
      "[18101] Married       Married       Married       Divorced      Never-married\n",
      "[18106] Married       Never-married Never-married Never-married Never-married\n",
      "[18111] Married       Married       Never-married Married       Divorced     \n",
      "[18116] Married       Divorced      Never-married Married       Married      \n",
      "[18121] Married       Never-married Married       Widowed       Married      \n",
      "[18126] Married       Married       Never-married Married       Never-married\n",
      "[18131] Divorced      Never-married Married       Married       Married      \n",
      "[18136] Separated     Married       Divorced      Married       Married      \n",
      "[18141] Never-married Married       Never-married Never-married Married      \n",
      "[18146] Married       Married       Married       Separated     Married      \n",
      "[18151] Never-married Married       Divorced      Never-married Divorced     \n",
      "[18156] Married       Married       Never-married Married       Never-married\n",
      "[18161] Married       Never-married Divorced      Married       Divorced     \n",
      "[18166] Widowed       Married       Never-married Married       Married      \n",
      "[18171] Never-married Married       Married       Widowed       Never-married\n",
      "[18176] Never-married Never-married Separated     Married       Married      \n",
      "[18181] Never-married Divorced      Married       Never-married Never-married\n",
      "[18186] Never-married Divorced      Never-married Married       Married      \n",
      "[18191] Never-married Widowed       Divorced      Never-married Never-married\n",
      "[18196] Never-married Never-married Widowed       Married       Never-married\n",
      "[18201] Married       Divorced      Married       Married       Married      \n",
      "[18206] Married       Married       Married       Married       Married      \n",
      "[18211] Never-married Divorced      Divorced      Married       Married      \n",
      "[18216] Married       Never-married Married       Widowed       Never-married\n",
      "[18221] Married       Divorced      Married       Married       Married      \n",
      "[18226] Divorced      Married       Married       Married       Never-married\n",
      "[18231] Never-married Divorced      Widowed       Separated     Married      \n",
      "[18236] Married       Separated     Widowed       Divorced      Married      \n",
      "[18241] Married       Divorced      Married       Never-married Never-married\n",
      "[18246] Married       Never-married Never-married Married       Married      \n",
      "[18251] Married       Married       Separated     Divorced      Never-married\n",
      "[18256] Never-married Married       Married       Married       Divorced     \n",
      "[18261] Divorced      Married       Married       Married       Married      \n",
      "[18266] Married       Separated     Married       Married       Divorced     \n",
      "[18271] Divorced      Married       Separated     Married       Divorced     \n",
      "[18276] Never-married Never-married Never-married Divorced      Married      \n",
      "[18281] Married       Separated     Never-married Never-married Married      \n",
      "[18286] Separated     Married       Never-married Married       Married      \n",
      "[18291] Divorced      Never-married Married       Married       Separated    \n",
      "[18296] Never-married Never-married Never-married Never-married Never-married\n",
      "[18301] Married       Married       Divorced      Married       Married      \n",
      "[18306] Married       Separated     Divorced      Divorced      Never-married\n",
      "[18311] Married       Married       Never-married Never-married Married      \n",
      "[18316] Married       Divorced      Widowed       Married       Married      \n",
      "[18321] Never-married Divorced      Widowed       Never-married Married      \n",
      "[18326] Never-married Married       Never-married Married       Separated    \n",
      "[18331] Married       Divorced      Married       Married       Never-married\n",
      "[18336] Divorced      Never-married Never-married Married       Never-married\n",
      "[18341] Never-married Married       Married       Divorced      Never-married\n",
      "[18346] Divorced      Never-married Married       Married       Married      \n",
      "[18351] Never-married Never-married Married       Married       Married      \n",
      "[18356] Married       Separated     Married       Married       Divorced     \n",
      "[18361] Never-married Never-married Married       Never-married Separated    \n",
      "[18366] Never-married Married       Never-married Widowed       Married      \n",
      "[18371] Married       Divorced      Married       Married       Separated    \n",
      "[18376] Divorced      Married       Married       Never-married Never-married\n",
      "[18381] Married       Married       Never-married Married       Never-married\n",
      "[18386] Never-married Married       Married       Never-married Separated    \n",
      "[18391] Married       Married       Widowed       Married       Married      \n",
      "[18396] Married       Married       Married       Divorced      Divorced     \n",
      "[18401] Never-married Never-married Divorced      Married       Married      \n",
      "[18406] Married       Never-married Married       Married       Married      \n",
      "[18411] Divorced      Married       Separated     Married       Married      \n",
      "[18416] Divorced      Separated     Divorced      Married       Never-married\n",
      "[18421] Divorced      Married       Divorced      Married       Never-married\n",
      "[18426] Married       Widowed       Never-married Married       Married      \n",
      "[18431] Married       Never-married Widowed       Married       Never-married\n",
      "[18436] Never-married Never-married Married       Never-married Divorced     \n",
      "[18441] Married       Married       Married       Never-married Married      \n",
      "[18446] Never-married Married       Married       Married       Married      \n",
      "[18451] Never-married Never-married Married       Never-married Never-married\n",
      "[18456] Never-married Never-married Divorced      Separated     Never-married\n",
      "[18461] Never-married Never-married Married       Married       Never-married\n",
      "[18466] Married       Married       Married       Married       Never-married\n",
      "[18471] Married       Married       Never-married Married       Never-married\n",
      "[18476] Never-married Married       Married       Married       Married      \n",
      "[18481] Married       Never-married Married       Married       Never-married\n",
      "[18486] Married       Married       Divorced      Married       Married      \n",
      "[18491] Divorced      Married       Never-married Never-married Married      \n",
      "[18496] Separated     Never-married Married       Never-married Divorced     \n",
      "[18501] Married       Married       Divorced      Never-married Married      \n",
      "[18506] Never-married Married       Never-married Married       Never-married\n",
      "[18511] Never-married Married       Married       Never-married Married      \n",
      "[18516] Married       Never-married Married       Separated     Widowed      \n",
      "[18521] Married       Married       Married       Married       Divorced     \n",
      "[18526] Widowed       Divorced      Never-married Never-married Married      \n",
      "[18531] Married       Never-married Never-married Married       Married      \n",
      "[18536] Divorced      Never-married Married       Never-married Divorced     \n",
      "[18541] Married       Married       Divorced      Married       Never-married\n",
      "[18546] Married       Divorced      Never-married Never-married Divorced     \n",
      "[18551] Divorced      Never-married Married       Married       Never-married\n",
      "[18556] Married       Never-married Married       Separated     Never-married\n",
      "[18561] Married       Married       Married       Married       Never-married\n",
      "[18566] Married       Married       Married       Separated     Married      \n",
      "[18571] Separated     Never-married Never-married Never-married Never-married\n",
      "[18576] Never-married Divorced      Never-married Married       Widowed      \n",
      "[18581] Married       Widowed       Married       Married       Divorced     \n",
      "[18586] Divorced      Married       Never-married Married       Never-married\n"
     ]
    },
    {
     "name": "stdout",
     "output_type": "stream",
     "text": [
      "[18591] Never-married Never-married Never-married Divorced      Married      \n",
      "[18596] Married       Divorced      Never-married Never-married Never-married\n",
      "[18601] Never-married Divorced      Divorced      Never-married Divorced     \n",
      "[18606] Married       Married       Widowed       Married       Never-married\n",
      "[18611] Never-married Married       Married       Married       Never-married\n",
      "[18616] Never-married Never-married Divorced      Married       Never-married\n",
      "[18621] Married       Married       Never-married Married       Married      \n",
      "[18626] Never-married Married       Divorced      Never-married Never-married\n",
      "[18631] Never-married Married       Never-married Divorced      Never-married\n",
      "[18636] Married       Never-married Married       Never-married Never-married\n",
      "[18641] Married       Married       Married       Never-married Divorced     \n",
      "[18646] Married       Married       Married       Married       Divorced     \n",
      "[18651] Married       Divorced      Never-married Married       Never-married\n",
      "[18656] Never-married Never-married Never-married Married       Married      \n",
      "[18661] Never-married Never-married Never-married Married       Divorced     \n",
      "[18666] Divorced      Never-married Never-married Married       Divorced     \n",
      "[18671] Widowed       Never-married Married       Divorced      Married      \n",
      "[18676] Divorced      Never-married Divorced      Married       Never-married\n",
      "[18681] Separated     Married       Married       Never-married Married      \n",
      "[18686] Married       Never-married Married       Married       Never-married\n",
      "[18691] Married       Never-married Married       Married       Never-married\n",
      "[18696] Married       Divorced      Married       Married       Never-married\n",
      "[18701] Married       Never-married Divorced      Married       Widowed      \n",
      "[18706] Married       Married       Divorced      Married       Married      \n",
      "[18711] Married       Never-married Married       Married       Divorced     \n",
      "[18716] Divorced      Married       Married       Never-married Never-married\n",
      "[18721] Married       Never-married Divorced      Separated     Never-married\n",
      "[18726] Never-married Never-married Never-married Never-married Married      \n",
      "[18731] Married       Married       Married       Never-married Divorced     \n",
      "[18736] Never-married Divorced      Widowed       Separated     Married      \n",
      "[18741] Never-married Married       Divorced      Married       Married      \n",
      "[18746] Widowed       Married       Never-married Divorced      Married      \n",
      "[18751] Never-married Married       Married       Married       Never-married\n",
      "[18756] Married       Divorced      Married       Married       Divorced     \n",
      "[18761] Married      \n",
      "Levels: Divorced Married Never-married Separated Widowed\n"
     ]
    }
   ],
   "source": [
    "%%R\n",
    "# Change categorical attributes to factors\n",
    "adult_train_r$Income <- factor(adult_train_r$Income)\n",
    "adult_train_r$Marital.status <- factor(adult_train_r$Marital.status)\n"
   ]
  },
  {
   "cell_type": "markdown",
   "id": "df6ad8b9",
   "metadata": {},
   "source": [
    "#### 23. Using the training data set, create a C5.0 model (Model 1) to predict a customer’s Income using Marital Status and Capital Gains and Losses. Obtain the predicted responses."
   ]
  },
  {
   "cell_type": "markdown",
   "id": "7545a99f",
   "metadata": {},
   "source": [
    "### Python"
   ]
  },
  {
   "cell_type": "code",
   "execution_count": 59,
   "id": "eb9e3720",
   "metadata": {},
   "outputs": [],
   "source": [
    "y = adult_train_py[['Income']]\n",
    "y_test = adult_test_py[['Income']]\n",
    "X = adult_train_py[['Marital status', 'Cap_Gains_Losses']]\n",
    "X_test = adult_test_py[['Marital status', 'Cap_Gains_Losses']]\n",
    "marital_dummy = pd.get_dummies(X['Marital status'])\n",
    "marital_dummy_test = pd.get_dummies(X_test['Marital status'])\n",
    "X = pd.concat((X[['Cap_Gains_Losses']], marital_dummy), axis = 1)\n",
    "X_test = pd.concat((X_test[['Cap_Gains_Losses']], marital_dummy_test), axis = 1)\n",
    "C5_py = DecisionTreeClassifier(criterion='entropy', min_samples_split=75, max_leaf_nodes=5).fit(X, y)\n",
    "C5_test_py = DecisionTreeClassifier(criterion='entropy', min_samples_split=75, max_leaf_nodes=5).fit(X_test, y_test)\n"
   ]
  },
  {
   "cell_type": "code",
   "execution_count": 60,
   "id": "5ea9c22d",
   "metadata": {},
   "outputs": [
    {
     "data": {
      "text/html": [
       "<div>\n",
       "<style scoped>\n",
       "    .dataframe tbody tr th:only-of-type {\n",
       "        vertical-align: middle;\n",
       "    }\n",
       "\n",
       "    .dataframe tbody tr th {\n",
       "        vertical-align: top;\n",
       "    }\n",
       "\n",
       "    .dataframe thead th {\n",
       "        text-align: right;\n",
       "    }\n",
       "</style>\n",
       "<table border=\"1\" class=\"dataframe\">\n",
       "  <thead>\n",
       "    <tr style=\"text-align: right;\">\n",
       "      <th></th>\n",
       "      <th>Cap_Gains_Losses</th>\n",
       "      <th>Divorced</th>\n",
       "      <th>Married</th>\n",
       "      <th>Never-married</th>\n",
       "      <th>Separated</th>\n",
       "      <th>Widowed</th>\n",
       "    </tr>\n",
       "  </thead>\n",
       "  <tbody>\n",
       "    <tr>\n",
       "      <th>14707</th>\n",
       "      <td>0.0</td>\n",
       "      <td>0</td>\n",
       "      <td>0</td>\n",
       "      <td>1</td>\n",
       "      <td>0</td>\n",
       "      <td>0</td>\n",
       "    </tr>\n",
       "  </tbody>\n",
       "</table>\n",
       "</div>"
      ],
      "text/plain": [
       "       Cap_Gains_Losses  Divorced  Married  Never-married  Separated  Widowed\n",
       "14707               0.0         0        0              1          0        0"
      ]
     },
     "execution_count": 60,
     "metadata": {},
     "output_type": "execute_result"
    }
   ],
   "source": [
    "# Select a random sample\n",
    "sample_01 = X.sample()\n",
    "sample_01"
   ]
  },
  {
   "cell_type": "code",
   "execution_count": 61,
   "id": "5269e5e2",
   "metadata": {},
   "outputs": [
    {
     "data": {
      "text/plain": [
       "array(['<=50K'], dtype=object)"
      ]
     },
     "execution_count": 61,
     "metadata": {},
     "output_type": "execute_result"
    }
   ],
   "source": [
    "# Prediction of the selected random sample\n",
    "pred_single_C5_py = C5_py.predict(sample_01)\n",
    "pred_single_C5_py"
   ]
  },
  {
   "cell_type": "code",
   "execution_count": 62,
   "id": "f1a84d6c",
   "metadata": {},
   "outputs": [
    {
     "data": {
      "text/plain": [
       "Income    <=50K\n",
       "Name: 14707, dtype: object"
      ]
     },
     "execution_count": 62,
     "metadata": {},
     "output_type": "execute_result"
    }
   ],
   "source": [
    "# Compare to its true value\n",
    "\n",
    "y.iloc[sample_01.index[0]]"
   ]
  },
  {
   "cell_type": "markdown",
   "id": "dacd0770",
   "metadata": {},
   "source": [
    "### R"
   ]
  },
  {
   "cell_type": "code",
   "execution_count": 63,
   "id": "51cbef7d",
   "metadata": {},
   "outputs": [],
   "source": [
    "%%R\n",
    "# Run the training data set through C5.0 to obtain Model 1. Save the result as C5.\n",
    "C5_r <‐ C5.0(Income ~ Marital.status + Cap_Gains_Losses, data = adult_train_r)"
   ]
  },
  {
   "cell_type": "code",
   "execution_count": 64,
   "id": "af3bd452",
   "metadata": {},
   "outputs": [
    {
     "name": "stdout",
     "output_type": "stream",
     "text": [
      "     Marital.status Income Cap_Gains_Losses\n",
      "4431  Never-married  <=50K                0\n"
     ]
    }
   ],
   "source": [
    "%%R\n",
    "# Subset the predictor variables from the test data set into their own data frame\n",
    "train.X <‐ subset(x = adult_train_r, select = c(\"Marital.status\", \"Cap_Gains_Losses\"))\n",
    "\n",
    "ypred <‐ predict(object = C5_r, newdata = train.X)\n",
    "\n",
    "# Select a random sample for prediction\n",
    "sample_r <- adult_train_r[sample(nrow(adult_train_r), size=1), ]\n",
    "sample_r\n"
   ]
  },
  {
   "cell_type": "code",
   "execution_count": 65,
   "id": "7f8d8b08",
   "metadata": {},
   "outputs": [
    {
     "name": "stdout",
     "output_type": "stream",
     "text": [
      "[1] <=50K\n",
      "Levels: <=50K >50K\n"
     ]
    }
   ],
   "source": [
    "%%R\n",
    "\n",
    "# Run sample prediction\n",
    "test.sample_r <- subset(x = sample_r, select = c(\"Marital.status\", \"Cap_Gains_Losses\"))\n",
    "ypred_sample <‐ predict(object = C5_r, newdata = test.sample_r)\n",
    "ypred_sample"
   ]
  },
  {
   "cell_type": "markdown",
   "id": "5f3a7551",
   "metadata": {},
   "source": [
    "#### 24. Evaluate Model 1 using the test data set. Construct a contingency table to compare the actual and predicted values of Income."
   ]
  },
  {
   "cell_type": "markdown",
   "id": "dc6b3221",
   "metadata": {},
   "source": [
    "### Python"
   ]
  },
  {
   "cell_type": "code",
   "execution_count": 66,
   "id": "d11591ad",
   "metadata": {},
   "outputs": [
    {
     "data": {
      "text/plain": [
       "array([[4627,   47],\n",
       "       [1141,  340]], dtype=int64)"
      ]
     },
     "execution_count": 66,
     "metadata": {},
     "output_type": "execute_result"
    }
   ],
   "source": [
    "y_true = adult_test_py[['Income']]\n",
    "y_pred = C5_test_py.predict(X_test)\n",
    "confusion_py = confusion_matrix(y_true, y_pred)\n",
    "confusion_py"
   ]
  },
  {
   "cell_type": "markdown",
   "id": "4fba3469",
   "metadata": {},
   "source": [
    "### R"
   ]
  },
  {
   "cell_type": "code",
   "execution_count": 67,
   "id": "1eb86b9d",
   "metadata": {},
   "outputs": [
    {
     "name": "stdout",
     "output_type": "stream",
     "text": [
      "           ypred_test\n",
      "            Predicted: 0 Predicted: 1 Total\n",
      "  Actual: 0         4658           16  4674\n",
      "  Actual: 1         1057          424  1481\n",
      "  Total             5715          440  6155\n"
     ]
    }
   ],
   "source": [
    "%%R\n",
    "\n",
    "test.X <‐ subset(x = adult_test_r, select = c(\"Marital.status\", \"Cap_Gains_Losses\"))\n",
    "ypred_test <‐ predict(object = C5_r, newdata = test.X)\n",
    "\n",
    "# Build a contingency table and compare the acutal Income in test data set with predicted Income\n",
    "\n",
    "t1 <‐ table(adult_test_r$Income, ypred_test)\n",
    "row.names(t1) <‐ c(\"Actual: 0\", \"Actual: 1\")\n",
    "colnames(t1) <‐ c(\"Predicted: 0\", \"Predicted: 1\")\n",
    "t1 <‐ addmargins(A = t1, FUN = list(Total = sum), quiet = TRUE)\n",
    "t1"
   ]
  },
  {
   "cell_type": "markdown",
   "id": "cbbcf469",
   "metadata": {},
   "source": [
    "#### 25. For Model 1, recapitulate Table 7.4 from the text, calculating all of the model evaluation measures shown in the table. Call this table the Model Evaluation Table. Leave space for Model 2."
   ]
  },
  {
   "cell_type": "markdown",
   "id": "95544d49",
   "metadata": {},
   "source": [
    "### Python"
   ]
  },
  {
   "cell_type": "code",
   "execution_count": 68,
   "id": "64f3f7cd",
   "metadata": {},
   "outputs": [],
   "source": [
    "TN_py = confusion_py[0,0]\n",
    "FN_py = confusion_py[1,0]\n",
    "FP_py = confusion_py[0,1]\n",
    "TP_py = confusion_py[1,1]\n",
    "TPN_py = TN_py + FN_py\n",
    "TPP_py = FP_py + TP_py\n",
    "TAN_py = TN_py + FP_py\n",
    "TAP_py = FN_py + TP_py\n",
    "GT_py = TN_py + FN_py + FP_py + TP_py\n",
    "Precision_py = TP_py/TPP_py\n",
    "Recall_py = TP_py/TAP_py"
   ]
  },
  {
   "cell_type": "code",
   "execution_count": 69,
   "id": "5fb6f65b",
   "metadata": {},
   "outputs": [],
   "source": [
    "# Overall model cost and Profit per customer formulas\n",
    "Cost_FP = 10\n",
    "Cost_TP = -40\n",
    "Overall_model_cost = FP_py*Cost_FP + TP_py*Cost_TP\n",
    "Profit_per_customer = -Overall_model_cost/GT_py"
   ]
  },
  {
   "cell_type": "code",
   "execution_count": 70,
   "id": "9edaadba",
   "metadata": {},
   "outputs": [
    {
     "data": {
      "text/html": [
       "<div>\n",
       "<style scoped>\n",
       "    .dataframe tbody tr th:only-of-type {\n",
       "        vertical-align: middle;\n",
       "    }\n",
       "\n",
       "    .dataframe tbody tr th {\n",
       "        vertical-align: top;\n",
       "    }\n",
       "\n",
       "    .dataframe thead th {\n",
       "        text-align: right;\n",
       "    }\n",
       "</style>\n",
       "<table border=\"1\" class=\"dataframe\">\n",
       "  <thead>\n",
       "    <tr style=\"text-align: right;\">\n",
       "      <th></th>\n",
       "      <th>Formula</th>\n",
       "      <th>Value</th>\n",
       "    </tr>\n",
       "  </thead>\n",
       "  <tbody>\n",
       "    <tr>\n",
       "      <th>Accuracy</th>\n",
       "      <td>(TN+TP)/GT</td>\n",
       "      <td>0.807</td>\n",
       "    </tr>\n",
       "    <tr>\n",
       "      <th>Error rate</th>\n",
       "      <td>1-(TN+TP)/GT</td>\n",
       "      <td>0.193</td>\n",
       "    </tr>\n",
       "    <tr>\n",
       "      <th>Sensitivity</th>\n",
       "      <td>TP/TAP</td>\n",
       "      <td>0.2296</td>\n",
       "    </tr>\n",
       "    <tr>\n",
       "      <th>Specificity</th>\n",
       "      <td>TN/TAN</td>\n",
       "      <td>0.9899</td>\n",
       "    </tr>\n",
       "    <tr>\n",
       "      <th>Precision</th>\n",
       "      <td>TP/TPP</td>\n",
       "      <td>0.8786</td>\n",
       "    </tr>\n",
       "    <tr>\n",
       "      <th>F1</th>\n",
       "      <td>2*Precision*Recall/(Precision+Recall)</td>\n",
       "      <td>0.364</td>\n",
       "    </tr>\n",
       "    <tr>\n",
       "      <th>F2</th>\n",
       "      <td>5*Precision*Recall/((4+Precision)+Recall)</td>\n",
       "      <td>0.1974</td>\n",
       "    </tr>\n",
       "    <tr>\n",
       "      <th>F0.5</th>\n",
       "      <td>1.25*Precision*Recall/((0.25*Precision)+Recall)</td>\n",
       "      <td>0.5612</td>\n",
       "    </tr>\n",
       "    <tr>\n",
       "      <th>Overall Model Cost</th>\n",
       "      <td>FP*Cost_FP + TP*Cost_TP</td>\n",
       "      <td>-13130</td>\n",
       "    </tr>\n",
       "    <tr>\n",
       "      <th>Profit Per Customer</th>\n",
       "      <td>-Overall_model_cost/GT</td>\n",
       "      <td>2.1332</td>\n",
       "    </tr>\n",
       "  </tbody>\n",
       "</table>\n",
       "</div>"
      ],
      "text/plain": [
       "                                                             Formula   Value\n",
       "Accuracy                                                  (TN+TP)/GT   0.807\n",
       "Error rate                                              1-(TN+TP)/GT   0.193\n",
       "Sensitivity                                                   TP/TAP  0.2296\n",
       "Specificity                                                   TN/TAN  0.9899\n",
       "Precision                                                     TP/TPP  0.8786\n",
       "F1                             2*Precision*Recall/(Precision+Recall)   0.364\n",
       "F2                         5*Precision*Recall/((4+Precision)+Recall)  0.1974\n",
       "F0.5                 1.25*Precision*Recall/((0.25*Precision)+Recall)  0.5612\n",
       "Overall Model Cost                           FP*Cost_FP + TP*Cost_TP  -13130\n",
       "Profit Per Customer                           -Overall_model_cost/GT  2.1332"
      ]
     },
     "execution_count": 70,
     "metadata": {},
     "output_type": "execute_result"
    }
   ],
   "source": [
    "column_names = ['Formula', 'Value']\n",
    "row_names    = ['Accuracy', 'Error rate','Sensitivity','Specificity','Precision','F1','F2','F0.5',\n",
    "                'Overall Model Cost','Profit Per Customer']\n",
    "matrix = np.reshape(('(TN+TP)/GT', round((TN_py+TP_py)/GT_py,4),'1-(TN+TP)/GT',round(1-(TN_py+TP_py)/GT_py,4), 'TP/TAP', \n",
    "                     round(TP_py/TAP_py,4),'TN/TAN', round(TN_py/TAN_py,4),'TP/TPP',round(TP_py/TPP_py,4),\n",
    "                     '2*Precision*Recall/(Precision+Recall)',round(2*Precision_py*Recall_py/(Precision_py+Recall_py),4),\n",
    "                     '5*Precision*Recall/((4+Precision)+Recall)',round(5*Precision_py*Recall_py/((4+Precision_py)+Recall_py),4),\n",
    "                     '1.25*Precision*Recall/((0.25*Precision)+Recall)',\n",
    "                     round(1.25*Precision_py*Recall_py/((0.25*Precision_py)+Recall_py),4),'FP*Cost_FP + TP*Cost_TP',\n",
    "                    Overall_model_cost,'-Overall_model_cost/GT',round(Profit_per_customer,4)),(10,2))\n",
    "Model_Evaluation_Table_py = pd.DataFrame(matrix, columns=column_names, index=row_names)\n",
    "Model_Evaluation_Table_py"
   ]
  },
  {
   "cell_type": "markdown",
   "id": "3fd7bf46",
   "metadata": {},
   "source": [
    "### R"
   ]
  },
  {
   "cell_type": "code",
   "execution_count": 71,
   "id": "df9caa22",
   "metadata": {},
   "outputs": [],
   "source": [
    "%%R\n",
    "# Define elements in the Model Evaluation Table\n",
    "TN_r <- t1[1,1]\n",
    "FP_r <- t1[1,2]\n",
    "FN_r <- t1[2,1]\n",
    "TP_r <- t1[2,2]\n",
    "TPN_r <- t1[3,1]\n",
    "TPP_r <- t1[3,2]\n",
    "TAN_r <- t1[1,3]\n",
    "TAP_r <- t1[2,3]\n",
    "GT_r <- t1[3,3]\n",
    "Precision_r <- TP_r/TPP_r\n",
    "Recall_r <- TP_r/TAP_r"
   ]
  },
  {
   "cell_type": "code",
   "execution_count": 72,
   "id": "9e6c0085",
   "metadata": {},
   "outputs": [],
   "source": [
    "%%R\n",
    "# Overall model cost and Profit per customer formulas\n",
    "Cost_FP = 10\n",
    "Cost_TP = -40\n",
    "Overall_model_cost_r = FP_r*Cost_FP + TP_r*Cost_TP\n",
    "Profit_per_customer_r = -Overall_model_cost_r/GT_r"
   ]
  },
  {
   "cell_type": "code",
   "execution_count": 73,
   "id": "4adb2c9c",
   "metadata": {},
   "outputs": [
    {
     "name": "stdout",
     "output_type": "stream",
     "text": [
      "                    Formula                                         Value \n",
      "Accuracy            (TN+TP)/GT                                      0.8257\n",
      "Error rate          1-(TN+TP)/GT                                    0.1743\n",
      "Sensitivity         TP/TAP                                          0.2863\n",
      "Specificity         TN/TAN                                          0.9966\n",
      "Precision           TP/TPP                                          0.9636\n",
      "F1                  2*Precision*Recall/(Precision+Recall)           0.4414\n",
      "F2                  5*Precision*Recall/((4+Precision)+Recall)       0.2627\n",
      "F0.5                1.25*Precision*Recall/((0.25*Precision)+Recall) 0.6541\n",
      "Overall Model Cost  FP*Cost_FP + TP*Cost_TP                         -16800\n",
      "Profit Per Customer -Overall_model_cost/GT                          2.7295\n"
     ]
    }
   ],
   "source": [
    "%%R\n",
    "tab <- matrix(c('(TN+TP)/GT', round((TN_r+TP_r)/GT_r,4),'1-(TN+TP)/GT',round(1-(TN_r+TP_r)/GT_r,4), 'TP/TAP', round(TP_r/TAP_r,4),\n",
    "                'TN/TAN', round(TN_r/TAN_r,4),'TP/TPP',round(TP_r/TPP_r,4),'2*Precision*Recall/(Precision+Recall)',\n",
    "                round(2*Precision_r*Recall_r/(Precision_r+Recall_r),4), '5*Precision*Recall/((4+Precision)+Recall)',\n",
    "                round(5*Precision_r*Recall_r/((4+Precision_r)+Recall_r),4),'1.25*Precision*Recall/((0.25*Precision)+Recall)',\n",
    "                round(1.25*Precision_r*Recall_r/((0.25*Precision_r)+Recall_r),4),'FP*Cost_FP + TP*Cost_TP',\n",
    "                 Overall_model_cost_r,'-Overall_model_cost/GT',round(Profit_per_customer_r,4)), ncol=2, byrow=TRUE)\n",
    "colnames(tab) <- c('Formula','Value')\n",
    "rownames(tab) <- c('Accuracy','Error rate','Sensitivity','Specificity','Precision','F1','F2','F0.5','Overall Model Cost',\n",
    "                    'Profit Per Customer')\n",
    "tab <- as.table(tab)\n",
    "Model_Evaluation_Table_r <- tab\n",
    "Model_Evaluation_Table_r"
   ]
  },
  {
   "cell_type": "markdown",
   "id": "54d5c913",
   "metadata": {},
   "source": [
    "#### 26. Clearly and completely interpret each of the Model 1 evaluation measures from the Model Evaluation Table."
   ]
  },
  {
   "cell_type": "markdown",
   "id": "be0f6c1c",
   "metadata": {},
   "source": [
    "Accuracy (ACC) is calculated as the number of all correct predictions divided by the total number of the dataset. The best accuracy is 1.0, whereas the worst is 0.0. \n",
    "\n",
    "Error rate (ERR) is calculated as the number of all incorrect predictions divided by the total number of the dataset. The best error rate is 0.0, whereas the worst is 1.0.\n",
    "\n",
    "Sensitivity (Recall or True positive rate) is calculated as the number of correct positive predictions divided by the total number of positives. It is also called recall (REC) or true positive rate (TPR). The best sensitivity is 1.0, whereas the worst is 0.0.\n",
    "\n",
    "Specificity (True negative rate) is calculated as the number of correct negative predictions divided by the total number of negatives. It is also called true negative rate (TNR). The best specificity is 1.0, whereas the worst is 0.0.\n",
    "\n",
    "Precision (Positive predictive value) is calculated as the number of correct positive predictions divided by the total number of positive predictions. It is also called positive predictive value (PPV). The best precision is 1.0, whereas the worst is 0.0.\n",
    "\n",
    "F1-score is the harmonic mean of the precision and recall. A perfect model has an F-score of 1.\n",
    "A factor in Fβ indicating how much more important recall is than precision. For example, if we consider recall to be twice as important as precision, we can set β to 2. The standard F-score is equivalent to setting β to 1."
   ]
  },
  {
   "cell_type": "markdown",
   "id": "99545a85",
   "metadata": {},
   "source": [
    "#### 27. Create a cost matrix, called the 3x cost matrix, that specifies a false positive is four times as bad as a false negative."
   ]
  },
  {
   "cell_type": "markdown",
   "id": "d094e938",
   "metadata": {},
   "source": [
    "### Python"
   ]
  },
  {
   "cell_type": "code",
   "execution_count": 74,
   "id": "a6e21473",
   "metadata": {},
   "outputs": [],
   "source": [
    "# Cost matrix with FP = 4FN\n",
    "cost_matrix_3x_py = {'<=50K':1, '>50K':4}"
   ]
  },
  {
   "cell_type": "markdown",
   "id": "b66974f2",
   "metadata": {},
   "source": [
    "### R"
   ]
  },
  {
   "cell_type": "code",
   "execution_count": 75,
   "id": "3e324f5d",
   "metadata": {},
   "outputs": [
    {
     "name": "stdout",
     "output_type": "stream",
     "text": [
      "      <=50K >50K\n",
      "<=50K     0    4\n",
      ">50K      1    0\n"
     ]
    }
   ],
   "source": [
    "%%R\n",
    "cost_matrix_3x_r = matrix(c(0,4,1,0), byrow = TRUE, ncol = 2 )\n",
    "dimnames(cost_matrix_3x_r) <- list(c(\"<=50K\",\">50K\"), c(\"<=50K\",\">50K\"))\n",
    "cost_matrix_3x_r"
   ]
  },
  {
   "cell_type": "markdown",
   "id": "9edf96f5",
   "metadata": {},
   "source": [
    "#### 28. Using the training data set, build a C5.0 model (Model 2) to predict a customer’s Income using Marital Status and Capital Gains and Losses, using the 3x cost matrix."
   ]
  },
  {
   "cell_type": "markdown",
   "id": "50237d51",
   "metadata": {},
   "source": [
    "### Python"
   ]
  },
  {
   "cell_type": "code",
   "execution_count": 76,
   "id": "9cf1d0d4",
   "metadata": {
    "scrolled": true
   },
   "outputs": [
    {
     "data": {
      "text/html": [
       "<div>\n",
       "<style scoped>\n",
       "    .dataframe tbody tr th:only-of-type {\n",
       "        vertical-align: middle;\n",
       "    }\n",
       "\n",
       "    .dataframe tbody tr th {\n",
       "        vertical-align: top;\n",
       "    }\n",
       "\n",
       "    .dataframe thead th {\n",
       "        text-align: right;\n",
       "    }\n",
       "</style>\n",
       "<table border=\"1\" class=\"dataframe\">\n",
       "  <thead>\n",
       "    <tr style=\"text-align: right;\">\n",
       "      <th></th>\n",
       "      <th>Cap_Gains_Losses</th>\n",
       "      <th>Divorced</th>\n",
       "      <th>Married</th>\n",
       "      <th>Never-married</th>\n",
       "      <th>Separated</th>\n",
       "      <th>Widowed</th>\n",
       "    </tr>\n",
       "  </thead>\n",
       "  <tbody>\n",
       "    <tr>\n",
       "      <th>3722</th>\n",
       "      <td>0.0</td>\n",
       "      <td>0</td>\n",
       "      <td>1</td>\n",
       "      <td>0</td>\n",
       "      <td>0</td>\n",
       "      <td>0</td>\n",
       "    </tr>\n",
       "  </tbody>\n",
       "</table>\n",
       "</div>"
      ],
      "text/plain": [
       "      Cap_Gains_Losses  Divorced  Married  Never-married  Separated  Widowed\n",
       "3722               0.0         0        1              0          0        0"
      ]
     },
     "execution_count": 76,
     "metadata": {},
     "output_type": "execute_result"
    }
   ],
   "source": [
    "C5_02_py = DecisionTreeClassifier(criterion='entropy', min_samples_split=75, max_leaf_nodes=5, \n",
    "                                  class_weight=cost_matrix_3x_py).fit(X, y)\n",
    "\n",
    "# Select a random customer from the training set\n",
    "sample_02 = X.sample()\n",
    "sample_02"
   ]
  },
  {
   "cell_type": "code",
   "execution_count": 77,
   "id": "6776d2ae",
   "metadata": {},
   "outputs": [
    {
     "data": {
      "text/html": [
       "<div>\n",
       "<style scoped>\n",
       "    .dataframe tbody tr th:only-of-type {\n",
       "        vertical-align: middle;\n",
       "    }\n",
       "\n",
       "    .dataframe tbody tr th {\n",
       "        vertical-align: top;\n",
       "    }\n",
       "\n",
       "    .dataframe thead th {\n",
       "        text-align: right;\n",
       "    }\n",
       "</style>\n",
       "<table border=\"1\" class=\"dataframe\">\n",
       "  <thead>\n",
       "    <tr style=\"text-align: right;\">\n",
       "      <th></th>\n",
       "      <th>Cap_Gains_Losses</th>\n",
       "      <th>Divorced</th>\n",
       "      <th>Married</th>\n",
       "      <th>Never-married</th>\n",
       "      <th>Separated</th>\n",
       "      <th>Widowed</th>\n",
       "    </tr>\n",
       "  </thead>\n",
       "  <tbody>\n",
       "    <tr>\n",
       "      <th>8121</th>\n",
       "      <td>0.076881</td>\n",
       "      <td>0</td>\n",
       "      <td>1</td>\n",
       "      <td>0</td>\n",
       "      <td>0</td>\n",
       "      <td>0</td>\n",
       "    </tr>\n",
       "  </tbody>\n",
       "</table>\n",
       "</div>"
      ],
      "text/plain": [
       "      Cap_Gains_Losses  Divorced  Married  Never-married  Separated  Widowed\n",
       "8121          0.076881         0        1              0          0        0"
      ]
     },
     "execution_count": 77,
     "metadata": {},
     "output_type": "execute_result"
    }
   ],
   "source": [
    "# Select a random customer from the training set\n",
    "sample_02 = X.sample()\n",
    "sample_02"
   ]
  },
  {
   "cell_type": "code",
   "execution_count": 78,
   "id": "6e8319ad",
   "metadata": {},
   "outputs": [
    {
     "data": {
      "text/plain": [
       "array(['>50K'], dtype=object)"
      ]
     },
     "execution_count": 78,
     "metadata": {},
     "output_type": "execute_result"
    }
   ],
   "source": [
    "# Predict Income for the single random customer\n",
    "pred_single_C5_02_py = C5_02_py.predict(sample_02)\n",
    "pred_single_C5_02_py"
   ]
  },
  {
   "cell_type": "code",
   "execution_count": 79,
   "id": "1c35e2a1",
   "metadata": {
    "scrolled": true
   },
   "outputs": [
    {
     "data": {
      "text/plain": [
       "Income    >50K\n",
       "Name: 8121, dtype: object"
      ]
     },
     "execution_count": 79,
     "metadata": {},
     "output_type": "execute_result"
    }
   ],
   "source": [
    "# Compare to the true value\n",
    "\n",
    "y.iloc[sample_02.index[0]]"
   ]
  },
  {
   "cell_type": "markdown",
   "id": "83335be8",
   "metadata": {},
   "source": [
    "### R"
   ]
  },
  {
   "cell_type": "code",
   "execution_count": 80,
   "id": "e6799319",
   "metadata": {},
   "outputs": [],
   "source": [
    "%%R\n",
    "#Adding cost matrix to C5.0 model\n",
    "C5.costs_r <‐ C5.0(Income ~ Marital.status + Cap_Gains_Losses, data = adult_train_r, costs = cost_matrix_3x_r)"
   ]
  },
  {
   "cell_type": "code",
   "execution_count": 81,
   "id": "9c59d60d",
   "metadata": {},
   "outputs": [
    {
     "name": "stdout",
     "output_type": "stream",
     "text": [
      "      Marital.status Income Cap_Gains_Losses\n",
      "10104        Married  <=50K                0\n"
     ]
    }
   ],
   "source": [
    "%%R\n",
    "# Select a random sample for prediction\n",
    "sample_02_r <- adult_train_r[sample(nrow(adult_train_r), size=1), ]\n",
    "sample_02_r"
   ]
  },
  {
   "cell_type": "code",
   "execution_count": 82,
   "id": "26c89eed",
   "metadata": {},
   "outputs": [
    {
     "name": "stdout",
     "output_type": "stream",
     "text": [
      "[1] >50K\n",
      "Levels: <=50K >50K\n"
     ]
    }
   ],
   "source": [
    "%%R\n",
    "# Run sample prediction\n",
    "test.sample_r <- subset(x = sample_02_r, select = c(\"Marital.status\", \"Cap_Gains_Losses\"))\n",
    "ypred_sample <‐ predict(object = C5.costs_r, newdata = test.sample_r)\n",
    "ypred_sample"
   ]
  },
  {
   "cell_type": "markdown",
   "id": "2a4c68e7",
   "metadata": {},
   "source": [
    "#### 29. Evaluate your predictions from Model 2 using the actual response values from the test data set. Add Overall Model Cost and Profit per Customer to the Model Evaluation Table. Calculate all the measures from the Model Evaluation Table."
   ]
  },
  {
   "cell_type": "markdown",
   "id": "04d23e5d",
   "metadata": {},
   "source": [
    "### Python"
   ]
  },
  {
   "cell_type": "code",
   "execution_count": 83,
   "id": "2d64c247",
   "metadata": {},
   "outputs": [
    {
     "data": {
      "text/plain": [
       "array([[3041, 1633],\n",
       "       [ 149, 1332]], dtype=int64)"
      ]
     },
     "execution_count": 83,
     "metadata": {},
     "output_type": "execute_result"
    }
   ],
   "source": [
    "# Contingency table with Model 2 using test data\n",
    "y_true = adult_test_py[['Income']]\n",
    "y_pred_02 = C5_02_py.predict(X_test)\n",
    "confusion_02_py = confusion_matrix(y_true, y_pred_02)\n",
    "confusion_02_py"
   ]
  },
  {
   "cell_type": "code",
   "execution_count": 84,
   "id": "0376ab54",
   "metadata": {},
   "outputs": [],
   "source": [
    "TN_02_py = confusion_02_py[0,0]\n",
    "FN_02_py = confusion_02_py[1,0]\n",
    "FP_02_py = confusion_02_py[0,1]\n",
    "TP_02_py = confusion_02_py[1,1]\n",
    "TPN_02_py = TN_02_py + FN_02_py\n",
    "TPP_02_py = FP_02_py + TP_02_py\n",
    "TAN_02_py = TN_02_py + FP_02_py\n",
    "TAP_02_py = FN_02_py + TP_02_py\n",
    "GT_02_py = TN_02_py + FN_02_py + FP_02_py + TP_02_py\n",
    "Precision_02_py = TP_02_py/TPP_02_py\n",
    "Recall_02_py = TP_02_py/TAP_02_py"
   ]
  },
  {
   "cell_type": "code",
   "execution_count": 85,
   "id": "b2f750d8",
   "metadata": {},
   "outputs": [],
   "source": [
    "# Overall model cost and Profit per customer formulas\n",
    "Cost_FP = 10\n",
    "Cost_TP = -40\n",
    "Overall_model_cost_02 = FP_02_py*Cost_FP + TP_02_py*Cost_TP\n",
    "Profit_per_customer_02 = -Overall_model_cost_02/GT_02_py"
   ]
  },
  {
   "cell_type": "code",
   "execution_count": 86,
   "id": "29ae3b01",
   "metadata": {},
   "outputs": [
    {
     "data": {
      "text/html": [
       "<div>\n",
       "<style scoped>\n",
       "    .dataframe tbody tr th:only-of-type {\n",
       "        vertical-align: middle;\n",
       "    }\n",
       "\n",
       "    .dataframe tbody tr th {\n",
       "        vertical-align: top;\n",
       "    }\n",
       "\n",
       "    .dataframe thead th {\n",
       "        text-align: right;\n",
       "    }\n",
       "</style>\n",
       "<table border=\"1\" class=\"dataframe\">\n",
       "  <thead>\n",
       "    <tr style=\"text-align: right;\">\n",
       "      <th></th>\n",
       "      <th>Formula</th>\n",
       "      <th>Value</th>\n",
       "    </tr>\n",
       "  </thead>\n",
       "  <tbody>\n",
       "    <tr>\n",
       "      <th>Accuracy</th>\n",
       "      <td>(TN+TP)/GT</td>\n",
       "      <td>0.7105</td>\n",
       "    </tr>\n",
       "    <tr>\n",
       "      <th>Error rate</th>\n",
       "      <td>1-(TN+TP)/GT</td>\n",
       "      <td>0.2895</td>\n",
       "    </tr>\n",
       "    <tr>\n",
       "      <th>Sensitivity</th>\n",
       "      <td>TP/TAP</td>\n",
       "      <td>0.8994</td>\n",
       "    </tr>\n",
       "    <tr>\n",
       "      <th>Specificity</th>\n",
       "      <td>TN/TAN</td>\n",
       "      <td>0.6506</td>\n",
       "    </tr>\n",
       "    <tr>\n",
       "      <th>Precision</th>\n",
       "      <td>TP/TPP</td>\n",
       "      <td>0.4492</td>\n",
       "    </tr>\n",
       "    <tr>\n",
       "      <th>F1</th>\n",
       "      <td>2*Precision*Recall/(Precision+Recall)</td>\n",
       "      <td>0.5992</td>\n",
       "    </tr>\n",
       "    <tr>\n",
       "      <th>F2</th>\n",
       "      <td>5*Precision*Recall/((4+Precision)+Recall)</td>\n",
       "      <td>0.3777</td>\n",
       "    </tr>\n",
       "    <tr>\n",
       "      <th>F0.5</th>\n",
       "      <td>1.25*Precision*Recall/((0.25*Precision)+Recall)</td>\n",
       "      <td>0.4992</td>\n",
       "    </tr>\n",
       "    <tr>\n",
       "      <th>Overall Model Cost</th>\n",
       "      <td>FP*Cost_FP + TP*Cost_TP</td>\n",
       "      <td>-36950</td>\n",
       "    </tr>\n",
       "    <tr>\n",
       "      <th>Profit Per Customer</th>\n",
       "      <td>-Overall_model_cost/GT</td>\n",
       "      <td>6.0032</td>\n",
       "    </tr>\n",
       "  </tbody>\n",
       "</table>\n",
       "</div>"
      ],
      "text/plain": [
       "                                                             Formula   Value\n",
       "Accuracy                                                  (TN+TP)/GT  0.7105\n",
       "Error rate                                              1-(TN+TP)/GT  0.2895\n",
       "Sensitivity                                                   TP/TAP  0.8994\n",
       "Specificity                                                   TN/TAN  0.6506\n",
       "Precision                                                     TP/TPP  0.4492\n",
       "F1                             2*Precision*Recall/(Precision+Recall)  0.5992\n",
       "F2                         5*Precision*Recall/((4+Precision)+Recall)  0.3777\n",
       "F0.5                 1.25*Precision*Recall/((0.25*Precision)+Recall)  0.4992\n",
       "Overall Model Cost                           FP*Cost_FP + TP*Cost_TP  -36950\n",
       "Profit Per Customer                           -Overall_model_cost/GT  6.0032"
      ]
     },
     "execution_count": 86,
     "metadata": {},
     "output_type": "execute_result"
    }
   ],
   "source": [
    "# Model Evaluation Table with Overall model cost and Profit per customer\n",
    "column_names = ['Formula', 'Value']\n",
    "row_names    = ['Accuracy', 'Error rate','Sensitivity','Specificity','Precision','F1','F2','F0.5',\n",
    "                'Overall Model Cost','Profit Per Customer']\n",
    "matrix = np.reshape(('(TN+TP)/GT', round((TN_02_py+TP_02_py)/GT_02_py,4),'1-(TN+TP)/GT',round(1-(TN_02_py+TP_02_py)/GT_02_py,4), 'TP/TAP', \n",
    "                     round(TP_02_py/TAP_02_py,4),'TN/TAN', round(TN_02_py/TAN_02_py,4),'TP/TPP',round(TP_02_py/TPP_02_py,4),\n",
    "                     '2*Precision*Recall/(Precision+Recall)',round(2*Precision_02_py*Recall_02_py/(Precision_02_py+Recall_02_py),4),\n",
    "                     '5*Precision*Recall/((4+Precision)+Recall)',round(5*Precision_02_py*Recall_02_py/((4+Precision_02_py)+Recall_02_py),4),\n",
    "                     '1.25*Precision*Recall/((0.25*Precision)+Recall)',\n",
    "                     round(1.25*Precision_02_py*Recall_02_py/((0.25*Precision_02_py)+Recall_02_py),4),'FP*Cost_FP + TP*Cost_TP',\n",
    "                    Overall_model_cost_02,'-Overall_model_cost/GT',round(Profit_per_customer_02,4)),(10,2))\n",
    "Model_Evaluation_Table_02_py = pd.DataFrame(matrix, columns=column_names, index=row_names)\n",
    "Model_Evaluation_Table_02_py\n"
   ]
  },
  {
   "cell_type": "markdown",
   "id": "4863862f",
   "metadata": {},
   "source": [
    "### R"
   ]
  },
  {
   "cell_type": "code",
   "execution_count": 87,
   "id": "4ee055db",
   "metadata": {},
   "outputs": [
    {
     "name": "stdout",
     "output_type": "stream",
     "text": [
      "           ypred_test\n",
      "            Predicted: 0 Predicted: 1 Total\n",
      "  Actual: 0         3171         1503  4674\n",
      "  Actual: 1          128         1353  1481\n",
      "  Total             3299         2856  6155\n"
     ]
    }
   ],
   "source": [
    "%%R\n",
    "ypred_test <‐ predict(object = C5.costs_r, newdata = test.X)\n",
    "\n",
    "# Build a contingency table and compare the acutal Income in test data set with predicted Income from C5.0_02\n",
    "\n",
    "t2 <‐ table(adult_test_r$Income, ypred_test)\n",
    "row.names(t2) <‐ c(\"Actual: 0\", \"Actual: 1\")\n",
    "colnames(t2) <‐ c(\"Predicted: 0\", \"Predicted: 1\")\n",
    "t2 <‐ addmargins(A = t2, FUN = list(Total = sum), quiet = TRUE)\n",
    "t2"
   ]
  },
  {
   "cell_type": "code",
   "execution_count": 88,
   "id": "c96d9380",
   "metadata": {},
   "outputs": [],
   "source": [
    "%%R\n",
    "\n",
    "# Define elements in the Model Evaluation Table 02\n",
    "TN_02_r <- t2[1,1]\n",
    "FP_02_r <- t2[1,2]\n",
    "FN_02_r <- t2[2,1]\n",
    "TP_02_r <- t2[2,2]\n",
    "TPN_02_r <- t2[3,1]\n",
    "TPP_02_r <- t2[3,2]\n",
    "TAN_02_r <- t2[1,3]\n",
    "TAP_02_r <- t2[2,3]\n",
    "GT_02_r <- t2[3,3]\n",
    "Precision_02_r <- TP_02_r/TPP_02_r\n",
    "Recall_02_r <- TP_02_r/TAP_02_r"
   ]
  },
  {
   "cell_type": "code",
   "execution_count": 89,
   "id": "651b47cc",
   "metadata": {},
   "outputs": [],
   "source": [
    "%%R\n",
    "# Overall model cost and Profit per customer formulas\n",
    "Cost_FP = 10\n",
    "Cost_TP = -40\n",
    "Overall_model_cost_02_r = FP_02_r*Cost_FP + TP_02_r*Cost_TP\n",
    "Profit_per_customer_02_r = -Overall_model_cost_02_r/GT_02_r"
   ]
  },
  {
   "cell_type": "code",
   "execution_count": 90,
   "id": "dc53440b",
   "metadata": {
    "scrolled": true
   },
   "outputs": [
    {
     "name": "stdout",
     "output_type": "stream",
     "text": [
      "                    Formula                                         Value \n",
      "Accuracy            (TN+TP)/GT                                      0.735 \n",
      "Error rate          1-(TN+TP)/GT                                    0.265 \n",
      "Sensitivity         TP/TAP                                          0.9136\n",
      "Specificity         TN/TAN                                          0.6784\n",
      "Precision           TP/TPP                                          0.4737\n",
      "F1                  2*Precision*Recall/(Precision+Recall)           0.6239\n",
      "F2                  5*Precision*Recall/((4+Precision)+Recall)       0.4017\n",
      "F0.5                1.25*Precision*Recall/((0.25*Precision)+Recall) 0.5242\n",
      "Overall Model Cost  FP*Cost_FP + TP*Cost_TP                         -39090\n",
      "Profit Per Customer -Overall_model_cost/GT                          6.3509\n"
     ]
    }
   ],
   "source": [
    "%%R\n",
    "tab2 <- matrix(c('(TN+TP)/GT', round((TN_02_r+TP_02_r)/GT_02_r,4),'1-(TN+TP)/GT',round(1-(TN_02_r+TP_02_r)/GT_02_r,4), \n",
    "                 'TP/TAP', round(TP_02_r/TAP_02_r,4),\n",
    "                'TN/TAN', round(TN_02_r/TAN_02_r,4),'TP/TPP',round(TP_02_r/TPP_02_r,4),'2*Precision*Recall/(Precision+Recall)',\n",
    "                round(2*Precision_02_r*Recall_02_r/(Precision_02_r+Recall_02_r),4), '5*Precision*Recall/((4+Precision)+Recall)',\n",
    "                round(5*Precision_02_r*Recall_02_r/((4+Precision_02_r)+Recall_02_r),4),'1.25*Precision*Recall/((0.25*Precision)+Recall)',\n",
    "                round(1.25*Precision_02_r*Recall_02_r/((0.25*Precision_02_r)+Recall_02_r),4),'FP*Cost_FP + TP*Cost_TP',\n",
    "                 Overall_model_cost_02_r,'-Overall_model_cost/GT',round(Profit_per_customer_02_r,4)), ncol=2, byrow=TRUE)\n",
    "colnames(tab2) <- c('Formula','Value')\n",
    "rownames(tab2) <- c('Accuracy','Error rate','Sensitivity','Specificity','Precision','F1','F2','F0.5','Overall Model Cost',\n",
    "                    'Profit Per Customer')\n",
    "tab2 <- as.table(tab2)\n",
    "Model_Evaluation_Table_02_r <- tab2\n",
    "Model_Evaluation_Table_02_r"
   ]
  },
  {
   "cell_type": "markdown",
   "id": "07d89f0e",
   "metadata": {},
   "source": [
    "#### 30. Compare the evaluation measures from Model 1 and Model 2 using the 3x cost matrix. Discuss the strengths and weaknesses of each model."
   ]
  },
  {
   "cell_type": "markdown",
   "id": "87a1417e",
   "metadata": {},
   "source": [
    "### Python"
   ]
  },
  {
   "cell_type": "code",
   "execution_count": 91,
   "id": "f0b0adfb",
   "metadata": {},
   "outputs": [],
   "source": [
    "Model_Comparison_py = Model_Evaluation_Table_py.drop(['Formula'], axis=1)"
   ]
  },
  {
   "cell_type": "code",
   "execution_count": 92,
   "id": "e689fcb2",
   "metadata": {},
   "outputs": [],
   "source": [
    "Model_Comparison_py['Value of Model 2'] = Model_Evaluation_Table_02_py[['Value']]"
   ]
  },
  {
   "cell_type": "code",
   "execution_count": 93,
   "id": "9907828d",
   "metadata": {},
   "outputs": [
    {
     "data": {
      "text/html": [
       "<div>\n",
       "<style scoped>\n",
       "    .dataframe tbody tr th:only-of-type {\n",
       "        vertical-align: middle;\n",
       "    }\n",
       "\n",
       "    .dataframe tbody tr th {\n",
       "        vertical-align: top;\n",
       "    }\n",
       "\n",
       "    .dataframe thead th {\n",
       "        text-align: right;\n",
       "    }\n",
       "</style>\n",
       "<table border=\"1\" class=\"dataframe\">\n",
       "  <thead>\n",
       "    <tr style=\"text-align: right;\">\n",
       "      <th></th>\n",
       "      <th>Value</th>\n",
       "      <th>Value of Model 2</th>\n",
       "    </tr>\n",
       "  </thead>\n",
       "  <tbody>\n",
       "    <tr>\n",
       "      <th>Accuracy</th>\n",
       "      <td>0.807</td>\n",
       "      <td>0.7105</td>\n",
       "    </tr>\n",
       "    <tr>\n",
       "      <th>Error rate</th>\n",
       "      <td>0.193</td>\n",
       "      <td>0.2895</td>\n",
       "    </tr>\n",
       "    <tr>\n",
       "      <th>Sensitivity</th>\n",
       "      <td>0.2296</td>\n",
       "      <td>0.8994</td>\n",
       "    </tr>\n",
       "    <tr>\n",
       "      <th>Specificity</th>\n",
       "      <td>0.9899</td>\n",
       "      <td>0.6506</td>\n",
       "    </tr>\n",
       "    <tr>\n",
       "      <th>Precision</th>\n",
       "      <td>0.8786</td>\n",
       "      <td>0.4492</td>\n",
       "    </tr>\n",
       "    <tr>\n",
       "      <th>F1</th>\n",
       "      <td>0.364</td>\n",
       "      <td>0.5992</td>\n",
       "    </tr>\n",
       "    <tr>\n",
       "      <th>F2</th>\n",
       "      <td>0.1974</td>\n",
       "      <td>0.3777</td>\n",
       "    </tr>\n",
       "    <tr>\n",
       "      <th>F0.5</th>\n",
       "      <td>0.5612</td>\n",
       "      <td>0.4992</td>\n",
       "    </tr>\n",
       "    <tr>\n",
       "      <th>Overall Model Cost</th>\n",
       "      <td>-13130</td>\n",
       "      <td>-36950</td>\n",
       "    </tr>\n",
       "    <tr>\n",
       "      <th>Profit Per Customer</th>\n",
       "      <td>2.1332</td>\n",
       "      <td>6.0032</td>\n",
       "    </tr>\n",
       "  </tbody>\n",
       "</table>\n",
       "</div>"
      ],
      "text/plain": [
       "                      Value Value of Model 2\n",
       "Accuracy              0.807           0.7105\n",
       "Error rate            0.193           0.2895\n",
       "Sensitivity          0.2296           0.8994\n",
       "Specificity          0.9899           0.6506\n",
       "Precision            0.8786           0.4492\n",
       "F1                    0.364           0.5992\n",
       "F2                   0.1974           0.3777\n",
       "F0.5                 0.5612           0.4992\n",
       "Overall Model Cost   -13130           -36950\n",
       "Profit Per Customer  2.1332           6.0032"
      ]
     },
     "execution_count": 93,
     "metadata": {},
     "output_type": "execute_result"
    }
   ],
   "source": [
    "Model_Comparison_py"
   ]
  },
  {
   "cell_type": "markdown",
   "id": "ba495c54",
   "metadata": {},
   "source": [
    "Compare Model 1 to Model 2 we can see that Model 1 has higher accuracy and lower error rate while Model 2 scores higher on F-scores. Adding the unequal error costs makes Model 2 has decreased overall model cost and increased the Profit Per Customer by 181%. Because every true positive gives us $40, the models which tended to make more positive predictions did better. Sensitivity (recall), the proportion of all the positive responders that the model captured, thus turned out to be more important than specificity.Thus, accuracy is not the proper metric to compare models which have unequal error costs."
   ]
  },
  {
   "cell_type": "markdown",
   "id": "86766d7d",
   "metadata": {},
   "source": [
    "### R"
   ]
  },
  {
   "cell_type": "code",
   "execution_count": 94,
   "id": "816e2896",
   "metadata": {},
   "outputs": [],
   "source": [
    "%%R\n",
    "Model_Evaluation_Table_r <- Model_Evaluation_Table_r[,-1]"
   ]
  },
  {
   "cell_type": "code",
   "execution_count": 95,
   "id": "7361104c",
   "metadata": {},
   "outputs": [],
   "source": [
    "%%R\n",
    "Model_Comparison_r <- cbind(Model_Evaluation_Table_r,Model_Evaluation_Table_02_r[,2])"
   ]
  },
  {
   "cell_type": "code",
   "execution_count": 96,
   "id": "0eceabc3",
   "metadata": {},
   "outputs": [
    {
     "name": "stdout",
     "output_type": "stream",
     "text": [
      "                    Model_Evaluation_Table_r         \n",
      "Accuracy            \"0.8257\"                 \"0.735\" \n",
      "Error rate          \"0.1743\"                 \"0.265\" \n",
      "Sensitivity         \"0.2863\"                 \"0.9136\"\n",
      "Specificity         \"0.9966\"                 \"0.6784\"\n",
      "Precision           \"0.9636\"                 \"0.4737\"\n",
      "F1                  \"0.4414\"                 \"0.6239\"\n",
      "F2                  \"0.2627\"                 \"0.4017\"\n",
      "F0.5                \"0.6541\"                 \"0.5242\"\n",
      "Overall Model Cost  \"-16800\"                 \"-39090\"\n",
      "Profit Per Customer \"2.7295\"                 \"6.3509\"\n"
     ]
    }
   ],
   "source": [
    "%%R\n",
    "Model_Comparison_r"
   ]
  },
  {
   "cell_type": "markdown",
   "id": "e0707579",
   "metadata": {},
   "source": [
    "Same scenario with Python."
   ]
  },
  {
   "cell_type": "markdown",
   "id": "6d5695da",
   "metadata": {},
   "source": [
    "#### For the following exercises, work with the framingham_nb_training and framingham_nb_ test data sets. Use either Python or R to solve each problem."
   ]
  },
  {
   "cell_type": "markdown",
   "id": "e1378755",
   "metadata": {},
   "source": [
    "#### 31. Run the Naïve Bayes classifier to classify persons as living or dead based on sex and education."
   ]
  },
  {
   "cell_type": "markdown",
   "id": "e6590a75",
   "metadata": {},
   "source": [
    "### Python"
   ]
  },
  {
   "cell_type": "code",
   "execution_count": 97,
   "id": "092cfcd4",
   "metadata": {},
   "outputs": [
    {
     "data": {
      "text/html": [
       "<div>\n",
       "<style scoped>\n",
       "    .dataframe tbody tr th:only-of-type {\n",
       "        vertical-align: middle;\n",
       "    }\n",
       "\n",
       "    .dataframe tbody tr th {\n",
       "        vertical-align: top;\n",
       "    }\n",
       "\n",
       "    .dataframe thead th {\n",
       "        text-align: right;\n",
       "    }\n",
       "</style>\n",
       "<table border=\"1\" class=\"dataframe\">\n",
       "  <thead>\n",
       "    <tr style=\"text-align: right;\">\n",
       "      <th></th>\n",
       "      <th>Sex</th>\n",
       "      <th>Educ</th>\n",
       "      <th>Death</th>\n",
       "    </tr>\n",
       "  </thead>\n",
       "  <tbody>\n",
       "    <tr>\n",
       "      <th>0</th>\n",
       "      <td>2</td>\n",
       "      <td>3</td>\n",
       "      <td>0</td>\n",
       "    </tr>\n",
       "    <tr>\n",
       "      <th>1</th>\n",
       "      <td>2</td>\n",
       "      <td>2</td>\n",
       "      <td>0</td>\n",
       "    </tr>\n",
       "    <tr>\n",
       "      <th>2</th>\n",
       "      <td>1</td>\n",
       "      <td>1</td>\n",
       "      <td>0</td>\n",
       "    </tr>\n",
       "    <tr>\n",
       "      <th>3</th>\n",
       "      <td>2</td>\n",
       "      <td>1</td>\n",
       "      <td>0</td>\n",
       "    </tr>\n",
       "    <tr>\n",
       "      <th>4</th>\n",
       "      <td>2</td>\n",
       "      <td>1</td>\n",
       "      <td>0</td>\n",
       "    </tr>\n",
       "  </tbody>\n",
       "</table>\n",
       "</div>"
      ],
      "text/plain": [
       "   Sex  Educ  Death\n",
       "0    2     3      0\n",
       "1    2     2      0\n",
       "2    1     1      0\n",
       "3    2     1      0\n",
       "4    2     1      0"
      ]
     },
     "execution_count": 97,
     "metadata": {},
     "output_type": "execute_result"
    }
   ],
   "source": [
    "framingham_nb_train_py = pd.read_csv(\"D:/2021-Spring-textbooks/ADS-502/Website Data Sets/framingham_nb_training.csv\")\n",
    "framingham_nb_test_py = pd.read_csv(\"D:/2021-Spring-textbooks/ADS-502/Website Data Sets/framingham_nb_test.csv\")\n",
    "\n",
    "framingham_nb_train_py.head()"
   ]
  },
  {
   "cell_type": "code",
   "execution_count": 98,
   "id": "960a72c3",
   "metadata": {},
   "outputs": [
    {
     "data": {
      "text/plain": [
       "55.0"
      ]
     },
     "execution_count": 98,
     "metadata": {},
     "output_type": "execute_result"
    }
   ],
   "source": [
    "# Check for if the true repsonse has a good proportion\n",
    "framingham_nb_train_py['Death'].sum()*100 / framingham_nb_train_py.shape[0]"
   ]
  },
  {
   "cell_type": "markdown",
   "id": "6eb0c117",
   "metadata": {},
   "source": [
    "True response rate is 55%, no need to rebalance the data. Move on."
   ]
  },
  {
   "cell_type": "code",
   "execution_count": 99,
   "id": "571165f4",
   "metadata": {},
   "outputs": [],
   "source": [
    "# Split the predictors and target in the training set\n",
    "X_framingham_train_py = framingham_nb_train_py[['Sex', 'Educ']]\n",
    "y_framingham_train_py = framingham_nb_train_py['Death']"
   ]
  },
  {
   "cell_type": "code",
   "execution_count": 100,
   "id": "88228119",
   "metadata": {},
   "outputs": [],
   "source": [
    "# Convert categorical data into dummy variables for both 'Sex' and 'Educ' for the training set\n",
    "X_framingham_train_processed_py = pd.DataFrame()\n",
    "\n",
    "for var in X_framingham_train_py.columns:\n",
    "    dummies = pd.get_dummies(X_framingham_train_py[var])\n",
    "    X_framingham_train_processed_py = pd.concat([X_framingham_train_processed_py, dummies], axis=1) \n"
   ]
  },
  {
   "cell_type": "code",
   "execution_count": 101,
   "id": "d204d8db",
   "metadata": {
    "scrolled": true
   },
   "outputs": [],
   "source": [
    "# Run Naive Bayers algorithm using training set\n",
    "nb = MultinomialNB().fit(X_framingham_train_processed_py, y_framingham_train_py)"
   ]
  },
  {
   "cell_type": "code",
   "execution_count": 102,
   "id": "88228dca",
   "metadata": {},
   "outputs": [],
   "source": [
    "# Split the predictors and target in the test set \n",
    "X_framingham_test_py = framingham_nb_test_py[['Sex', 'Educ']]\n",
    "y_framingham_test_py = framingham_nb_test_py['Death']"
   ]
  },
  {
   "cell_type": "code",
   "execution_count": 103,
   "id": "b845072a",
   "metadata": {},
   "outputs": [],
   "source": [
    "# Convert categorical data into dummy variables for both 'Sex' and 'Educ' for the test set\n",
    "X_framingham_test_processed_py = pd.DataFrame()\n",
    "\n",
    "for var in X_framingham_test_py.columns:\n",
    "    dummies = pd.get_dummies(X_framingham_test_py[var])\n",
    "    X_framingham_test_processed_py = pd.concat([X_framingham_test_processed_py, dummies], axis=1) "
   ]
  },
  {
   "cell_type": "code",
   "execution_count": 104,
   "id": "87087d77",
   "metadata": {},
   "outputs": [
    {
     "data": {
      "text/plain": [
       "array([1, 1, 1, 1, 0, 1, 1, 1, 1, 1, 1, 1, 1, 0, 1, 1, 1, 0, 1, 0, 0, 0,\n",
       "       1, 0, 1, 0, 0, 1, 0, 1, 0, 0, 0, 1, 0, 1, 1, 1, 1, 1, 1, 0, 0, 1,\n",
       "       1, 1, 0, 1, 1, 1, 1, 0, 1, 1, 0, 0, 0, 1, 1, 1, 1, 1, 1, 1, 1, 0,\n",
       "       0, 1, 0, 0, 1, 1, 0, 0, 1, 0, 1, 0, 0, 1, 0, 1, 1, 0, 1, 1, 1, 1,\n",
       "       1, 1, 1, 0, 0, 1, 0, 1, 0, 1, 1, 1, 1, 0, 0, 0, 1, 1, 1, 1, 1, 0,\n",
       "       1, 1, 0, 1, 0, 1, 1, 1, 1, 1, 1, 0, 1, 1, 1, 1, 0, 1, 1, 0, 1, 1,\n",
       "       0, 0, 1, 1, 1, 1, 0, 0, 1, 0, 1, 1, 1, 0, 0, 0, 1, 0, 1, 0, 1, 1,\n",
       "       1, 0, 0, 0, 1, 0, 0, 1, 1, 0, 0, 1, 1, 1, 1, 1, 0, 1, 1, 1, 0, 1,\n",
       "       1, 0, 0, 1, 1, 1, 0, 0, 1, 1, 1, 0, 0, 0, 1, 0, 0, 0, 0, 1, 1, 1,\n",
       "       1, 0, 0, 0, 1, 0, 1, 0, 1, 1, 1, 1, 1, 1, 1, 0, 0, 1, 1, 1, 0, 0,\n",
       "       0, 1, 0, 0, 0, 0, 1, 1, 1, 1, 1, 0, 1, 0, 1, 0, 0, 1, 1, 1, 0, 0,\n",
       "       1, 0, 0, 1, 1, 1, 1, 0, 1, 1, 1, 0, 1, 1, 1, 0, 1, 0, 1, 1, 1, 1,\n",
       "       1, 0, 0, 0, 1, 1, 0, 1, 1, 0, 1, 0, 1, 1, 0, 0, 0, 1, 0, 1, 1, 0,\n",
       "       1, 1, 1, 1, 1, 0, 1, 0, 1, 0, 0, 0, 1, 1, 0, 1, 1, 0, 1, 1, 1, 1,\n",
       "       1, 1, 1, 1, 1, 1, 1, 0, 1, 1, 1, 1, 0, 0, 0, 1, 0, 0, 0, 1, 0, 1,\n",
       "       1, 1, 1, 1, 0, 1, 1, 1, 1, 1, 1, 1, 1, 1, 1, 0, 0, 0, 0, 1, 0, 0,\n",
       "       1, 1, 0, 1, 1, 1, 1, 0, 1, 0, 1, 1, 1, 0, 0, 1, 1, 1, 0, 1, 1, 1,\n",
       "       1, 0, 1, 0, 1, 0, 1, 0, 0, 1, 1, 1, 0, 1, 0, 1, 1, 1, 1, 1, 1, 0,\n",
       "       1, 1, 0, 1, 0, 1, 1, 0, 1, 1, 1, 0, 0, 0, 0, 1, 1, 0, 0, 0, 1, 0,\n",
       "       1, 1, 1, 1, 0, 1, 0, 1, 1, 1, 1, 1, 0, 1, 0, 1, 0, 1, 0, 1, 1, 1,\n",
       "       1, 1, 0, 0, 0, 1, 1, 1, 0, 0, 1, 0, 1, 1, 0, 0, 0, 1, 0, 1, 1, 0,\n",
       "       0, 1, 1, 0, 1, 1, 1, 1, 0, 0, 0, 1, 0, 1, 0, 1, 1, 0, 1, 1, 0, 0,\n",
       "       1, 1, 0, 0, 0, 0, 1, 0, 1, 1, 1, 1, 1, 1, 1, 0, 1, 0, 0, 1, 1, 1,\n",
       "       1, 0, 0, 1, 0, 1, 0, 0, 1, 0, 1, 0, 0, 1, 0, 1, 1, 1, 1, 1, 0, 1,\n",
       "       1, 0, 0, 1, 1, 1, 1, 1, 1, 0, 1, 1, 1, 1, 0, 0, 1, 1, 0, 0, 1, 1,\n",
       "       1, 0, 1, 0, 1, 1, 1, 1, 0, 1, 0, 1, 1, 1, 1, 1, 1, 0, 1, 1, 1, 1,\n",
       "       1, 1, 1, 1, 1, 1, 1, 1, 1, 1, 1, 1, 0, 1, 1, 1, 1, 0, 1, 1, 0, 1,\n",
       "       1, 0, 0, 1, 1, 1, 1, 1, 0, 1, 1, 1, 1, 1, 1, 0, 1, 1, 1, 0, 1, 1,\n",
       "       1, 1, 1, 0, 0, 1, 1, 1, 1, 1, 0, 1, 1, 1, 1, 1, 1, 1, 0, 0, 0, 1,\n",
       "       1, 1, 1, 1, 1, 1, 1, 1, 1, 1, 0, 1, 1, 1, 0, 1, 1, 1, 1, 0, 1, 1,\n",
       "       0, 1, 0, 0, 1, 1, 1, 1, 1, 1, 0, 1, 1, 1, 0, 1, 1, 1, 1, 1, 0, 1,\n",
       "       1, 1, 0, 1, 1, 1, 0, 0, 1, 1, 0, 1, 1, 1, 1, 0, 1, 1, 1, 1, 1, 1,\n",
       "       1, 1, 1, 1, 0, 1, 1, 1, 0, 1, 0, 1, 1, 0, 1, 1, 1, 1, 1, 1, 1, 1,\n",
       "       0, 1, 1, 1, 1, 1, 1, 1, 1, 1, 1, 1, 0, 1, 1, 1, 1, 0, 1, 1, 1, 1,\n",
       "       1, 1, 1, 0, 1, 1, 1, 1, 1, 1, 1, 0, 1, 0, 1, 0, 1, 1, 1, 1, 1, 1,\n",
       "       0, 0, 1, 1, 0, 1, 1, 0, 1, 0, 1, 1, 0, 0, 1, 0, 1, 0, 1, 1, 1, 0,\n",
       "       1, 0, 1, 1, 0, 1, 1, 0, 1, 1, 1, 0, 1, 1, 1, 1, 0, 1, 1, 1, 1, 1,\n",
       "       1, 1, 0, 0, 0, 0, 1, 1, 1, 1, 1, 1, 1, 1, 1, 0, 1, 1, 1, 1, 1, 1,\n",
       "       0, 0, 1, 1, 1, 0, 1, 1, 1, 1, 1, 0, 0, 0, 1, 1, 1, 1, 0, 1, 1, 0,\n",
       "       0, 1, 0, 1, 0, 1, 1, 1, 1, 1, 1, 1, 1, 1, 1, 1, 1, 1, 1, 1, 1, 1,\n",
       "       1, 0, 1, 1, 1, 1, 1, 0, 1, 1, 0, 0, 1, 0, 1, 1, 1, 1, 1, 1, 1, 1,\n",
       "       1, 1, 1, 1, 1, 1, 1, 1, 1, 1, 1, 1, 1, 1, 1, 0, 1, 1, 1, 1, 1, 1,\n",
       "       1, 1, 0, 1, 1, 1, 1, 0, 0, 0, 1, 0, 1, 1, 1, 1, 1, 0, 1, 1, 0, 1,\n",
       "       0, 1, 1, 1, 1, 1, 1, 1, 1, 1, 1, 1, 1, 1, 1, 1, 1, 0, 1, 1, 1, 1,\n",
       "       0, 0, 1, 1, 0, 1, 1, 1, 1, 1, 1, 1, 1, 0, 1, 1, 1, 1, 1, 1, 1, 1,\n",
       "       1, 1, 0, 1, 0, 1, 1, 1, 1, 0], dtype=int64)"
      ]
     },
     "execution_count": 104,
     "metadata": {},
     "output_type": "execute_result"
    }
   ],
   "source": [
    "predictions_nb_py = nb.predict(X_framingham_test_processed_py)\n",
    "predictions_nb_py"
   ]
  },
  {
   "cell_type": "markdown",
   "id": "b941ded8",
   "metadata": {},
   "source": [
    "### R\n"
   ]
  },
  {
   "cell_type": "code",
   "execution_count": 105,
   "id": "f84527a7",
   "metadata": {},
   "outputs": [
    {
     "name": "stdout",
     "output_type": "stream",
     "text": [
      "  Sex Educ Death\n",
      "1   2    3     0\n",
      "2   2    2     0\n",
      "3   1    1     0\n",
      "4   2    1     0\n",
      "5   2    1     0\n",
      "6   2    3     0\n"
     ]
    }
   ],
   "source": [
    "%%R\n",
    "\n",
    "framingham_nb_train_r <- read.csv(file = \"D:/2021-Spring-textbooks/ADS-502/Website Data Sets/framingham_nb_training.csv\")\n",
    "framingham_nb_test_r <- read.csv(file = \"D:/2021-Spring-textbooks/ADS-502/Website Data Sets/framingham_nb_training.csv\")\n",
    "\n",
    "head(framingham_nb_train_r)"
   ]
  },
  {
   "cell_type": "code",
   "execution_count": 106,
   "id": "b8a6d03c",
   "metadata": {},
   "outputs": [],
   "source": [
    "%%R\n",
    "\n",
    "cols = c('Sex', 'Educ')\n",
    "framingham_nb_train_r[, cols] <- lapply(framingham_nb_train_r[, cols], as.factor)\n",
    "\n",
    "# Or we could use this one by one\n",
    "#framingham_nb_train_r$Sex <- factor(framingham_nb_train_r$Sex)\n",
    "#framingham_nb_train_r$Educ <- factor(framingham_nb_train_r$Educ)"
   ]
  },
  {
   "cell_type": "code",
   "execution_count": 107,
   "id": "883dabe6",
   "metadata": {},
   "outputs": [],
   "source": [
    "%%R\n",
    "# Run the model\n",
    "\n",
    "nb <- naiveBayes(formula = Death ~ Sex + Educ, data = framingham_nb_train_r)"
   ]
  },
  {
   "cell_type": "code",
   "execution_count": 108,
   "id": "4ace87b9",
   "metadata": {},
   "outputs": [],
   "source": [
    "%%R\n",
    "\n",
    "# Process the test set the same way as training set\n",
    "framingham_nb_test_r[, cols] <- lapply(framingham_nb_test_r[, cols], as.factor)"
   ]
  },
  {
   "cell_type": "code",
   "execution_count": 109,
   "id": "f3562eda",
   "metadata": {},
   "outputs": [
    {
     "name": "stdout",
     "output_type": "stream",
     "text": [
      "   [1] 0 0 1 1 1 0 1 1 1 1 0 1 1 0 0 0 0 0 1 0 1 0 0 1 1 1 1 1 0 0 1 1 1 0 1 0 0\n",
      "  [38] 1 1 1 0 1 1 0 0 0 1 1 1 0 1 1 1 0 1 1 1 0 1 0 1 1 0 1 0 1 1 0 0 1 1 1 1 1\n",
      "  [75] 1 0 0 0 0 0 1 0 1 0 1 0 1 1 1 1 1 1 1 0 1 1 0 0 0 1 1 1 1 1 1 1 1 0 1 1 0\n",
      " [112] 1 1 1 1 1 0 1 1 1 1 1 0 1 0 0 1 1 1 0 1 1 1 1 0 0 1 0 1 1 0 0 1 1 1 0 1 1\n",
      " [149] 0 0 0 1 1 1 0 0 0 0 1 0 1 0 0 1 1 1 0 1 1 0 1 1 1 0 1 1 0 1 0 0 1 0 1 1 1\n",
      " [186] 0 0 0 1 0 1 0 1 1 1 0 1 1 1 0 0 1 1 1 0 1 1 1 0 0 1 1 0 1 1 0 0 1 0 1 1 0\n",
      " [223] 0 1 1 0 0 1 1 1 1 1 1 1 1 1 1 0 1 1 0 0 0 0 1 1 1 1 1 0 1 0 0 0 1 1 1 0 0\n",
      " [260] 0 1 1 1 1 1 0 1 1 1 0 1 1 1 1 1 1 0 1 0 0 1 1 1 0 1 1 0 1 1 0 1 1 1 0 1 1\n",
      " [297] 1 1 1 0 1 1 1 1 1 1 1 0 1 1 1 0 0 1 1 1 1 0 1 1 1 1 1 1 1 1 1 1 1 1 1 0 0\n",
      " [334] 0 0 0 1 1 1 1 0 0 1 0 1 1 0 0 1 0 0 1 1 0 1 0 1 0 0 0 1 0 0 0 1 1 0 0 1 0\n",
      " [371] 1 1 0 1 1 1 1 0 1 0 1 0 0 1 1 1 1 0 1 1 1 1 1 0 0 0 1 1 0 0 0 1 1 0 1 0 1\n",
      " [408] 1 0 0 0 0 1 0 0 1 1 1 0 0 1 0 1 1 1 1 0 1 1 0 1 1 0 1 0 1 1 1 1 1 1 1 1 1\n",
      " [445] 1 1 1 1 1 0 1 1 0 1 1 1 1 1 1 1 0 1 1 0 1 1 0 1 0 1 1 1 1 1 1 1 1 0 1 0 1\n",
      " [482] 1 1 1 1 1 0 1 1 1 1 1 1 0 0 1 1 1 0 1 0 0 1 0 1 1 1 0 1 1 0 1 1 1 0 1 1 1\n",
      " [519] 1 1 0 0 0 1 0 1 1 0 0 1 1 1 1 1 1 0 0 1 1 1 1 0 0 0 1 0 0 1 1 1 1 1 1 0 1\n",
      " [556] 1 1 1 1 1 1 1 1 1 1 1 0 0 1 0 1 1 0 1 0 0 0 1 1 1 1 1 1 1 1 1 1 1 1 1 0 1\n",
      " [593] 1 1 1 1 0 1 1 1 1 1 1 1 1 1 1 0 0 0 0 0 1 0 1 1 0 0 0 1 1 1 1 1 0 1 1 0 1\n",
      " [630] 1 1 1 1 0 1 0 1 1 1 1 1 0 1 0 1 1 1 1 1 1 1 1 1 1 1 1 1 1 1 1 1 1 0 1 1 1\n",
      " [667] 1 1 0 0 0 1 1 1 0 1 0 1 1 1 1 1 1 1 1 1 1 1 1 0 1 1 1 1 1 1 0 1 1 1 0 1 1\n",
      " [704] 1 1 1 1 1 1 0 1 0 1 1 0 1 1 1 1 0 1 0 1 1 1 1 1 1 1 1 1 1 1 1 0 0 1 0 1 1\n",
      " [741] 1 1 1 0 1 1 1 0 1 1 1 1 1 0 1 1 1 1 0 1 1 1 1 1 0 1 0 1 0 1 1 0 1 1 1 1 1\n",
      " [778] 1 1 1 1 1 1 1 0 1 0 0 0 1 1 1 1 1 1 0 0 1 1 0 1 1 0 1 1 1 0 1 1 1 1 0 0 1\n",
      " [815] 0 1 1 0 1 0 1 1 1 1 1 1 1 1 1 1 1 1 1 1 0 1 1 0 1 1 1 1 0 0 1 1 1 1 1 1 1\n",
      " [852] 1 1 0 1 1 1 0 1 1 0 1 1 0 1 1 1 1 0 1 1 1 1 1 1 0 1 1 1 1 1 1 1 1 1 1 1 1\n",
      " [889] 1 1 1 1 1 1 0 0 1 1 0 1 1 1 1 1 1 1 1 1 1 1 1 1 1 1 1 1 0 1 1 0 0 1 1 1 1\n",
      " [926] 1 1 1 1 1 0 0 1 1 1 1 1 0 1 1 1 1 1 1 0 1 1 0 1 1 1 1 1 1 1 0 1 0 1 1 1 1\n",
      " [963] 1 1 1 1 1 0 1 1 1 1 1 1 1 1 1 1 0 1 1 1 1 1 1 1 1 1 1 1 1 1 1 1 1 1 0 1 0\n",
      "[1000] 0\n",
      "Levels: 0 1\n"
     ]
    }
   ],
   "source": [
    "%%R\n",
    "predictions_nb_r <- predict(nb, framingham_nb_test_r)\n",
    "predictions_nb_r"
   ]
  },
  {
   "cell_type": "markdown",
   "id": "196076f6",
   "metadata": {},
   "source": [
    "#### 32. Evaluate the Naïve Bayes model on the framingham_nb_test data set. Display the results in a contingency table. Edit the row and column names of the table to make the table more readable. Include a total row and column."
   ]
  },
  {
   "cell_type": "markdown",
   "id": "ff5881c9",
   "metadata": {},
   "source": [
    "### Python"
   ]
  },
  {
   "cell_type": "code",
   "execution_count": 110,
   "id": "705cb096",
   "metadata": {},
   "outputs": [],
   "source": [
    "cm = confusion_matrix(y_framingham_test_py, predictions_nb_py)"
   ]
  },
  {
   "cell_type": "code",
   "execution_count": 111,
   "id": "0014eccf",
   "metadata": {},
   "outputs": [
    {
     "data": {
      "text/plain": [
       "array([[203, 322],\n",
       "       [105, 370]], dtype=int64)"
      ]
     },
     "execution_count": 111,
     "metadata": {},
     "output_type": "execute_result"
    }
   ],
   "source": [
    "cm"
   ]
  },
  {
   "cell_type": "code",
   "execution_count": 112,
   "id": "72353046",
   "metadata": {},
   "outputs": [
    {
     "name": "stdout",
     "output_type": "stream",
     "text": [
      "TN:  203 \n",
      "FP:  322 \n",
      "FN:  105 \n",
      "TP:  370\n"
     ]
    }
   ],
   "source": [
    "TN_py = cm[0][0]\n",
    "FP_py = cm[0][1]\n",
    "FN_py = cm[1][0]\n",
    "TP_py = cm[1][1]\n",
    "\n",
    "print('TN: ', TN_py,\n",
    "      '\\nFP: ', FP_py,\n",
    "      '\\nFN: ', FN_py,\n",
    "      '\\nTP: ', TP_py)"
   ]
  },
  {
   "cell_type": "code",
   "execution_count": 113,
   "id": "02916832",
   "metadata": {},
   "outputs": [
    {
     "data": {
      "text/html": [
       "<div>\n",
       "<style scoped>\n",
       "    .dataframe tbody tr th:only-of-type {\n",
       "        vertical-align: middle;\n",
       "    }\n",
       "\n",
       "    .dataframe tbody tr th {\n",
       "        vertical-align: top;\n",
       "    }\n",
       "\n",
       "    .dataframe thead th {\n",
       "        text-align: right;\n",
       "    }\n",
       "</style>\n",
       "<table border=\"1\" class=\"dataframe\">\n",
       "  <thead>\n",
       "    <tr style=\"text-align: right;\">\n",
       "      <th></th>\n",
       "      <th>Predicted:0</th>\n",
       "      <th>Predicted:1</th>\n",
       "      <th>Total</th>\n",
       "    </tr>\n",
       "  </thead>\n",
       "  <tbody>\n",
       "    <tr>\n",
       "      <th>Actual:0</th>\n",
       "      <td>203</td>\n",
       "      <td>322</td>\n",
       "      <td>525</td>\n",
       "    </tr>\n",
       "    <tr>\n",
       "      <th>Actual:1</th>\n",
       "      <td>105</td>\n",
       "      <td>370</td>\n",
       "      <td>475</td>\n",
       "    </tr>\n",
       "    <tr>\n",
       "      <th>Total</th>\n",
       "      <td>308</td>\n",
       "      <td>692</td>\n",
       "      <td>1000</td>\n",
       "    </tr>\n",
       "  </tbody>\n",
       "</table>\n",
       "</div>"
      ],
      "text/plain": [
       "          Predicted:0  Predicted:1  Total\n",
       "Actual:0          203          322    525\n",
       "Actual:1          105          370    475\n",
       "Total             308          692   1000"
      ]
     },
     "execution_count": 113,
     "metadata": {},
     "output_type": "execute_result"
    }
   ],
   "source": [
    "col_names = ['Predicted:0', 'Predicted:1', 'Total']\n",
    "row_names =['Actual:0', 'Actual:1','Total']\n",
    "matrix = np.reshape((TN_py,FP_py,TN_py+FP_py,FN_py,TP_py,FN_py+TP_py,TN_py+FN_py,FP_py+TP_py,TN_py+FN_py+TP_py+FP_py),(3,3))\n",
    "cm_py = pd.DataFrame(matrix,columns=col_names, index=row_names)\n",
    "cm_py\n"
   ]
  },
  {
   "cell_type": "markdown",
   "id": "19b1c0e5",
   "metadata": {},
   "source": [
    "### R"
   ]
  },
  {
   "cell_type": "code",
   "execution_count": 114,
   "id": "1ff2a071",
   "metadata": {},
   "outputs": [],
   "source": [
    "%%R\n",
    "# Build a contingency table and compare the acutal Income in test data set with predicted Income from NB\n",
    "\n",
    "t3 <‐ table(framingham_nb_test_r$Death, predictions_nb_r)\n",
    "row.names(t3) <‐ c(\"Actual: 0\", \"Actual: 1\")\n",
    "colnames(t3) <‐ c(\"Predicted: 0\", \"Predicted: 1\")\n",
    "t3 <‐ addmargins(A = t3, FUN = list(Total = sum), quiet = TRUE)\n",
    "\n"
   ]
  },
  {
   "cell_type": "code",
   "execution_count": 115,
   "id": "d7a00f4e",
   "metadata": {},
   "outputs": [
    {
     "name": "stdout",
     "output_type": "stream",
     "text": [
      "           predictions_nb_r\n",
      "            Predicted: 0 Predicted: 1 Total\n",
      "  Actual: 0          167          283   450\n",
      "  Actual: 1          122          428   550\n",
      "  Total              289          711  1000\n"
     ]
    }
   ],
   "source": [
    "%%R\n",
    "t3"
   ]
  },
  {
   "cell_type": "code",
   "execution_count": 116,
   "id": "c7273a82",
   "metadata": {},
   "outputs": [],
   "source": [
    "%%R\n",
    "TN_r = t3[1:1,1:1]\n",
    "FP_r = t3[1:1,2:2]\n",
    "FN_r = t3[2:2,1:1]\n",
    "TP_r = t3[2:2,2:2]"
   ]
  },
  {
   "cell_type": "code",
   "execution_count": 117,
   "id": "22c4300d",
   "metadata": {},
   "outputs": [
    {
     "name": "stdout",
     "output_type": "stream",
     "text": [
      "TN: 283 \n",
      "FP: 283 \n",
      "FN: 122 \n",
      "TP: 428"
     ]
    }
   ],
   "source": [
    "%%R\n",
    "cat(paste(\"TN:\", FP_r,\"\\nFP:\", FP_r,\"\\nFN:\", FN_r,\"\\nTP:\", TP_r))"
   ]
  },
  {
   "cell_type": "markdown",
   "id": "ba6da4cc",
   "metadata": {},
   "source": [
    "#### 33. According to your table in the previous exercise, find the following values for the Naïve Bayes model:\n",
    "\n",
    "#### a. Accuracy\n",
    "#### b. Error rate"
   ]
  },
  {
   "cell_type": "markdown",
   "id": "d6c0293e",
   "metadata": {},
   "source": [
    "### Python"
   ]
  },
  {
   "cell_type": "code",
   "execution_count": 118,
   "id": "0b5e45a6",
   "metadata": {},
   "outputs": [
    {
     "name": "stdout",
     "output_type": "stream",
     "text": [
      "Accuracy for NB model is:  0.573 \n",
      "Error Rate for NB model is:  0.427\n"
     ]
    }
   ],
   "source": [
    "print(\"Accuracy for NB model is: \",round((TN_py+TP_py)/(TN_py+TP_py+FN_py+FP_py),4),\n",
    "     '\\nError Rate for NB model is: ', round(1-(TN_py+TP_py)/(TN_py+TP_py+FN_py+FP_py),4))"
   ]
  },
  {
   "cell_type": "markdown",
   "id": "1e9641de",
   "metadata": {},
   "source": [
    "### R"
   ]
  },
  {
   "cell_type": "code",
   "execution_count": 119,
   "id": "11cc1eff",
   "metadata": {},
   "outputs": [
    {
     "name": "stdout",
     "output_type": "stream",
     "text": [
      "Accuracy for NB model is:  0.595 \n",
      "Error Rate for NB model is:  0.405"
     ]
    }
   ],
   "source": [
    "%%R\n",
    "cat(paste(\"Accuracy for NB model is: \", round((TN_r+TP_r)/(TN_r+TP_r+FN_r+FP_r),4),\n",
    "          \"\\nError Rate for NB model is: \", round(1-(TN_r+TP_r)/(TN_r+TP_r+FN_r+FP_r),4)))"
   ]
  },
  {
   "cell_type": "markdown",
   "id": "f4c7b782",
   "metadata": {},
   "source": [
    "#### 34. According to your contingency table, find the following values for the Naïve Bayes model:\n",
    "#### a. How often it correctly classifies dead persons.\n",
    "#### b. How often it correctly classifies living persons."
   ]
  },
  {
   "cell_type": "markdown",
   "id": "9f904ced",
   "metadata": {},
   "source": [
    "### Python"
   ]
  },
  {
   "cell_type": "code",
   "execution_count": 120,
   "id": "e2ccc835",
   "metadata": {},
   "outputs": [
    {
     "name": "stdout",
     "output_type": "stream",
     "text": [
      "38.67 % chance of correctly classifies dead persons. This is also the Specificity\n"
     ]
    }
   ],
   "source": [
    "print(round(TN_py*100/(TN_py+FP_py),2),\"% chance of correctly classifies dead persons. This is also the Specificity\")"
   ]
  },
  {
   "cell_type": "code",
   "execution_count": 121,
   "id": "d0b2092a",
   "metadata": {},
   "outputs": [
    {
     "name": "stdout",
     "output_type": "stream",
     "text": [
      "77.89 % chance of correctly classifies living persons. This is also the Sensitivity\n"
     ]
    }
   ],
   "source": [
    "print(round(TP_py*100/(TP_py+FN_py),2),\"% chance of correctly classifies living persons. This is also the Sensitivity\")"
   ]
  },
  {
   "cell_type": "markdown",
   "id": "dd31ef9f",
   "metadata": {},
   "source": [
    "### R"
   ]
  },
  {
   "cell_type": "code",
   "execution_count": 122,
   "id": "17c94321",
   "metadata": {},
   "outputs": [
    {
     "name": "stdout",
     "output_type": "stream",
     "text": [
      "37.11 % chance of correctly classifies dead persons. This is also the Specificity"
     ]
    }
   ],
   "source": [
    "%%R\n",
    "cat(round(TN_r*100/(TN_r+FP_r),2),\"% chance of correctly classifies dead persons. This is also the Specificity\")"
   ]
  },
  {
   "cell_type": "code",
   "execution_count": 123,
   "id": "f7626607",
   "metadata": {},
   "outputs": [
    {
     "name": "stdout",
     "output_type": "stream",
     "text": [
      "77.82 % chance of correctly classifies living persons. This is also the Sensitivity"
     ]
    }
   ],
   "source": [
    "%%R\n",
    "cat(round(TP_r*100/(TP_r+FN_r),2),\"% chance of correctly classifies living persons. This is also the Sensitivity\")"
   ]
  }
 ],
 "metadata": {
  "kernelspec": {
   "display_name": "Python 3",
   "language": "python",
   "name": "python3"
  },
  "language_info": {
   "codemirror_mode": {
    "name": "ipython",
    "version": 3
   },
   "file_extension": ".py",
   "mimetype": "text/x-python",
   "name": "python",
   "nbconvert_exporter": "python",
   "pygments_lexer": "ipython3",
   "version": "3.8.10"
  }
 },
 "nbformat": 4,
 "nbformat_minor": 5
}
