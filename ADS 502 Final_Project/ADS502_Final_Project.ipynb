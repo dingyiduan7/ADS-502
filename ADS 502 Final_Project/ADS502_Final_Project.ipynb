{
 "cells": [
  {
   "cell_type": "markdown",
   "id": "6a870ebf",
   "metadata": {},
   "source": [
    "# ADS 502 Final Project\n",
    "# \n",
    "## Heart Failure Detection\n",
    "# \n",
    "### Team 4"
   ]
  },
  {
   "cell_type": "code",
   "execution_count": 1,
   "id": "62192dd5",
   "metadata": {},
   "outputs": [],
   "source": [
    "import warnings\n",
    "warnings.filterwarnings('ignore')"
   ]
  },
  {
   "cell_type": "code",
   "execution_count": 2,
   "id": "98a8e4ea",
   "metadata": {},
   "outputs": [],
   "source": [
    "import numpy as np\n",
    "import pandas as pd\n",
    "import statsmodels.api as sm\n",
    "import statsmodels.tools.tools as stattools\n",
    "\n",
    "from scipy import stats\n",
    "from sklearn.metrics import confusion_matrix\n",
    "from sklearn.ensemble import RandomForestClassifier\n",
    "from statsmodels.stats.outliers_influence import variance_inflation_factor"
   ]
  },
  {
   "cell_type": "code",
   "execution_count": null,
   "id": "4da13d23",
   "metadata": {},
   "outputs": [],
   "source": [
    "clothing_sales_test_py = pd.read_csv(\"D:/2021-Spring-textbooks/ADS-502/Website Data Sets/clothing_sales_test.csv\")"
   ]
  }
 ],
 "metadata": {
  "kernelspec": {
   "display_name": "Python 3",
   "language": "python",
   "name": "python3"
  },
  "language_info": {
   "codemirror_mode": {
    "name": "ipython",
    "version": 3
   },
   "file_extension": ".py",
   "mimetype": "text/x-python",
   "name": "python",
   "nbconvert_exporter": "python",
   "pygments_lexer": "ipython3",
   "version": "3.8.10"
  }
 },
 "nbformat": 4,
 "nbformat_minor": 5
}
